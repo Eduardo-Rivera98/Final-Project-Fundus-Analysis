{
  "nbformat": 4,
  "nbformat_minor": 0,
  "metadata": {
    "colab": {
      "name": "Model-Age-Estimation.ipynb",
      "provenance": [],
      "machine_shape": "hm",
      "collapsed_sections": [],
      "authorship_tag": "ABX9TyOTVOhj224dhTeKRpzWQZH2",
      "include_colab_link": true
    },
    "kernelspec": {
      "name": "python3",
      "display_name": "Python 3"
    },
    "language_info": {
      "name": "python"
    },
    "accelerator": "GPU"
  },
  "cells": [
    {
      "cell_type": "markdown",
      "metadata": {
        "id": "view-in-github",
        "colab_type": "text"
      },
      "source": [
        "<a href=\"https://colab.research.google.com/github/Eduardo-Rivera98/Final-Project-Fundus-Analysis/blob/main/Model_Age_Estimation.ipynb\" target=\"_parent\"><img src=\"https://colab.research.google.com/assets/colab-badge.svg\" alt=\"Open In Colab\"/></a>"
      ]
    },
    {
      "cell_type": "code",
      "execution_count": null,
      "metadata": {
        "id": "IxYw0CWUpGd7"
      },
      "outputs": [],
      "source": [
        "from numpy import load\n",
        "import h5py\n",
        "import keras\n",
        "import tensorflow as tf\n",
        "from tensorflow.keras.models import Model\n",
        "from tensorflow.keras.layers import Input\n",
        "from tensorflow.keras.layers import Dense\n",
        "from tensorflow.keras.layers import Flatten , Conv1D\n",
        "from tensorflow.keras.layers import concatenate,Activation\n",
        "from tensorflow.keras.layers import Conv2D\n",
        "from tensorflow.keras.layers import MaxPooling2D,MaxPooling1D\n",
        "from tensorflow.keras.utils import plot_model\n",
        "from keras.wrappers.scikit_learn import KerasClassifier\n",
        "from sklearn.model_selection import GridSearchCV\n",
        "from tensorflow.keras import metrics"
      ]
    },
    {
      "cell_type": "code",
      "source": [
        "from google.colab import drive\n",
        "drive.mount('/content/drive')"
      ],
      "metadata": {
        "colab": {
          "base_uri": "https://localhost:8080/"
        },
        "id": "7xzRsSOwpL0r",
        "outputId": "d04dc00c-216f-4855-e323-99e16ed27c42"
      },
      "execution_count": null,
      "outputs": [
        {
          "output_type": "stream",
          "name": "stdout",
          "text": [
            "Drive already mounted at /content/drive; to attempt to forcibly remount, call drive.mount(\"/content/drive\", force_remount=True).\n"
          ]
        }
      ]
    },
    {
      "cell_type": "code",
      "source": [
        "x=load('drive/MyDrive/x5.npy')"
      ],
      "metadata": {
        "id": "ZCLeWs0spNrn"
      },
      "execution_count": null,
      "outputs": []
    },
    {
      "cell_type": "code",
      "source": [
        "y= load('y5.npy')"
      ],
      "metadata": {
        "id": "VRusqEyVpsnI"
      },
      "execution_count": null,
      "outputs": []
    },
    {
      "cell_type": "code",
      "source": [
        "\n",
        "y.shape"
      ],
      "metadata": {
        "colab": {
          "base_uri": "https://localhost:8080/"
        },
        "id": "_P_CP3ZciTzF",
        "outputId": "c64bbffd-18fd-476e-dbcd-055202ef6d5e"
      },
      "execution_count": null,
      "outputs": [
        {
          "output_type": "execute_result",
          "data": {
            "text/plain": [
              "(10911, 1)"
            ]
          },
          "metadata": {},
          "execution_count": 22
        }
      ]
    },
    {
      "cell_type": "code",
      "source": [
        "from sklearn.model_selection import train_test_split\n",
        "x_train,x_test,y_train,y_test = train_test_split(x,y,test_size=0.2,shuffle=True)"
      ],
      "metadata": {
        "id": "X8FT1hZEpS7-"
      },
      "execution_count": null,
      "outputs": []
    },
    {
      "cell_type": "code",
      "source": [
        "from tensorflow.keras import models\n",
        "from tensorflow.keras.layers import Flatten,Dense, Conv2D,MaxPool2D, BatchNormalization\n",
        "from tensorflow.keras import layers\n",
        "model=models.Sequential()\n",
        "model.add(Conv2D(128, (3, 3), activation = 'relu', input_shape = (250, 250, 1)))\n",
        "model.add(MaxPool2D((2, 2)))\n",
        "model.add(BatchNormalization())\n",
        "model.add(Conv2D(64, (3, 3), activation = 'relu'))\n",
        "model.add(MaxPool2D((2, 2)))\n",
        "model.add(BatchNormalization())\n",
        "model.add(Conv2D(32, (3, 3), activation = 'relu'))\n",
        "model.add(MaxPool2D((2, 2)))\n",
        "model.add(BatchNormalization())\n",
        "model.add(Flatten())\n",
        "model.add(Dense(256, activation = 'relu'))\n",
        "model.add(Dense(64, activation = 'relu'))\n",
        "model.add(Dense(1, activation = 'relu'))\n",
        "\n"
      ],
      "metadata": {
        "id": "sdgIDrIoE-V0"
      },
      "execution_count": null,
      "outputs": []
    },
    {
      "cell_type": "code",
      "source": [
        "model.compile(optimizer=\"adam\",loss=\"mse\",metrics=[metrics.mean_absolute_error])"
      ],
      "metadata": {
        "id": "HyPlpT5ivcTL"
      },
      "execution_count": null,
      "outputs": []
    },
    {
      "cell_type": "code",
      "source": [
        "with tf.device('/device:GPU:0'):\n",
        "  model.fit(x_train, y_train, epochs=40,verbose=1,shuffle = True, validation_data=(x_test,y_test))"
      ],
      "metadata": {
        "colab": {
          "base_uri": "https://localhost:8080/"
        },
        "id": "CRVrdO-xvfoa",
        "outputId": "48f37306-b22e-45ba-ef3b-c663be8580d9"
      },
      "execution_count": null,
      "outputs": [
        {
          "output_type": "stream",
          "name": "stdout",
          "text": [
            "Epoch 1/40\n",
            "273/273 [==============================] - 22s 80ms/step - loss: 316.2024 - mean_absolute_error: 13.7901 - val_loss: 953.7028 - val_mean_absolute_error: 26.8579\n",
            "Epoch 2/40\n",
            "273/273 [==============================] - 21s 78ms/step - loss: 191.5108 - mean_absolute_error: 10.6790 - val_loss: 494.9564 - val_mean_absolute_error: 18.0646\n",
            "Epoch 3/40\n",
            "273/273 [==============================] - 21s 78ms/step - loss: 144.6539 - mean_absolute_error: 9.1512 - val_loss: 158.0525 - val_mean_absolute_error: 9.9792\n",
            "Epoch 4/40\n",
            "273/273 [==============================] - 21s 78ms/step - loss: 110.2973 - mean_absolute_error: 7.8661 - val_loss: 284.9106 - val_mean_absolute_error: 12.5386\n",
            "Epoch 5/40\n",
            "273/273 [==============================] - 21s 78ms/step - loss: 109.2793 - mean_absolute_error: 7.6880 - val_loss: 120.3747 - val_mean_absolute_error: 8.5824\n",
            "Epoch 6/40\n",
            "273/273 [==============================] - 21s 78ms/step - loss: 70.1878 - mean_absolute_error: 6.2014 - val_loss: 122.9480 - val_mean_absolute_error: 8.7053\n",
            "Epoch 7/40\n",
            "273/273 [==============================] - 21s 78ms/step - loss: 51.9550 - mean_absolute_error: 5.2969 - val_loss: 134.3806 - val_mean_absolute_error: 9.1968\n",
            "Epoch 8/40\n",
            "273/273 [==============================] - 21s 78ms/step - loss: 37.1589 - mean_absolute_error: 4.4111 - val_loss: 150.2628 - val_mean_absolute_error: 9.1638\n",
            "Epoch 9/40\n",
            "273/273 [==============================] - 21s 78ms/step - loss: 30.1100 - mean_absolute_error: 3.9829 - val_loss: 83.1386 - val_mean_absolute_error: 6.4848\n",
            "Epoch 10/40\n",
            "273/273 [==============================] - 21s 78ms/step - loss: 25.0820 - mean_absolute_error: 3.5741 - val_loss: 114.4393 - val_mean_absolute_error: 8.4340\n",
            "Epoch 11/40\n",
            "273/273 [==============================] - 21s 78ms/step - loss: 20.9640 - mean_absolute_error: 3.2879 - val_loss: 94.8159 - val_mean_absolute_error: 7.4295\n",
            "Epoch 12/40\n",
            "273/273 [==============================] - 21s 77ms/step - loss: 15.2906 - mean_absolute_error: 2.7581 - val_loss: 61.7017 - val_mean_absolute_error: 5.2621\n",
            "Epoch 13/40\n",
            "273/273 [==============================] - 21s 78ms/step - loss: 14.8272 - mean_absolute_error: 2.7370 - val_loss: 57.6839 - val_mean_absolute_error: 5.2636\n",
            "Epoch 14/40\n",
            "273/273 [==============================] - 21s 78ms/step - loss: 11.8361 - mean_absolute_error: 2.4080 - val_loss: 64.1731 - val_mean_absolute_error: 5.6213\n",
            "Epoch 15/40\n",
            "273/273 [==============================] - 21s 78ms/step - loss: 10.9311 - mean_absolute_error: 2.3456 - val_loss: 52.9326 - val_mean_absolute_error: 4.8931\n",
            "Epoch 16/40\n",
            "273/273 [==============================] - 21s 78ms/step - loss: 12.9617 - mean_absolute_error: 2.5508 - val_loss: 68.6243 - val_mean_absolute_error: 6.0659\n",
            "Epoch 17/40\n",
            "273/273 [==============================] - 21s 78ms/step - loss: 11.4750 - mean_absolute_error: 2.4043 - val_loss: 77.4727 - val_mean_absolute_error: 6.6983\n",
            "Epoch 18/40\n",
            "273/273 [==============================] - 21s 78ms/step - loss: 11.3641 - mean_absolute_error: 2.3774 - val_loss: 72.6945 - val_mean_absolute_error: 6.3500\n",
            "Epoch 19/40\n",
            "273/273 [==============================] - 21s 78ms/step - loss: 9.7935 - mean_absolute_error: 2.1838 - val_loss: 87.4494 - val_mean_absolute_error: 6.6830\n",
            "Epoch 20/40\n",
            "273/273 [==============================] - 21s 78ms/step - loss: 8.6330 - mean_absolute_error: 2.0438 - val_loss: 62.6087 - val_mean_absolute_error: 5.8453\n",
            "Epoch 21/40\n",
            "273/273 [==============================] - 21s 78ms/step - loss: 9.1340 - mean_absolute_error: 2.0989 - val_loss: 68.8696 - val_mean_absolute_error: 5.7654\n",
            "Epoch 22/40\n",
            "273/273 [==============================] - 21s 79ms/step - loss: 8.9314 - mean_absolute_error: 2.0841 - val_loss: 70.5035 - val_mean_absolute_error: 5.8835\n",
            "Epoch 23/40\n",
            "273/273 [==============================] - 21s 79ms/step - loss: 11.8656 - mean_absolute_error: 2.4302 - val_loss: 102.4196 - val_mean_absolute_error: 7.8469\n",
            "Epoch 24/40\n",
            "273/273 [==============================] - 22s 80ms/step - loss: 10.6466 - mean_absolute_error: 2.3362 - val_loss: 52.7041 - val_mean_absolute_error: 5.1228\n",
            "Epoch 25/40\n",
            "273/273 [==============================] - 21s 79ms/step - loss: 9.0051 - mean_absolute_error: 2.1109 - val_loss: 47.8485 - val_mean_absolute_error: 4.5537\n",
            "Epoch 26/40\n",
            "273/273 [==============================] - 21s 79ms/step - loss: 8.7232 - mean_absolute_error: 2.1022 - val_loss: 65.6661 - val_mean_absolute_error: 5.4426\n",
            "Epoch 27/40\n",
            "273/273 [==============================] - 21s 78ms/step - loss: 7.6349 - mean_absolute_error: 1.9684 - val_loss: 50.0331 - val_mean_absolute_error: 4.5824\n",
            "Epoch 28/40\n",
            "273/273 [==============================] - 21s 78ms/step - loss: 5.9011 - mean_absolute_error: 1.7581 - val_loss: 48.4636 - val_mean_absolute_error: 4.3685\n",
            "Epoch 29/40\n",
            "273/273 [==============================] - 21s 78ms/step - loss: 5.2241 - mean_absolute_error: 1.6273 - val_loss: 50.3098 - val_mean_absolute_error: 5.0684\n",
            "Epoch 30/40\n",
            "273/273 [==============================] - 21s 78ms/step - loss: 4.9654 - mean_absolute_error: 1.5715 - val_loss: 47.5959 - val_mean_absolute_error: 4.8304\n",
            "Epoch 31/40\n",
            "273/273 [==============================] - 21s 78ms/step - loss: 5.5692 - mean_absolute_error: 1.6727 - val_loss: 69.0485 - val_mean_absolute_error: 5.7999\n",
            "Epoch 32/40\n",
            "273/273 [==============================] - 21s 78ms/step - loss: 7.3062 - mean_absolute_error: 1.9030 - val_loss: 69.6818 - val_mean_absolute_error: 6.2771\n",
            "Epoch 33/40\n",
            "273/273 [==============================] - 21s 78ms/step - loss: 6.6855 - mean_absolute_error: 1.8369 - val_loss: 72.5437 - val_mean_absolute_error: 5.9099\n",
            "Epoch 34/40\n",
            "273/273 [==============================] - 21s 78ms/step - loss: 5.6246 - mean_absolute_error: 1.6855 - val_loss: 52.5514 - val_mean_absolute_error: 5.3408\n",
            "Epoch 35/40\n",
            "273/273 [==============================] - 21s 78ms/step - loss: 9.3372 - mean_absolute_error: 2.1880 - val_loss: 61.5886 - val_mean_absolute_error: 6.0345\n",
            "Epoch 36/40\n",
            "273/273 [==============================] - 21s 78ms/step - loss: 7.8782 - mean_absolute_error: 1.9241 - val_loss: 44.2857 - val_mean_absolute_error: 4.6116\n",
            "Epoch 37/40\n",
            "273/273 [==============================] - 21s 78ms/step - loss: 4.5364 - mean_absolute_error: 1.5607 - val_loss: 42.4022 - val_mean_absolute_error: 4.0127\n",
            "Epoch 38/40\n",
            "273/273 [==============================] - 21s 78ms/step - loss: 3.8784 - mean_absolute_error: 1.4350 - val_loss: 73.6900 - val_mean_absolute_error: 6.2339\n",
            "Epoch 39/40\n",
            "273/273 [==============================] - 21s 78ms/step - loss: 3.8576 - mean_absolute_error: 1.4297 - val_loss: 75.7054 - val_mean_absolute_error: 6.2846\n",
            "Epoch 40/40\n",
            "273/273 [==============================] - 21s 79ms/step - loss: 3.1474 - mean_absolute_error: 1.3326 - val_loss: 46.7063 - val_mean_absolute_error: 4.2688\n"
          ]
        }
      ]
    },
    {
      "cell_type": "code",
      "source": [
        "y_pred=model.predict(x_test)"
      ],
      "metadata": {
        "id": "Lpmh8NBvJ9zQ"
      },
      "execution_count": null,
      "outputs": []
    },
    {
      "cell_type": "code",
      "source": [
        "from sklearn.metrics import mean_squared_error, mean_absolute_error, r2_score"
      ],
      "metadata": {
        "id": "DwIBBwIUKr5A"
      },
      "execution_count": null,
      "outputs": []
    },
    {
      "cell_type": "code",
      "source": [
        "r2 = r2_score(y_test, y_pred)\n",
        "mse = mean_squared_error(y_test, y_pred)\n",
        "mae = mean_absolute_error(y_test, y_pred)"
      ],
      "metadata": {
        "id": "FqfvFvL2KLAc"
      },
      "execution_count": null,
      "outputs": []
    },
    {
      "cell_type": "code",
      "source": [
        "model.save('drive/MyDrive/my_model_AgePrediction3.h5')"
      ],
      "metadata": {
        "id": "gL9_JlfrKxfQ"
      },
      "execution_count": null,
      "outputs": []
    },
    {
      "cell_type": "markdown",
      "source": [
        ""
      ],
      "metadata": {
        "id": "KR0IcAeKqBAw"
      }
    }
  ]
}