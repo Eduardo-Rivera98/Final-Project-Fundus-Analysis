{
 "cells": [
  {
   "cell_type": "code",
   "execution_count": null,
   "id": "719b02da",
   "metadata": {},
   "outputs": [],
   "source": [
    "def dataframe_creation():\n",
    "    df5 = pd.read_csv('Datos/ODIR-5k/ODIR-5k/data.csv')\n",
    "    df5['filename']='Datos/preprocessed_2/'+df5['filename']\n",
    "    df5 = df5.drop(['filepath','target'], axis=1)\n",
    "    return df5"
   ]
  },
  {
   "cell_type": "code",
   "execution_count": null,
   "id": "7be58a3e",
   "metadata": {},
   "outputs": [],
   "source": [
    "import tensorflow as tf\n",
    "tf.config.run_functions_eagerly(True)\n",
    "from tensorflow.keras.models import Model\n",
    "from tensorflow.keras.layers import Input\n",
    "from tensorflow.keras.layers import Dense\n",
    "from tensorflow.keras.layers import Flatten , Conv1D\n",
    "from tensorflow.keras.layers import concatenate\n",
    "from tensorflow.keras.layers import Conv2D\n",
    "from tensorflow.keras.layers import MaxPooling2D,MaxPooling1D\n",
    "from tensorflow.keras.utils import plot_model\n",
    "def model_b():\n",
    "    inp1 = Input(shape=(X1.shape[1],X1.shape[2],1,))\n",
    "    new_input = Input(shape=(X1.shape[1],X1.shape[2], 3))\n",
    "    conv1 = Conv2D(3, kernel_size=3, padding ='same', activation='relu')(inp1)\n",
    "    i1 = tf.keras.applications.ResNet50(include_top=False,weights=\"imagenet\",input_tensor=new_input,\n",
    "                        input_shape=None,\n",
    "                         pooling='avg',\n",
    "                    )(conv1)\n",
    "    class1 = Dense(1024, activation='relu')(i1)\n",
    "    class1 = Dense(512, activation='relu')(class1)\n",
    "    class1 = Dense(256, activation='relu')(class1)\n",
    "    class1 = Dense(128, activation='relu')(class1)\n",
    "    class1 = Dense(64, activation='relu')(class1)\n",
    "    output = Dense(1, activation='sigmoid')(class1)\n",
    "    model = Model(inputs=[inp1], outputs=output)\n",
    "    return model\n",
    "md = model_b()"
   ]
  }
 ],
 "metadata": {
  "kernelspec": {
   "display_name": "Project",
   "language": "python",
   "name": "project"
  },
  "language_info": {
   "codemirror_mode": {
    "name": "ipython",
    "version": 3
   },
   "file_extension": ".py",
   "mimetype": "text/x-python",
   "name": "python",
   "nbconvert_exporter": "python",
   "pygments_lexer": "ipython3",
   "version": "3.9.7"
  }
 },
 "nbformat": 4,
 "nbformat_minor": 5
}
