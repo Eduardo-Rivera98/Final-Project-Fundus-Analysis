{
 "cells": [
  {
   "cell_type": "code",
   "execution_count": 1,
   "id": "48f57514",
   "metadata": {},
   "outputs": [
    {
     "name": "stderr",
     "output_type": "stream",
     "text": [
      "2021-12-13 16:19:27.131147: W tensorflow/stream_executor/platform/default/dso_loader.cc:64] Could not load dynamic library 'libcudart.so.11.0'; dlerror: libcudart.so.11.0: cannot open shared object file: No such file or directory\n",
      "2021-12-13 16:19:27.131187: I tensorflow/stream_executor/cuda/cudart_stub.cc:29] Ignore above cudart dlerror if you do not have a GPU set up on your machine.\n"
     ]
    }
   ],
   "source": [
    "import pandas as pd\n",
    "import numpy as np\n",
    "from keras.preprocessing.image import ImageDataGenerator\n",
    "import os\n",
    "import cv2\n",
    "import matplotlib.pyplot as plt\n",
    "import random\n",
    "from numpy import save"
   ]
  },
  {
   "cell_type": "code",
   "execution_count": 2,
   "id": "536ec983",
   "metadata": {},
   "outputs": [],
   "source": [
    "df=pd.read_csv('full_df.csv')"
   ]
  },
  {
   "cell_type": "code",
   "execution_count": 3,
   "id": "fa7ac5a5",
   "metadata": {},
   "outputs": [],
   "source": [
    "df3= df[(df['labels']== \"['H']\")&(df.H==1)]"
   ]
  },
  {
   "cell_type": "code",
   "execution_count": 4,
   "id": "bfeab265",
   "metadata": {},
   "outputs": [],
   "source": [
    "df2= df[(df['labels']!= \"['H']\")& (df.H==0)]"
   ]
  },
  {
   "cell_type": "code",
   "execution_count": 5,
   "id": "4b11a8c3",
   "metadata": {},
   "outputs": [
    {
     "data": {
      "text/plain": [
       "6189"
      ]
     },
     "execution_count": 5,
     "metadata": {},
     "output_type": "execute_result"
    }
   ],
   "source": [
    "len(df2)"
   ]
  },
  {
   "cell_type": "code",
   "execution_count": 6,
   "id": "ef9cdb07",
   "metadata": {},
   "outputs": [
    {
     "data": {
      "text/plain": [
       "128"
      ]
     },
     "execution_count": 6,
     "metadata": {},
     "output_type": "execute_result"
    }
   ],
   "source": [
    "len(df3)"
   ]
  },
  {
   "cell_type": "code",
   "execution_count": 7,
   "id": "9e9b7da7",
   "metadata": {},
   "outputs": [],
   "source": [
    "NoHyper=df2.filename"
   ]
  },
  {
   "cell_type": "code",
   "execution_count": 8,
   "id": "0e4a8f46",
   "metadata": {},
   "outputs": [],
   "source": [
    "Hyper=df3.filename"
   ]
  },
  {
   "cell_type": "code",
   "execution_count": 9,
   "id": "85dac42b",
   "metadata": {},
   "outputs": [],
   "source": [
    "def create_dataset(image_category,label):\n",
    "    dataset_dir = \"Datos/preprocessed_2\"\n",
    "    image_size=250\n",
    "    labels = []\n",
    "    dataset = []\n",
    "    for img in image_category:\n",
    "        image_path = os.path.join(dataset_dir,img)\n",
    "        try:\n",
    "            img = cv2.imread(image_path,0)\n",
    "            img = cv2.resize(img, (250,250))\n",
    "            img = img.astype(np.float32)/255\n",
    "            img = img[..., np.newaxis]\n",
    "            \n",
    "        except:\n",
    "            continue\n",
    "        \n",
    "        dataset.append([np.array(img),np.array(label)])\n",
    "    random.shuffle(dataset)\n",
    "    return dataset"
   ]
  },
  {
   "cell_type": "code",
   "execution_count": 10,
   "id": "d6fc2c30",
   "metadata": {},
   "outputs": [],
   "source": [
    "def augment(category,label,mult):\n",
    "    x=[]\n",
    "    for img in category:\n",
    "        try:\n",
    "            img = cv2.imread(f\"Datos/preprocessed_2/{img}\",0)\n",
    "            img = cv2.resize(img, (250,250))\n",
    "            img = img.astype(np.float32)/255\n",
    "            img = img[..., np.newaxis]\n",
    "        except:\n",
    "            continue\n",
    "        train_datagen = ImageDataGenerator(\n",
    "                    rotation_range=30,\n",
    "                    zoom_range=0.1,\n",
    "                    vertical_flip=True,\n",
    "                    brightness_range=(0.2, 1.5),\n",
    "                    height_shift_range=0.1,\n",
    "                    )\n",
    "        img = img.reshape((1,) + img.shape)\n",
    "        \n",
    "        it = train_datagen.flow(x=img, batch_size=1)\n",
    "        for i in range(mult):\n",
    "            batch = it.next()\n",
    "            aug_img = batch[0]\n",
    "            aug_img=aug_img.reshape(-1)\n",
    "            x.append([np.array(img),np.array(label)])\n",
    "            \n",
    "       \n",
    "    for i in range(len(x)):\n",
    "        x[i][0]=x[i][0].reshape(x[i][0].shape[1:])\n",
    "    return x"
   ]
  },
  {
   "cell_type": "code",
   "execution_count": 15,
   "id": "048becc4",
   "metadata": {},
   "outputs": [],
   "source": [
    "HypertensionAug=augment(Hyper,1, 47)"
   ]
  },
  {
   "cell_type": "code",
   "execution_count": 16,
   "id": "a4675876",
   "metadata": {},
   "outputs": [
    {
     "data": {
      "text/plain": [
       "6016"
      ]
     },
     "execution_count": 16,
     "metadata": {},
     "output_type": "execute_result"
    }
   ],
   "source": [
    "len(HypertensionAug)"
   ]
  },
  {
   "cell_type": "code",
   "execution_count": 13,
   "id": "67199c38",
   "metadata": {},
   "outputs": [],
   "source": [
    "Nohypertension=create_dataset(NoHyper, 0)"
   ]
  },
  {
   "cell_type": "code",
   "execution_count": 14,
   "id": "2706a4a4",
   "metadata": {},
   "outputs": [],
   "source": [
    "Hypertension=create_dataset(Hyper,1)"
   ]
  },
  {
   "cell_type": "code",
   "execution_count": 17,
   "id": "bebe26ec",
   "metadata": {},
   "outputs": [],
   "source": [
    "TodoHyper=HypertensionAug+Nohypertension+Hypertension"
   ]
  },
  {
   "cell_type": "code",
   "execution_count": 21,
   "id": "37042540",
   "metadata": {},
   "outputs": [],
   "source": [
    "x = np.array([i[0]for i in TodoHyper])\n",
    "y = np.array([i[1] for i in TodoHyper])"
   ]
  },
  {
   "cell_type": "code",
   "execution_count": 22,
   "id": "3a3db47f",
   "metadata": {},
   "outputs": [
    {
     "data": {
      "text/plain": [
       "(12333, 250, 250, 1)"
      ]
     },
     "execution_count": 22,
     "metadata": {},
     "output_type": "execute_result"
    }
   ],
   "source": [
    "x.shape"
   ]
  },
  {
   "cell_type": "code",
   "execution_count": 23,
   "id": "00495c07",
   "metadata": {},
   "outputs": [],
   "source": [
    "save('x',x)"
   ]
  },
  {
   "cell_type": "code",
   "execution_count": 24,
   "id": "c28b0ea7",
   "metadata": {},
   "outputs": [],
   "source": [
    "save('y',y)"
   ]
  },
  {
   "cell_type": "code",
   "execution_count": null,
   "id": "7c322598",
   "metadata": {},
   "outputs": [],
   "source": []
  }
 ],
 "metadata": {
  "kernelspec": {
   "display_name": "Project",
   "language": "python",
   "name": "project"
  },
  "language_info": {
   "codemirror_mode": {
    "name": "ipython",
    "version": 3
   },
   "file_extension": ".py",
   "mimetype": "text/x-python",
   "name": "python",
   "nbconvert_exporter": "python",
   "pygments_lexer": "ipython3",
   "version": "3.9.7"
  }
 },
 "nbformat": 4,
 "nbformat_minor": 5
}
