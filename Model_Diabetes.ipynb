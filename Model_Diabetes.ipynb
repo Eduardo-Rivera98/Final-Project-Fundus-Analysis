{
  "nbformat": 4,
  "nbformat_minor": 0,
  "metadata": {
    "colab": {
      "name": "Model_Diabetes",
      "provenance": [],
      "collapsed_sections": [],
      "machine_shape": "hm",
      "authorship_tag": "ABX9TyMCJIOJHVaYfwM3+byCWlqc",
      "include_colab_link": true
    },
    "kernelspec": {
      "name": "python3",
      "display_name": "Python 3"
    },
    "language_info": {
      "name": "python"
    }
  },
  "cells": [
    {
      "cell_type": "markdown",
      "metadata": {
        "id": "view-in-github",
        "colab_type": "text"
      },
      "source": [
        "<a href=\"https://colab.research.google.com/github/Eduardo-Rivera98/Final-Project-Fundus-Analysis/blob/main/Model_Diabetes.ipynb\" target=\"_parent\"><img src=\"https://colab.research.google.com/assets/colab-badge.svg\" alt=\"Open In Colab\"/></a>"
      ]
    },
    {
      "cell_type": "code",
      "execution_count": null,
      "metadata": {
        "id": "hLUIDZq5yWqV"
      },
      "outputs": [],
      "source": [
        "from numpy import load\n",
        "import h5py\n",
        "import keras"
      ]
    },
    {
      "cell_type": "code",
      "source": [
        "from google.colab import drive\n",
        "drive.mount('/content/drive')"
      ],
      "metadata": {
        "colab": {
          "base_uri": "https://localhost:8080/"
        },
        "id": "ENA-T8aOyin2",
        "outputId": "3bba63be-4793-469a-e562-6ee64bc1edbc"
      },
      "execution_count": null,
      "outputs": [
        {
          "output_type": "stream",
          "name": "stdout",
          "text": [
            "Drive already mounted at /content/drive; to attempt to forcibly remount, call drive.mount(\"/content/drive\", force_remount=True).\n"
          ]
        }
      ]
    },
    {
      "cell_type": "code",
      "source": [
        "x=load('drive/MyDrive/x.npy')"
      ],
      "metadata": {
        "id": "TpyUTzWeypqD"
      },
      "execution_count": null,
      "outputs": []
    },
    {
      "cell_type": "code",
      "source": [
        "y=load('y.npy')"
      ],
      "metadata": {
        "id": "PtzTEiFjyrzQ"
      },
      "execution_count": null,
      "outputs": []
    },
    {
      "cell_type": "code",
      "source": [
        "from sklearn.model_selection import train_test_split\n",
        "x_train,x_test,y_train,y_test = train_test_split(x,y,test_size=0.2,shuffle=True)"
      ],
      "metadata": {
        "id": "yB-ehOw1yuFr"
      },
      "execution_count": null,
      "outputs": []
    },
    {
      "cell_type": "code",
      "source": [
        "from keras import models\n",
        "from keras import layers\n",
        "import tensorflow as tf\n",
        "model = models.Sequential()\n",
        "model.add(layers.Conv2D(16, (3,3), activation='relu', input_shape=(250, 250, 1))),\n",
        "model.add(layers.MaxPooling2D(2, 2)),\n",
        "model.add(layers.Conv2D(32, (3,3), activation='relu')),\n",
        "model.add(layers.MaxPooling2D(2,2)),\n",
        "model.add(layers.Conv2D(64, (3,3), activation='relu')),\n",
        "model.add(layers.MaxPooling2D(2,2)),\n",
        "model.add(layers.Conv2D(64, (3,3), activation='relu')),\n",
        "model.add(layers.MaxPooling2D(2,2)),\n",
        "model.add(layers.Flatten()),\n",
        "model.add(layers.Dense(512, activation='relu')),\n",
        "model.add(layers.Dense(1, activation='sigmoid'))"
      ],
      "metadata": {
        "id": "K58F8283ywl0"
      },
      "execution_count": null,
      "outputs": []
    },
    {
      "cell_type": "code",
      "source": [
        "es_callback = keras.callbacks.EarlyStopping(monitor='val_loss', patience=4)"
      ],
      "metadata": {
        "id": "s5_5D9P5Pt5O"
      },
      "execution_count": null,
      "outputs": []
    },
    {
      "cell_type": "code",
      "source": [
        "model.summary()"
      ],
      "metadata": {
        "colab": {
          "base_uri": "https://localhost:8080/"
        },
        "id": "ZYKvY6nAyzR7",
        "outputId": "0d3b8cad-8686-4223-f5c8-8ee1d6b8946a"
      },
      "execution_count": null,
      "outputs": [
        {
          "output_type": "stream",
          "name": "stdout",
          "text": [
            "Model: \"sequential_2\"\n",
            "_________________________________________________________________\n",
            " Layer (type)                Output Shape              Param #   \n",
            "=================================================================\n",
            " conv2d_10 (Conv2D)          (None, 248, 248, 16)      160       \n",
            "                                                                 \n",
            " max_pooling2d_10 (MaxPoolin  (None, 124, 124, 16)     0         \n",
            " g2D)                                                            \n",
            "                                                                 \n",
            " conv2d_11 (Conv2D)          (None, 122, 122, 32)      4640      \n",
            "                                                                 \n",
            " max_pooling2d_11 (MaxPoolin  (None, 61, 61, 32)       0         \n",
            " g2D)                                                            \n",
            "                                                                 \n",
            " conv2d_12 (Conv2D)          (None, 59, 59, 64)        18496     \n",
            "                                                                 \n",
            " max_pooling2d_12 (MaxPoolin  (None, 29, 29, 64)       0         \n",
            " g2D)                                                            \n",
            "                                                                 \n",
            " conv2d_13 (Conv2D)          (None, 27, 27, 64)        36928     \n",
            "                                                                 \n",
            " max_pooling2d_13 (MaxPoolin  (None, 13, 13, 64)       0         \n",
            " g2D)                                                            \n",
            "                                                                 \n",
            " flatten_2 (Flatten)         (None, 10816)             0         \n",
            "                                                                 \n",
            " dense_4 (Dense)             (None, 512)               5538304   \n",
            "                                                                 \n",
            " dense_5 (Dense)             (None, 1)                 513       \n",
            "                                                                 \n",
            "=================================================================\n",
            "Total params: 5,599,041\n",
            "Trainable params: 5,599,041\n",
            "Non-trainable params: 0\n",
            "_________________________________________________________________\n"
          ]
        }
      ]
    },
    {
      "cell_type": "code",
      "source": [
        "model.compile(optimizer=\"adam\",loss=\"binary_crossentropy\",metrics=[\"accuracy\"])"
      ],
      "metadata": {
        "id": "35_uwj6Qy1tj"
      },
      "execution_count": null,
      "outputs": []
    },
    {
      "cell_type": "code",
      "source": [
        "model.fit(x_train, y_train, epochs=50,verbose=1, shuffle=True, validation_data=(x_test,y_test),callbacks=[es_callback])"
      ],
      "metadata": {
        "colab": {
          "base_uri": "https://localhost:8080/"
        },
        "id": "2svCsO-8y4Cd",
        "outputId": "8a7b29a3-cfa2-408b-cec2-30add1376c2e"
      },
      "execution_count": null,
      "outputs": [
        {
          "output_type": "stream",
          "name": "stdout",
          "text": [
            "Epoch 1/50\n",
            "185/185 [==============================] - 181s 976ms/step - loss: 0.6836 - accuracy: 0.5678 - val_loss: 0.6768 - val_accuracy: 0.5828\n",
            "Epoch 2/50\n",
            "185/185 [==============================] - 180s 971ms/step - loss: 0.6699 - accuracy: 0.5820 - val_loss: 0.6625 - val_accuracy: 0.5835\n",
            "Epoch 3/50\n",
            "185/185 [==============================] - 178s 964ms/step - loss: 0.6603 - accuracy: 0.5928 - val_loss: 0.6644 - val_accuracy: 0.5970\n",
            "Epoch 4/50\n",
            "185/185 [==============================] - 178s 964ms/step - loss: 0.6514 - accuracy: 0.6117 - val_loss: 0.6527 - val_accuracy: 0.6234\n",
            "Epoch 5/50\n",
            "185/185 [==============================] - 179s 966ms/step - loss: 0.6507 - accuracy: 0.6114 - val_loss: 0.6497 - val_accuracy: 0.6234\n",
            "Epoch 6/50\n",
            "185/185 [==============================] - 178s 964ms/step - loss: 0.6435 - accuracy: 0.6236 - val_loss: 0.6463 - val_accuracy: 0.6126\n",
            "Epoch 7/50\n",
            "185/185 [==============================] - 178s 964ms/step - loss: 0.6386 - accuracy: 0.6283 - val_loss: 0.6493 - val_accuracy: 0.6275\n",
            "Epoch 8/50\n",
            "185/185 [==============================] - 177s 960ms/step - loss: 0.6379 - accuracy: 0.6278 - val_loss: 0.6402 - val_accuracy: 0.6389\n",
            "Epoch 9/50\n",
            "185/185 [==============================] - 178s 963ms/step - loss: 0.6321 - accuracy: 0.6288 - val_loss: 0.6373 - val_accuracy: 0.6112\n",
            "Epoch 10/50\n",
            "185/185 [==============================] - 178s 964ms/step - loss: 0.6283 - accuracy: 0.6371 - val_loss: 0.6396 - val_accuracy: 0.6302\n",
            "Epoch 11/50\n",
            "185/185 [==============================] - 178s 963ms/step - loss: 0.6203 - accuracy: 0.6416 - val_loss: 0.6420 - val_accuracy: 0.6173\n",
            "Epoch 12/50\n",
            "185/185 [==============================] - 179s 969ms/step - loss: 0.6178 - accuracy: 0.6457 - val_loss: 0.6253 - val_accuracy: 0.6119\n",
            "Epoch 13/50\n",
            "185/185 [==============================] - 178s 961ms/step - loss: 0.6078 - accuracy: 0.6511 - val_loss: 0.6153 - val_accuracy: 0.6383\n",
            "Epoch 14/50\n",
            "185/185 [==============================] - 178s 963ms/step - loss: 0.5977 - accuracy: 0.6604 - val_loss: 0.6417 - val_accuracy: 0.6024\n",
            "Epoch 15/50\n",
            "185/185 [==============================] - 178s 964ms/step - loss: 0.5830 - accuracy: 0.6775 - val_loss: 0.6055 - val_accuracy: 0.6613\n",
            "Epoch 16/50\n",
            "185/185 [==============================] - 179s 966ms/step - loss: 0.5659 - accuracy: 0.6834 - val_loss: 0.5935 - val_accuracy: 0.6694\n",
            "Epoch 17/50\n",
            "185/185 [==============================] - 179s 967ms/step - loss: 0.5509 - accuracy: 0.6973 - val_loss: 0.6160 - val_accuracy: 0.6579\n",
            "Epoch 18/50\n",
            "185/185 [==============================] - 179s 966ms/step - loss: 0.5244 - accuracy: 0.7236 - val_loss: 0.5692 - val_accuracy: 0.6822\n",
            "Epoch 19/50\n",
            "185/185 [==============================] - 179s 966ms/step - loss: 0.4764 - accuracy: 0.7466 - val_loss: 0.5609 - val_accuracy: 0.6910\n",
            "Epoch 20/50\n",
            "185/185 [==============================] - 179s 968ms/step - loss: 0.4365 - accuracy: 0.7770 - val_loss: 0.5816 - val_accuracy: 0.7086\n",
            "Epoch 21/50\n",
            "185/185 [==============================] - 178s 965ms/step - loss: 0.3798 - accuracy: 0.8115 - val_loss: 0.5457 - val_accuracy: 0.7410\n",
            "Epoch 22/50\n",
            "185/185 [==============================] - 180s 974ms/step - loss: 0.3130 - accuracy: 0.8467 - val_loss: 0.5442 - val_accuracy: 0.7586\n",
            "Epoch 23/50\n",
            "185/185 [==============================] - 181s 976ms/step - loss: 0.2559 - accuracy: 0.8810 - val_loss: 0.6183 - val_accuracy: 0.7613\n",
            "Epoch 24/50\n",
            "185/185 [==============================] - 180s 971ms/step - loss: 0.2051 - accuracy: 0.9099 - val_loss: 0.6703 - val_accuracy: 0.7816\n",
            "Epoch 25/50\n",
            "185/185 [==============================] - 180s 976ms/step - loss: 0.1615 - accuracy: 0.9315 - val_loss: 0.7186 - val_accuracy: 0.7972\n",
            "Epoch 26/50\n",
            "185/185 [==============================] - 179s 968ms/step - loss: 0.1606 - accuracy: 0.9366 - val_loss: 0.6862 - val_accuracy: 0.7931\n"
          ]
        },
        {
          "output_type": "execute_result",
          "data": {
            "text/plain": [
              "<keras.callbacks.History at 0x7f2f02c22ad0>"
            ]
          },
          "metadata": {},
          "execution_count": 33
        }
      ]
    },
    {
      "cell_type": "code",
      "source": [
        "y_pred=(model.predict(x_test) > 0.5).astype(\"int32\")"
      ],
      "metadata": {
        "id": "GpWYXfqfy6ao"
      },
      "execution_count": null,
      "outputs": []
    },
    {
      "cell_type": "code",
      "source": [
        "from sklearn.metrics import classification_report, confusion_matrix, precision_score"
      ],
      "metadata": {
        "id": "w1W7sRIhy8ku"
      },
      "execution_count": null,
      "outputs": []
    },
    {
      "cell_type": "code",
      "source": [
        "print(classification_report(y_test,y_pred))"
      ],
      "metadata": {
        "colab": {
          "base_uri": "https://localhost:8080/"
        },
        "id": "pZ3a5kN7y-wS",
        "outputId": "03202ccc-8b83-434a-d471-873cf6c7082d"
      },
      "execution_count": null,
      "outputs": [
        {
          "output_type": "stream",
          "name": "stdout",
          "text": [
            "              precision    recall  f1-score   support\n",
            "\n",
            "           0       0.85      0.78      0.81       858\n",
            "           1       0.73      0.81      0.77       621\n",
            "\n",
            "    accuracy                           0.79      1479\n",
            "   macro avg       0.79      0.80      0.79      1479\n",
            "weighted avg       0.80      0.79      0.79      1479\n",
            "\n"
          ]
        }
      ]
    },
    {
      "cell_type": "code",
      "source": [
        "precision_score(\n",
        "y_test,\n",
        "y_pred)"
      ],
      "metadata": {
        "colab": {
          "base_uri": "https://localhost:8080/"
        },
        "id": "k3YAJsRnzA6d",
        "outputId": "0bd33359-40c0-486f-ac59-b04a055484e5"
      },
      "execution_count": null,
      "outputs": [
        {
          "output_type": "execute_result",
          "data": {
            "text/plain": [
              "0.7279305354558611"
            ]
          },
          "metadata": {},
          "execution_count": 37
        }
      ]
    },
    {
      "cell_type": "code",
      "source": [
        "from mlxtend.plotting import plot_confusion_matrix\n",
        "cm = confusion_matrix(y_test,y_pred)\n",
        "plot_confusion_matrix(conf_mat = cm,figsize=(8,7))"
      ],
      "metadata": {
        "colab": {
          "base_uri": "https://localhost:8080/",
          "height": 477
        },
        "id": "bjxRLWx7zC0-",
        "outputId": "4dd5f461-0963-4c84-b71e-47ae7dab987a"
      },
      "execution_count": null,
      "outputs": [
        {
          "output_type": "execute_result",
          "data": {
            "text/plain": [
              "(<Figure size 576x504 with 1 Axes>,\n",
              " <matplotlib.axes._subplots.AxesSubplot at 0x7f2f031dffd0>)"
            ]
          },
          "metadata": {},
          "execution_count": 38
        },
        {
          "output_type": "display_data",
          "data": {
            "image/png": "[encoded data removed]",
            "text/plain": [
              "<Figure size 576x504 with 1 Axes>"
            ]
          },
          "metadata": {
            "needs_background": "light"
          }
        }
      ]
    },
    {
      "cell_type": "code",
      "source": [
        "model.save('drive/MyDrive/my_model_diabetes7.h5')"
      ],
      "metadata": {
        "id": "c6amurrqzFNA"
      },
      "execution_count": null,
      "outputs": []
    },
    {
      "cell_type": "code",
      "source": [
        "drive.flush_and_unmount()"
      ],
      "metadata": {
        "id": "3xkjeMMxzHc8"
      },
      "execution_count": null,
      "outputs": []
    },
    {
      "cell_type": "code",
      "source": [
        ""
      ],
      "metadata": {
        "id": "atTmEItSOxBq"
      },
      "execution_count": null,
      "outputs": []
    }
  ]
}