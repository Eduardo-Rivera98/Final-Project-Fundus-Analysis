{
  "nbformat": 4,
  "nbformat_minor": 0,
  "metadata": {
    "colab": {
      "name": "Model-Hypertension.ipynb",
      "provenance": [],
      "machine_shape": "hm",
      "authorship_tag": "ABX9TyMf6baF8mn3GOmsPygJWogT",
      "include_colab_link": true
    },
    "kernelspec": {
      "name": "python3",
      "display_name": "Python 3"
    },
    "language_info": {
      "name": "python"
    }
  },
  "cells": [
    {
      "cell_type": "markdown",
      "metadata": {
        "id": "view-in-github",
        "colab_type": "text"
      },
      "source": [
        "<a href=\"https://colab.research.google.com/github/Eduardo-Rivera98/Final-Project-Fundus-Analysis/blob/main/Model_Hypertension.ipynb\" target=\"_parent\"><img src=\"https://colab.research.google.com/assets/colab-badge.svg\" alt=\"Open In Colab\"/></a>"
      ]
    },
    {
      "cell_type": "code",
      "execution_count": null,
      "metadata": {
        "id": "fDSFL5d3YshW"
      },
      "outputs": [],
      "source": [
        "from numpy import load\n",
        "import h5py"
      ]
    },
    {
      "cell_type": "code",
      "source": [
        "from google.colab import drive\n",
        "drive.mount('/content/drive')"
      ],
      "metadata": {
        "colab": {
          "base_uri": "https://localhost:8080/"
        },
        "id": "8gB20KPrY-B-",
        "outputId": "94322151-8bec-4da6-f282-fc2a42acd11d"
      },
      "execution_count": null,
      "outputs": [
        {
          "output_type": "stream",
          "name": "stdout",
          "text": [
            "Mounted at /content/drive\n"
          ]
        }
      ]
    },
    {
      "cell_type": "code",
      "source": [
        "x=load('drive/MyDrive/x.npy')"
      ],
      "metadata": {
        "id": "zt9juosnZB4P"
      },
      "execution_count": null,
      "outputs": []
    },
    {
      "cell_type": "code",
      "source": [
        "y=load('y.npy')"
      ],
      "metadata": {
        "id": "7PuX58e6ZDyO"
      },
      "execution_count": null,
      "outputs": []
    },
    {
      "cell_type": "code",
      "source": [
        "from sklearn.model_selection import train_test_split\n",
        "x_train,x_test,y_train,y_test = train_test_split(x,y,test_size=0.2)"
      ],
      "metadata": {
        "id": "Y_2PC0lfZGRi"
      },
      "execution_count": null,
      "outputs": []
    },
    {
      "cell_type": "code",
      "source": [
        "from keras import models\n",
        "from keras import layers\n",
        "import tensorflow as tf\n",
        "model = models.Sequential()\n",
        "model.add(layers.Conv2D(16, (3,3), activation='relu', input_shape=(250, 250, 1))),\n",
        "model.add(layers.MaxPooling2D(2, 2)),\n",
        "model.add(layers.Conv2D(32, (3,3), activation='relu')),\n",
        "model.add(layers.MaxPooling2D(2,2)),\n",
        "model.add(layers.Conv2D(64, (3,3), activation='relu')),\n",
        "model.add(layers.MaxPooling2D(2,2)),\n",
        "model.add(layers.Conv2D(64, (3,3), activation='relu')),\n",
        "model.add(layers.MaxPooling2D(2,2)),\n",
        "model.add(layers.Conv2D(64, (3,3), activation='relu')),\n",
        "model.add(layers.MaxPooling2D(2,2)),\n",
        "model.add(layers.Flatten()),\n",
        "model.add(layers.Dense(512, activation='relu')),\n",
        "model.add(layers.Dense(1, activation='sigmoid'))"
      ],
      "metadata": {
        "id": "u2D27ezTZIlt"
      },
      "execution_count": null,
      "outputs": []
    },
    {
      "cell_type": "code",
      "source": [
        "model.summary()"
      ],
      "metadata": {
        "colab": {
          "base_uri": "https://localhost:8080/"
        },
        "id": "CGPB6-iRZJ13",
        "outputId": "5f65832c-7fcd-42d2-f578-bd602acd3f28"
      },
      "execution_count": null,
      "outputs": [
        {
          "output_type": "stream",
          "name": "stdout",
          "text": [
            "Model: \"sequential\"\n",
            "_________________________________________________________________\n",
            " Layer (type)                Output Shape              Param #   \n",
            "=================================================================\n",
            " conv2d (Conv2D)             (None, 248, 248, 16)      160       \n",
            "                                                                 \n",
            " max_pooling2d (MaxPooling2D  (None, 124, 124, 16)     0         \n",
            " )                                                               \n",
            "                                                                 \n",
            " conv2d_1 (Conv2D)           (None, 122, 122, 32)      4640      \n",
            "                                                                 \n",
            " max_pooling2d_1 (MaxPooling  (None, 61, 61, 32)       0         \n",
            " 2D)                                                             \n",
            "                                                                 \n",
            " conv2d_2 (Conv2D)           (None, 59, 59, 64)        18496     \n",
            "                                                                 \n",
            " max_pooling2d_2 (MaxPooling  (None, 29, 29, 64)       0         \n",
            " 2D)                                                             \n",
            "                                                                 \n",
            " conv2d_3 (Conv2D)           (None, 27, 27, 64)        36928     \n",
            "                                                                 \n",
            " max_pooling2d_3 (MaxPooling  (None, 13, 13, 64)       0         \n",
            " 2D)                                                             \n",
            "                                                                 \n",
            " conv2d_4 (Conv2D)           (None, 11, 11, 64)        36928     \n",
            "                                                                 \n",
            " max_pooling2d_4 (MaxPooling  (None, 5, 5, 64)         0         \n",
            " 2D)                                                             \n",
            "                                                                 \n",
            " flatten (Flatten)           (None, 1600)              0         \n",
            "                                                                 \n",
            " dense (Dense)               (None, 512)               819712    \n",
            "                                                                 \n",
            " dense_1 (Dense)             (None, 1)                 513       \n",
            "                                                                 \n",
            "=================================================================\n",
            "Total params: 917,377\n",
            "Trainable params: 917,377\n",
            "Non-trainable params: 0\n",
            "_________________________________________________________________\n"
          ]
        }
      ]
    },
    {
      "cell_type": "code",
      "source": [
        "model.compile(optimizer=\"adam\",loss=\"binary_crossentropy\",metrics=[\"accuracy\"])"
      ],
      "metadata": {
        "id": "N51mvX4CZN7e"
      },
      "execution_count": null,
      "outputs": []
    },
    {
      "cell_type": "code",
      "source": [
        "model.fit(x_train, y_train, epochs=10,verbose=1, validation_data=(x_test,y_test))"
      ],
      "metadata": {
        "colab": {
          "base_uri": "https://localhost:8080/"
        },
        "id": "6apQ-wJ1ZR8E",
        "outputId": "79954830-3f43-4d44-ec6a-a068f0a7e735"
      },
      "execution_count": null,
      "outputs": [
        {
          "output_type": "stream",
          "name": "stdout",
          "text": [
            "Epoch 1/10\n",
            "309/309 [==============================] - 292s 943ms/step - loss: 0.0565 - accuracy: 0.9827 - val_loss: 0.0675 - val_accuracy: 0.9789\n",
            "Epoch 2/10\n",
            "309/309 [==============================] - 291s 941ms/step - loss: 0.0356 - accuracy: 0.9902 - val_loss: 0.0332 - val_accuracy: 0.9882\n",
            "Epoch 3/10\n",
            "309/309 [==============================] - 292s 945ms/step - loss: 0.0542 - accuracy: 0.9852 - val_loss: 0.0387 - val_accuracy: 0.9870\n",
            "Epoch 4/10\n",
            "309/309 [==============================] - 291s 943ms/step - loss: 0.0192 - accuracy: 0.9954 - val_loss: 0.0303 - val_accuracy: 0.9895\n",
            "Epoch 5/10\n",
            "309/309 [==============================] - 291s 941ms/step - loss: 0.0401 - accuracy: 0.9889 - val_loss: 0.0781 - val_accuracy: 0.9753\n",
            "Epoch 6/10\n",
            "309/309 [==============================] - 291s 943ms/step - loss: 0.0125 - accuracy: 0.9965 - val_loss: 0.0164 - val_accuracy: 0.9955\n",
            "Epoch 7/10\n",
            "309/309 [==============================] - 291s 942ms/step - loss: 0.0076 - accuracy: 0.9983 - val_loss: 0.0152 - val_accuracy: 0.9972\n",
            "Epoch 8/10\n",
            "309/309 [==============================] - 291s 943ms/step - loss: 4.1933e-04 - accuracy: 1.0000 - val_loss: 0.0156 - val_accuracy: 0.9972\n",
            "Epoch 9/10\n",
            "309/309 [==============================] - 291s 942ms/step - loss: 1.6216e-04 - accuracy: 1.0000 - val_loss: 0.0172 - val_accuracy: 0.9968\n",
            "Epoch 10/10\n",
            "309/309 [==============================] - 291s 942ms/step - loss: 7.7633e-05 - accuracy: 1.0000 - val_loss: 0.0176 - val_accuracy: 0.9968\n"
          ]
        },
        {
          "output_type": "execute_result",
          "data": {
            "text/plain": [
              "<keras.callbacks.History at 0x7fd5daac9f10>"
            ]
          },
          "metadata": {},
          "execution_count": 12
        }
      ]
    },
    {
      "cell_type": "code",
      "source": [
        "y_pred=(model.predict(x_test) > 0.5).astype(\"int32\")"
      ],
      "metadata": {
        "id": "TI-3WKG_ZUQp"
      },
      "execution_count": null,
      "outputs": []
    },
    {
      "cell_type": "code",
      "source": [
        "from sklearn.metrics import classification_report, confusion_matrix, precision_score"
      ],
      "metadata": {
        "id": "PGbmfayAZWrN"
      },
      "execution_count": null,
      "outputs": []
    },
    {
      "cell_type": "code",
      "source": [
        "print(classification_report(y_test,y_pred))"
      ],
      "metadata": {
        "colab": {
          "base_uri": "https://localhost:8080/"
        },
        "id": "PjjoGZIHZYub",
        "outputId": "c9e439bc-7a4a-422d-84b8-3875ffd1b78e"
      },
      "execution_count": null,
      "outputs": [
        {
          "output_type": "stream",
          "name": "stdout",
          "text": [
            "              precision    recall  f1-score   support\n",
            "\n",
            "           0       1.00      0.99      1.00      1283\n",
            "           1       0.99      1.00      1.00      1184\n",
            "\n",
            "    accuracy                           1.00      2467\n",
            "   macro avg       1.00      1.00      1.00      2467\n",
            "weighted avg       1.00      1.00      1.00      2467\n",
            "\n"
          ]
        }
      ]
    },
    {
      "cell_type": "code",
      "source": [
        "precision_score(\n",
        "y_test,\n",
        "y_pred)"
      ],
      "metadata": {
        "colab": {
          "base_uri": "https://localhost:8080/"
        },
        "id": "F0-RCE_RZarD",
        "outputId": "f0c200ce-4301-463c-aaf7-0b8e9ee0ddcf"
      },
      "execution_count": null,
      "outputs": [
        {
          "output_type": "execute_result",
          "data": {
            "text/plain": [
              "0.9932885906040269"
            ]
          },
          "metadata": {},
          "execution_count": 16
        }
      ]
    },
    {
      "cell_type": "code",
      "source": [
        "from mlxtend.plotting import plot_confusion_matrix\n",
        "cm = confusion_matrix(y_test,y_pred)\n",
        "plot_confusion_matrix(conf_mat = cm,figsize=(8,7))"
      ],
      "metadata": {
        "colab": {
          "base_uri": "https://localhost:8080/",
          "height": 477
        },
        "id": "29eHJI8PZcm1",
        "outputId": "77ef3cfd-38e4-45df-e732-023af756bcdc"
      },
      "execution_count": null,
      "outputs": [
        {
          "output_type": "execute_result",
          "data": {
            "text/plain": [
              "(<Figure size 576x504 with 1 Axes>,\n",
              " <matplotlib.axes._subplots.AxesSubplot at 0x7fd5d91e9410>)"
            ]
          },
          "metadata": {},
          "execution_count": 17
        },
        {
          "output_type": "display_data",
          "data": {
            "image/png": "[encoded data removed]",
            "text/plain": [
              "<Figure size 576x504 with 1 Axes>"
            ]
          },
          "metadata": {
            "needs_background": "light"
          }
        }
      ]
    },
    {
      "cell_type": "code",
      "source": [
        "model.save('drive/MyDrive/my_model_Hypertension.h5')"
      ],
      "metadata": {
        "id": "QmMZwWVkZfg2"
      },
      "execution_count": null,
      "outputs": []
    },
    {
      "cell_type": "code",
      "source": [
        "drive.flush_and_unmount()"
      ],
      "metadata": {
        "id": "xpBmCYj3ZhZ5"
      },
      "execution_count": null,
      "outputs": []
    }
  ]
}