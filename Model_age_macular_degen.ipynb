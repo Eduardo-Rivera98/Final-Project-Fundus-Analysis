{
  "nbformat": 4,
  "nbformat_minor": 0,
  "metadata": {
    "colab": {
      "name": "Model_age_macular_degen",
      "provenance": [],
      "machine_shape": "hm",
      "authorship_tag": "ABX9TyNsioV7tMqeIgOt+ZEvFZRh",
      "include_colab_link": true
    },
    "kernelspec": {
      "name": "python3",
      "display_name": "Python 3"
    },
    "language_info": {
      "name": "python"
    }
  },
  "cells": [
    {
      "cell_type": "markdown",
      "metadata": {
        "id": "view-in-github",
        "colab_type": "text"
      },
      "source": [
        "<a href=\"https://colab.research.google.com/github/Eduardo-Rivera98/Final-Project-Fundus-Analysis/blob/main/Model_age_macular_degen.ipynb\" target=\"_parent\"><img src=\"https://colab.research.google.com/assets/colab-badge.svg\" alt=\"Open In Colab\"/></a>"
      ]
    },
    {
      "cell_type": "code",
      "execution_count": null,
      "metadata": {
        "id": "fVofsLRCqCO_"
      },
      "outputs": [],
      "source": [
        "from numpy import load\n",
        "import h5py"
      ]
    },
    {
      "cell_type": "code",
      "source": [
        "from google.colab import drive\n",
        "drive.mount('/content/drive')"
      ],
      "metadata": {
        "colab": {
          "base_uri": "https://localhost:8080/"
        },
        "id": "5urtVDZPqR6q",
        "outputId": "97e6227f-6c82-4fd2-a6a1-2bc1c596e1f7"
      },
      "execution_count": null,
      "outputs": [
        {
          "output_type": "stream",
          "name": "stdout",
          "text": [
            "Mounted at /content/drive\n"
          ]
        }
      ]
    },
    {
      "cell_type": "code",
      "source": [
        "x=load('drive/MyDrive/x.npy')"
      ],
      "metadata": {
        "id": "HEP_xjVNqUqR"
      },
      "execution_count": null,
      "outputs": []
    },
    {
      "cell_type": "code",
      "source": [
        "y=load('y.npy')"
      ],
      "metadata": {
        "id": "R7ZCCUWCqWze"
      },
      "execution_count": null,
      "outputs": []
    },
    {
      "cell_type": "code",
      "source": [
        "from sklearn.model_selection import train_test_split\n",
        "x_train,x_test,y_train,y_test = train_test_split(x,y,test_size=0.2)"
      ],
      "metadata": {
        "id": "3-SJEP5bqZJf"
      },
      "execution_count": null,
      "outputs": []
    },
    {
      "cell_type": "code",
      "source": [
        "from keras import models\n",
        "from keras import layers\n",
        "import tensorflow as tf\n",
        "model = models.Sequential()\n",
        "model.add(layers.Conv2D(16, (3,3), activation='relu', input_shape=(250, 250, 1))),\n",
        "model.add(layers.MaxPooling2D(2, 2)),\n",
        "model.add(layers.Conv2D(32, (3,3), activation='relu')),\n",
        "model.add(layers.MaxPooling2D(2,2)),\n",
        "model.add(layers.Conv2D(64, (3,3), activation='relu')),\n",
        "model.add(layers.MaxPooling2D(2,2)),\n",
        "model.add(layers.Conv2D(64, (3,3), activation='relu')),\n",
        "model.add(layers.MaxPooling2D(2,2)),\n",
        "model.add(layers.Conv2D(64, (3,3), activation='relu')),\n",
        "model.add(layers.MaxPooling2D(2,2)),\n",
        "model.add(layers.Flatten()),\n",
        "model.add(layer.Dropout(0.2)),\n",
        "model.add(layers.Dense(512, activation='relu')),\n",
        "model.add(layers.Dense(1, activation='sigmoid'))"
      ],
      "metadata": {
        "id": "Do2R75n_qbUI"
      },
      "execution_count": null,
      "outputs": []
    },
    {
      "cell_type": "code",
      "source": [
        "model.summary()"
      ],
      "metadata": {
        "colab": {
          "base_uri": "https://localhost:8080/"
        },
        "id": "f5tZn-Gnua0Z",
        "outputId": "dcb10d48-ce17-40f5-caae-283c1e623927"
      },
      "execution_count": null,
      "outputs": [
        {
          "output_type": "stream",
          "name": "stdout",
          "text": [
            "Model: \"sequential\"\n",
            "_________________________________________________________________\n",
            " Layer (type)                Output Shape              Param #   \n",
            "=================================================================\n",
            " conv2d (Conv2D)             (None, 248, 248, 16)      160       \n",
            "                                                                 \n",
            " max_pooling2d (MaxPooling2D  (None, 124, 124, 16)     0         \n",
            " )                                                               \n",
            "                                                                 \n",
            " conv2d_1 (Conv2D)           (None, 122, 122, 32)      4640      \n",
            "                                                                 \n",
            " max_pooling2d_1 (MaxPooling  (None, 61, 61, 32)       0         \n",
            " 2D)                                                             \n",
            "                                                                 \n",
            " conv2d_2 (Conv2D)           (None, 59, 59, 64)        18496     \n",
            "                                                                 \n",
            " max_pooling2d_2 (MaxPooling  (None, 29, 29, 64)       0         \n",
            " 2D)                                                             \n",
            "                                                                 \n",
            " conv2d_3 (Conv2D)           (None, 27, 27, 64)        36928     \n",
            "                                                                 \n",
            " max_pooling2d_3 (MaxPooling  (None, 13, 13, 64)       0         \n",
            " 2D)                                                             \n",
            "                                                                 \n",
            " conv2d_4 (Conv2D)           (None, 11, 11, 64)        36928     \n",
            "                                                                 \n",
            " max_pooling2d_4 (MaxPooling  (None, 5, 5, 64)         0         \n",
            " 2D)                                                             \n",
            "                                                                 \n",
            " flatten (Flatten)           (None, 1600)              0         \n",
            "                                                                 \n",
            " dense (Dense)               (None, 512)               819712    \n",
            "                                                                 \n",
            " dense_1 (Dense)             (None, 1)                 513       \n",
            "                                                                 \n",
            "=================================================================\n",
            "Total params: 917,377\n",
            "Trainable params: 917,377\n",
            "Non-trainable params: 0\n",
            "_________________________________________________________________\n"
          ]
        }
      ]
    },
    {
      "cell_type": "code",
      "source": [
        "model.compile(optimizer=\"adam\",loss=\"binary_crossentropy\",metrics=[\"accuracy\"])"
      ],
      "metadata": {
        "id": "EDppTE7FqiY7"
      },
      "execution_count": null,
      "outputs": []
    },
    {
      "cell_type": "code",
      "source": [
        "model.fit(x_train, y_train, epochs=20,verbose=1,shuffle = True, validation_data=(x_test,y_test))"
      ],
      "metadata": {
        "colab": {
          "base_uri": "https://localhost:8080/"
        },
        "id": "scBkNwNZqm27",
        "outputId": "726b3b2b-2210-4206-c8b1-a67a8f9a9cff"
      },
      "execution_count": null,
      "outputs": [
        {
          "output_type": "stream",
          "name": "stdout",
          "text": [
            "Epoch 1/20\n",
            "312/312 [==============================] - 299s 954ms/step - loss: 0.6779 - accuracy: 0.5767 - val_loss: 0.6584 - val_accuracy: 0.6112\n",
            "Epoch 2/20\n",
            "312/312 [==============================] - 300s 962ms/step - loss: 0.6318 - accuracy: 0.6346 - val_loss: 0.5690 - val_accuracy: 0.7215\n",
            "Epoch 3/20\n",
            "312/312 [==============================] - 300s 961ms/step - loss: 0.4747 - accuracy: 0.7710 - val_loss: 0.3835 - val_accuracy: 0.8162\n",
            "Epoch 4/20\n",
            "312/312 [==============================] - 297s 953ms/step - loss: 0.2746 - accuracy: 0.8894 - val_loss: 0.1969 - val_accuracy: 0.9322\n",
            "Epoch 5/20\n",
            "312/312 [==============================] - 298s 955ms/step - loss: 0.1259 - accuracy: 0.9551 - val_loss: 0.1390 - val_accuracy: 0.9571\n",
            "Epoch 6/20\n",
            "312/312 [==============================] - 297s 953ms/step - loss: 0.0767 - accuracy: 0.9751 - val_loss: 0.1112 - val_accuracy: 0.9691\n",
            "Epoch 7/20\n",
            "312/312 [==============================] - 297s 952ms/step - loss: 0.0465 - accuracy: 0.9885 - val_loss: 0.0894 - val_accuracy: 0.9795\n",
            "Epoch 8/20\n",
            "312/312 [==============================] - 298s 956ms/step - loss: 0.0146 - accuracy: 0.9962 - val_loss: 0.1057 - val_accuracy: 0.9791\n",
            "Epoch 9/20\n",
            "312/312 [==============================] - 298s 956ms/step - loss: 0.0165 - accuracy: 0.9946 - val_loss: 0.1492 - val_accuracy: 0.9635\n",
            "Epoch 10/20\n",
            "312/312 [==============================] - 299s 957ms/step - loss: 0.0228 - accuracy: 0.9930 - val_loss: 0.0664 - val_accuracy: 0.9843\n",
            "Epoch 11/20\n",
            "312/312 [==============================] - 298s 956ms/step - loss: 0.0032 - accuracy: 0.9992 - val_loss: 0.1415 - val_accuracy: 0.9775\n",
            "Epoch 12/20\n",
            "312/312 [==============================] - 297s 953ms/step - loss: 0.0241 - accuracy: 0.9937 - val_loss: 0.0583 - val_accuracy: 0.9904\n",
            "Epoch 13/20\n",
            "312/312 [==============================] - 296s 949ms/step - loss: 0.0044 - accuracy: 0.9982 - val_loss: 0.1143 - val_accuracy: 0.9839\n",
            "Epoch 14/20\n",
            "312/312 [==============================] - 296s 949ms/step - loss: 0.0075 - accuracy: 0.9972 - val_loss: 0.0655 - val_accuracy: 0.9928\n",
            "Epoch 15/20\n",
            "312/312 [==============================] - 298s 956ms/step - loss: 2.9246e-04 - accuracy: 1.0000 - val_loss: 0.0915 - val_accuracy: 0.9908\n",
            "Epoch 16/20\n",
            "312/312 [==============================] - 298s 954ms/step - loss: 1.1688e-04 - accuracy: 1.0000 - val_loss: 0.0976 - val_accuracy: 0.9904\n",
            "Epoch 17/20\n",
            "312/312 [==============================] - 298s 956ms/step - loss: 7.8857e-05 - accuracy: 1.0000 - val_loss: 0.0986 - val_accuracy: 0.9904\n",
            "Epoch 18/20\n",
            "312/312 [==============================] - 299s 958ms/step - loss: 5.8336e-05 - accuracy: 1.0000 - val_loss: 0.1011 - val_accuracy: 0.9904\n",
            "Epoch 19/20\n",
            "312/312 [==============================] - 302s 967ms/step - loss: 4.5389e-05 - accuracy: 1.0000 - val_loss: 0.1002 - val_accuracy: 0.9904\n",
            "Epoch 20/20\n",
            "312/312 [==============================] - 300s 963ms/step - loss: 3.5311e-05 - accuracy: 1.0000 - val_loss: 0.1001 - val_accuracy: 0.9908\n"
          ]
        },
        {
          "output_type": "execute_result",
          "data": {
            "text/plain": [
              "<keras.callbacks.History at 0x7f364e9c1a90>"
            ]
          },
          "metadata": {},
          "execution_count": 10
        }
      ]
    },
    {
      "cell_type": "code",
      "source": [
        "y_pred=(model.predict(x_test) > 0.5).astype(\"int32\")"
      ],
      "metadata": {
        "id": "fDBGwp3Dqo8N"
      },
      "execution_count": null,
      "outputs": []
    },
    {
      "cell_type": "code",
      "source": [
        "from sklearn.metrics import classification_report, confusion_matrix, precision_score"
      ],
      "metadata": {
        "id": "rCD0jLrGqsOG"
      },
      "execution_count": null,
      "outputs": []
    },
    {
      "cell_type": "code",
      "source": [
        "print(classification_report(y_test,y_pred))"
      ],
      "metadata": {
        "colab": {
          "base_uri": "https://localhost:8080/"
        },
        "id": "4V3fzNcPquyy",
        "outputId": "9b7a2440-6479-4d82-c71c-09e33566fa91"
      },
      "execution_count": null,
      "outputs": [
        {
          "output_type": "stream",
          "name": "stdout",
          "text": [
            "              precision    recall  f1-score   support\n",
            "\n",
            "           0       1.00      0.98      0.99      1231\n",
            "           1       0.98      1.00      0.99      1261\n",
            "\n",
            "    accuracy                           0.99      2492\n",
            "   macro avg       0.99      0.99      0.99      2492\n",
            "weighted avg       0.99      0.99      0.99      2492\n",
            "\n"
          ]
        }
      ]
    },
    {
      "cell_type": "code",
      "source": [
        "precision_score(\n",
        "y_test,\n",
        "y_pred)"
      ],
      "metadata": {
        "colab": {
          "base_uri": "https://localhost:8080/"
        },
        "id": "CkxSZRvIqx1A",
        "outputId": "579117a1-7c66-4508-c1aa-89b31b02a656"
      },
      "execution_count": null,
      "outputs": [
        {
          "output_type": "execute_result",
          "data": {
            "text/plain": [
              "0.9820872274143302"
            ]
          },
          "metadata": {},
          "execution_count": 14
        }
      ]
    },
    {
      "cell_type": "code",
      "source": [
        "from mlxtend.plotting import plot_confusion_matrix\n",
        "cm = confusion_matrix(y_test,y_pred)\n",
        "plot_confusion_matrix(conf_mat = cm,figsize=(8,7))"
      ],
      "metadata": {
        "colab": {
          "base_uri": "https://localhost:8080/",
          "height": 477
        },
        "id": "0M0y4njJq0bo",
        "outputId": "90604c43-557b-4066-feec-37c3d2b6956c"
      },
      "execution_count": null,
      "outputs": [
        {
          "output_type": "execute_result",
          "data": {
            "text/plain": [
              "(<Figure size 576x504 with 1 Axes>,\n",
              " <matplotlib.axes._subplots.AxesSubplot at 0x7f364d167250>)"
            ]
          },
          "metadata": {},
          "execution_count": 15
        },
        {
          "output_type": "display_data",
          "data": {
            "image/png": "[encoded data removed]",
            "text/plain": [
              "<Figure size 576x504 with 1 Axes>"
            ]
          },
          "metadata": {
            "needs_background": "light"
          }
        }
      ]
    },
    {
      "cell_type": "code",
      "source": [
        "model.save('drive/MyDrive/my_model_Age_macular_degen.h5')"
      ],
      "metadata": {
        "id": "EPmiewUWvDu5"
      },
      "execution_count": null,
      "outputs": []
    },
    {
      "cell_type": "code",
      "source": [
        "drive.flush_and_unmount()"
      ],
      "metadata": {
        "id": "CC1bnvu1vHdx"
      },
      "execution_count": null,
      "outputs": []
    },
    {
      "cell_type": "code",
      "source": [
        ""
      ],
      "metadata": {
        "id": "DBxPhSqVKGtA"
      },
      "execution_count": null,
      "outputs": []
    }
  ]
}