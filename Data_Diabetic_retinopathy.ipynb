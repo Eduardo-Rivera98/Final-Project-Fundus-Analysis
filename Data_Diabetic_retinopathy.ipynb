{
 "cells": [
  {
   "cell_type": "code",
   "execution_count": 157,
   "id": "6e057337",
   "metadata": {},
   "outputs": [],
   "source": [
    "import pandas as pd\n",
    "import numpy as np\n",
    "from keras.preprocessing.image import ImageDataGenerator\n",
    "import os\n",
    "import cv2\n",
    "import matplotlib.pyplot as plt\n",
    "import random\n",
    "from numpy import save"
   ]
  },
  {
   "cell_type": "code",
   "execution_count": 2,
   "id": "7bd6ae7b",
   "metadata": {},
   "outputs": [],
   "source": [
    "df=pd.read_csv('full_df.csv')"
   ]
  },
  {
   "cell_type": "code",
   "execution_count": 3,
   "id": "8a1586b6",
   "metadata": {},
   "outputs": [],
   "source": [
    "df3= df[(df['labels']== \"['D']\")&(df.D==1)]"
   ]
  },
  {
   "cell_type": "code",
   "execution_count": 4,
   "id": "c1cd841d",
   "metadata": {},
   "outputs": [],
   "source": [
    "df2= df[(df['labels']!= \"['D']\")& (df.D==0)]"
   ]
  },
  {
   "cell_type": "code",
   "execution_count": 96,
   "id": "30371923",
   "metadata": {},
   "outputs": [
    {
     "data": {
      "text/plain": [
       "4269"
      ]
     },
     "execution_count": 96,
     "metadata": {},
     "output_type": "execute_result"
    }
   ],
   "source": [
    "len(df2)"
   ]
  },
  {
   "cell_type": "code",
   "execution_count": 70,
   "id": "7281d08d",
   "metadata": {},
   "outputs": [
    {
     "data": {
      "text/plain": [
       "1608"
      ]
     },
     "execution_count": 70,
     "metadata": {},
     "output_type": "execute_result"
    }
   ],
   "source": [
    "len(df3)"
   ]
  },
  {
   "cell_type": "code",
   "execution_count": 7,
   "id": "3434f84b",
   "metadata": {},
   "outputs": [],
   "source": [
    "NoDiab=df2.filename"
   ]
  },
  {
   "cell_type": "code",
   "execution_count": 8,
   "id": "69de700a",
   "metadata": {},
   "outputs": [],
   "source": [
    "NoDiabPrueba=NoDiab[-30:]"
   ]
  },
  {
   "cell_type": "code",
   "execution_count": 9,
   "id": "10b999f5",
   "metadata": {},
   "outputs": [],
   "source": [
    "NoDiabTesteo=NoDiab[:-30]"
   ]
  },
  {
   "cell_type": "code",
   "execution_count": 32,
   "id": "e103e9cf",
   "metadata": {},
   "outputs": [
    {
     "data": {
      "text/plain": [
       "30"
      ]
     },
     "execution_count": 32,
     "metadata": {},
     "output_type": "execute_result"
    }
   ],
   "source": [
    "len(NoDiabPrueba)"
   ]
  },
  {
   "cell_type": "code",
   "execution_count": 11,
   "id": "d5c4237d",
   "metadata": {},
   "outputs": [],
   "source": [
    "Diab=df3.filename"
   ]
  },
  {
   "cell_type": "code",
   "execution_count": 12,
   "id": "8e7503d4",
   "metadata": {},
   "outputs": [],
   "source": [
    "DiabPrueba=Diab[-30:]"
   ]
  },
  {
   "cell_type": "code",
   "execution_count": 13,
   "id": "0c6ddfd4",
   "metadata": {},
   "outputs": [],
   "source": [
    "DiabTesteo=Diab[:-30]"
   ]
  },
  {
   "cell_type": "code",
   "execution_count": 182,
   "id": "135f1561",
   "metadata": {},
   "outputs": [
    {
     "data": {
      "text/plain": [
       "30"
      ]
     },
     "execution_count": 182,
     "metadata": {},
     "output_type": "execute_result"
    }
   ],
   "source": [
    "len(DiabPrueba)"
   ]
  },
  {
   "cell_type": "code",
   "execution_count": 183,
   "id": "c0eb269e",
   "metadata": {},
   "outputs": [],
   "source": [
    "def create_dataset(image_category,label):\n",
    "    dataset_dir = \"Datos/preprocessed_2\"\n",
    "    image_size=250\n",
    "    labels = []\n",
    "    dataset = []\n",
    "    for img in image_category:\n",
    "        image_path = os.path.join(dataset_dir,img)\n",
    "        try:\n",
    "            img = cv2.imread(image_path,3)\n",
    "            img = cv2.resize(img, (250,250))\n",
    "            img = img.astype(np.float32)/255\n",
    "    \n",
    "            \n",
    "        except:\n",
    "            continue\n",
    "        \n",
    "        dataset.append([np.array(img),np.array(label)])\n",
    "    random.shuffle(dataset)\n",
    "    return dataset"
   ]
  },
  {
   "cell_type": "code",
   "execution_count": 165,
   "id": "93344480",
   "metadata": {},
   "outputs": [],
   "source": [
    "def augment(category,label,mult):\n",
    "    x=[]\n",
    "    for img in category:\n",
    "        try:\n",
    "            img = cv2.imread(f\"Datos/preprocessed_2/{img}\",0)\n",
    "            img = cv2.resize(img, (250,250))\n",
    "            img = img.astype(np.float32)/255\n",
    "            img = img[..., np.newaxis]\n",
    "        except:\n",
    "            continue\n",
    "        train_datagen = ImageDataGenerator(\n",
    "                    rotation_range=20,\n",
    "                    zoom_range=0.2,\n",
    "                    brightness_range=(0.4, 1.2),\n",
    "                    height_shift_range=0.2,\n",
    "                    )\n",
    "        img = img.reshape((1,) + img.shape)\n",
    "        \n",
    "        it = train_datagen.flow(x=img, batch_size=1)\n",
    "        for i in range(mult):\n",
    "            batch = it.next()\n",
    "            aug_img = batch[0]\n",
    "            aug_img=aug_img.reshape(-1)\n",
    "            x.append([np.array(img),np.array(label)])\n",
    "            \n",
    "       \n",
    "    for i in range(len(x)):\n",
    "        x[i][0]=x[i][0].reshape(x[i][0].shape[1:])\n",
    "    return x"
   ]
  },
  {
   "cell_type": "code",
   "execution_count": 184,
   "id": "6f40068b",
   "metadata": {},
   "outputs": [],
   "source": [
    "Diab_prueba=create_dataset(DiabPrueba,1)"
   ]
  },
  {
   "cell_type": "code",
   "execution_count": 35,
   "id": "a0160ec8",
   "metadata": {},
   "outputs": [],
   "source": [
    "NoDiab_prueba=create_dataset(NoDiabPrueba,0)"
   ]
  },
  {
   "cell_type": "code",
   "execution_count": 78,
   "id": "cfb16811",
   "metadata": {},
   "outputs": [],
   "source": [
    "DiabetesTotalPrueba=Diab_prueba+NoDiab_prueba"
   ]
  },
  {
   "cell_type": "code",
   "execution_count": 122,
   "id": "233953f2",
   "metadata": {},
   "outputs": [
    {
     "data": {
      "text/plain": [
       "60"
      ]
     },
     "execution_count": 122,
     "metadata": {},
     "output_type": "execute_result"
    }
   ],
   "source": [
    "len(DiabetesTotalPrueba)"
   ]
  },
  {
   "cell_type": "code",
   "execution_count": 123,
   "id": "e8f43d33",
   "metadata": {},
   "outputs": [],
   "source": [
    "x_test = np.array([i[0]for i in DiabetesTotalPrueba])\n",
    "y_test = np.array([i[1] for i in DiabetesTotalPrueba])"
   ]
  },
  {
   "cell_type": "code",
   "execution_count": 124,
   "id": "d04e1252",
   "metadata": {},
   "outputs": [
    {
     "data": {
      "text/plain": [
       "60"
      ]
     },
     "execution_count": 124,
     "metadata": {},
     "output_type": "execute_result"
    }
   ],
   "source": [
    "len(x_test)"
   ]
  },
  {
   "cell_type": "code",
   "execution_count": 166,
   "id": "f11ebb74",
   "metadata": {},
   "outputs": [],
   "source": [
    "Diab_Aug=augment(DiabTesteo,1,1)"
   ]
  },
  {
   "cell_type": "code",
   "execution_count": 167,
   "id": "acb08e89",
   "metadata": {},
   "outputs": [
    {
     "data": {
      "text/plain": [
       "1578"
      ]
     },
     "execution_count": 167,
     "metadata": {},
     "output_type": "execute_result"
    }
   ],
   "source": [
    "len(Diab_Aug)"
   ]
  },
  {
   "cell_type": "code",
   "execution_count": 111,
   "id": "e0b5d181",
   "metadata": {},
   "outputs": [],
   "source": [
    "#NoDiab_Aug=augment(NoDiabTesteo,0,1)"
   ]
  },
  {
   "cell_type": "code",
   "execution_count": 159,
   "id": "3f91feb1",
   "metadata": {},
   "outputs": [],
   "source": [
    "Nodiabetes=create_dataset(NoDiabTesteo,0)"
   ]
  },
  {
   "cell_type": "code",
   "execution_count": 160,
   "id": "91c866fd",
   "metadata": {},
   "outputs": [
    {
     "data": {
      "text/plain": [
       "4239"
      ]
     },
     "execution_count": 160,
     "metadata": {},
     "output_type": "execute_result"
    }
   ],
   "source": [
    "len(Nodiabetes)"
   ]
  },
  {
   "cell_type": "code",
   "execution_count": null,
   "id": "c0547eaf",
   "metadata": {},
   "outputs": [],
   "source": [
    "Diabetes=create_dataset(DiabTesteo,1)"
   ]
  },
  {
   "cell_type": "code",
   "execution_count": 163,
   "id": "56be33cf",
   "metadata": {},
   "outputs": [
    {
     "data": {
      "text/plain": [
       "1578"
      ]
     },
     "execution_count": 163,
     "metadata": {},
     "output_type": "execute_result"
    }
   ],
   "source": [
    "len(Diabetes)"
   ]
  },
  {
   "cell_type": "code",
   "execution_count": 168,
   "id": "813a55d5",
   "metadata": {},
   "outputs": [],
   "source": [
    "Totaldetotal=Diabetes+Nodiabetes+Diab_Aug"
   ]
  },
  {
   "cell_type": "code",
   "execution_count": 169,
   "id": "cdc21bfe",
   "metadata": {},
   "outputs": [
    {
     "data": {
      "text/plain": [
       "7395"
      ]
     },
     "execution_count": 169,
     "metadata": {},
     "output_type": "execute_result"
    }
   ],
   "source": [
    "len(Totaldetotal)"
   ]
  },
  {
   "cell_type": "code",
   "execution_count": 170,
   "id": "55375ab4",
   "metadata": {},
   "outputs": [],
   "source": [
    "x = np.array([i[0]for i in Totaldetotal])\n",
    "y = np.array([i[1] for i in Totaldetotal])"
   ]
  },
  {
   "cell_type": "code",
   "execution_count": 171,
   "id": "58645a37",
   "metadata": {},
   "outputs": [
    {
     "data": {
      "text/plain": [
       "(7395, 250, 250, 1)"
      ]
     },
     "execution_count": 171,
     "metadata": {},
     "output_type": "execute_result"
    }
   ],
   "source": [
    "x.shape"
   ]
  },
  {
   "cell_type": "code",
   "execution_count": 172,
   "id": "7df9c185",
   "metadata": {},
   "outputs": [],
   "source": [
    "save('x',x)"
   ]
  },
  {
   "cell_type": "code",
   "execution_count": 173,
   "id": "17867559",
   "metadata": {},
   "outputs": [],
   "source": [
    "save('y',y)"
   ]
  },
  {
   "cell_type": "code",
   "execution_count": 38,
   "id": "c931c20e",
   "metadata": {},
   "outputs": [],
   "source": [
    "import h5py\n",
    "import cv2\n",
    "from keras.models import load_model\n",
    "import numpy as np"
   ]
  },
  {
   "cell_type": "code",
   "execution_count": 175,
   "id": "31fa4992",
   "metadata": {},
   "outputs": [],
   "source": [
    "model = load_model(\"my_model_diabetes7.h5\")"
   ]
  },
  {
   "cell_type": "code",
   "execution_count": 213,
   "id": "9f91e594",
   "metadata": {},
   "outputs": [
    {
     "data": {
      "text/plain": [
       "0.0"
      ]
     },
     "execution_count": 213,
     "metadata": {},
     "output_type": "execute_result"
    }
   ],
   "source": [
    "c=round(float(y_pred[0][0]),5)\n",
    "c"
   ]
  },
  {
   "cell_type": "code",
   "execution_count": 198,
   "id": "ecf8d634",
   "metadata": {},
   "outputs": [],
   "source": [
    "y_pred = (model.predict(x_test))["
   ]
  },
  {
   "cell_type": "code",
   "execution_count": 179,
   "id": "47a50b31",
   "metadata": {},
   "outputs": [],
   "source": [
    "from sklearn.metrics import classification_report, confusion_matrix, precision_score"
   ]
  },
  {
   "cell_type": "code",
   "execution_count": 180,
   "id": "43bca42a",
   "metadata": {},
   "outputs": [
    {
     "data": {
      "text/plain": [
       "0.7222222222222222"
      ]
     },
     "execution_count": 180,
     "metadata": {},
     "output_type": "execute_result"
    }
   ],
   "source": [
    "precision_score(\n",
    "y_test,\n",
    "y_pred)"
   ]
  },
  {
   "cell_type": "code",
   "execution_count": 181,
   "id": "2b3f9b06",
   "metadata": {},
   "outputs": [
    {
     "name": "stdout",
     "output_type": "stream",
     "text": [
      "              precision    recall  f1-score   support\n",
      "\n",
      "           0       0.60      0.83      0.69        30\n",
      "           1       0.72      0.43      0.54        30\n",
      "\n",
      "    accuracy                           0.63        60\n",
      "   macro avg       0.66      0.63      0.62        60\n",
      "weighted avg       0.66      0.63      0.62        60\n",
      "\n"
     ]
    }
   ],
   "source": [
    "print(classification_report(y_test,y_pred))"
   ]
  },
  {
   "cell_type": "code",
   "execution_count": null,
   "id": "926e0c73",
   "metadata": {},
   "outputs": [],
   "source": []
  }
 ],
 "metadata": {
  "kernelspec": {
   "display_name": "Project",
   "language": "python",
   "name": "project"
  },
  "language_info": {
   "codemirror_mode": {
    "name": "ipython",
    "version": 3
   },
   "file_extension": ".py",
   "mimetype": "text/x-python",
   "name": "python",
   "nbconvert_exporter": "python",
   "pygments_lexer": "ipython3",
   "version": "3.9.7"
  }
 },
 "nbformat": 4,
 "nbformat_minor": 5
}
