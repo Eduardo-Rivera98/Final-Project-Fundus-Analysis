{
 "cells": [
  {
   "cell_type": "code",
   "execution_count": 23,
   "id": "02372f1a",
   "metadata": {},
   "outputs": [],
   "source": [
    "import pandas as pd\n",
    "import numpy as np\n",
    "from keras.preprocessing.image import ImageDataGenerator\n",
    "import os\n",
    "import cv2\n",
    "import matplotlib.pyplot as plt\n",
    "import random\n",
    "from numpy import save"
   ]
  },
  {
   "cell_type": "code",
   "execution_count": 24,
   "id": "a4c81e89",
   "metadata": {},
   "outputs": [],
   "source": [
    "df=pd.read_csv('full_df.csv')"
   ]
  },
  {
   "cell_type": "code",
   "execution_count": 39,
   "id": "d039e127",
   "metadata": {},
   "outputs": [],
   "source": [
    "df3= df[(df['labels']== \"['A']\")&(df.A==1)]"
   ]
  },
  {
   "cell_type": "code",
   "execution_count": 40,
   "id": "aa45b57e",
   "metadata": {},
   "outputs": [],
   "source": [
    "df2= df[(df['labels']!= \"['A']\")& (df.A==0)]"
   ]
  },
  {
   "cell_type": "code",
   "execution_count": 41,
   "id": "60de306c",
   "metadata": {},
   "outputs": [
    {
     "data": {
      "text/plain": [
       "6073"
      ]
     },
     "execution_count": 41,
     "metadata": {},
     "output_type": "execute_result"
    }
   ],
   "source": [
    "len(df2)"
   ]
  },
  {
   "cell_type": "code",
   "execution_count": 42,
   "id": "bc5cf2cf",
   "metadata": {},
   "outputs": [
    {
     "data": {
      "text/plain": [
       "266"
      ]
     },
     "execution_count": 42,
     "metadata": {},
     "output_type": "execute_result"
    }
   ],
   "source": [
    "len(df3)"
   ]
  },
  {
   "cell_type": "code",
   "execution_count": 44,
   "id": "0ef1fc06",
   "metadata": {},
   "outputs": [],
   "source": [
    "NoAge=df2.filename"
   ]
  },
  {
   "cell_type": "code",
   "execution_count": 43,
   "id": "47539746",
   "metadata": {},
   "outputs": [],
   "source": [
    "Age=df3.filename"
   ]
  },
  {
   "cell_type": "code",
   "execution_count": 45,
   "id": "5a6b944b",
   "metadata": {},
   "outputs": [],
   "source": [
    "def create_dataset(image_category,label):\n",
    "    dataset_dir = \"Datos/preprocessed_2\"\n",
    "    image_size=250\n",
    "    labels = []\n",
    "    dataset = []\n",
    "    for img in image_category:\n",
    "        image_path = os.path.join(dataset_dir,img)\n",
    "        try:\n",
    "            img = cv2.imread(image_path,0)\n",
    "            img = cv2.resize(img, (250,250))\n",
    "            img = img.astype(np.float32)/255\n",
    "            img = img[..., np.newaxis]\n",
    "            \n",
    "        except:\n",
    "            continue\n",
    "        \n",
    "        dataset.append([np.array(img),np.array(label)])\n",
    "    random.shuffle(dataset)\n",
    "    return dataset"
   ]
  },
  {
   "cell_type": "code",
   "execution_count": 46,
   "id": "19e90e81",
   "metadata": {},
   "outputs": [],
   "source": [
    "def augment(category,label,mult):\n",
    "    x=[]\n",
    "    for img in category:\n",
    "        try:\n",
    "            img = cv2.imread(f\"Datos/preprocessed_2/{img}\",0)\n",
    "            img = cv2.resize(img, (250,250))\n",
    "            img = img.astype(np.float32)/255\n",
    "            img = img[..., np.newaxis]\n",
    "        except:\n",
    "            continue\n",
    "        train_datagen = ImageDataGenerator(\n",
    "                    rotation_range=30,\n",
    "                    zoom_range=0.1,\n",
    "                    vertical_flip=True,\n",
    "                    brightness_range=(0.2, 1.5),\n",
    "                    height_shift_range=0.1,\n",
    "                    )\n",
    "        img = img.reshape((1,) + img.shape)\n",
    "        \n",
    "        it = train_datagen.flow(x=img, batch_size=1)\n",
    "        for i in range(mult):\n",
    "            batch = it.next()\n",
    "            aug_img = batch[0]\n",
    "            aug_img=aug_img.reshape(-1)\n",
    "            x.append([np.array(img),np.array(label)])\n",
    "            \n",
    "       \n",
    "    for i in range(len(x)):\n",
    "        x[i][0]=x[i][0].reshape(x[i][0].shape[1:])\n",
    "    return x"
   ]
  },
  {
   "cell_type": "code",
   "execution_count": 49,
   "id": "ec3143ea",
   "metadata": {},
   "outputs": [],
   "source": [
    "Age_augment=augment(Age,1,23)"
   ]
  },
  {
   "cell_type": "code",
   "execution_count": 48,
   "id": "ed87a536",
   "metadata": {},
   "outputs": [
    {
     "data": {
      "text/plain": [
       "7980"
      ]
     },
     "execution_count": 48,
     "metadata": {},
     "output_type": "execute_result"
    }
   ],
   "source": [
    "len(Age_augment)"
   ]
  },
  {
   "cell_type": "code",
   "execution_count": 50,
   "id": "ffaa9d98",
   "metadata": {},
   "outputs": [],
   "source": [
    "NoAgemac=create_dataset(NoAge,0)"
   ]
  },
  {
   "cell_type": "code",
   "execution_count": 51,
   "id": "edff1be0",
   "metadata": {},
   "outputs": [],
   "source": [
    "Agemac=create_dataset(Age,1)"
   ]
  },
  {
   "cell_type": "code",
   "execution_count": 52,
   "id": "d2934f72",
   "metadata": {},
   "outputs": [],
   "source": [
    "TotalAge=Age_augment+NoAgemac+Agemac"
   ]
  },
  {
   "cell_type": "code",
   "execution_count": 53,
   "id": "ed341bb5",
   "metadata": {},
   "outputs": [
    {
     "data": {
      "text/plain": [
       "12457"
      ]
     },
     "execution_count": 53,
     "metadata": {},
     "output_type": "execute_result"
    }
   ],
   "source": [
    "len(TotalAge)"
   ]
  },
  {
   "cell_type": "code",
   "execution_count": 54,
   "id": "3b7105a8",
   "metadata": {},
   "outputs": [],
   "source": [
    "x = np.array([i[0]for i in TotalAge])\n",
    "y = np.array([i[1] for i in TotalAge])"
   ]
  },
  {
   "cell_type": "code",
   "execution_count": 55,
   "id": "ce550e09",
   "metadata": {},
   "outputs": [
    {
     "data": {
      "text/plain": [
       "(12457, 250, 250, 1)"
      ]
     },
     "execution_count": 55,
     "metadata": {},
     "output_type": "execute_result"
    }
   ],
   "source": [
    "x.shape"
   ]
  },
  {
   "cell_type": "code",
   "execution_count": 56,
   "id": "86b69a7e",
   "metadata": {},
   "outputs": [],
   "source": [
    "save('x',x)"
   ]
  },
  {
   "cell_type": "code",
   "execution_count": 57,
   "id": "e795859a",
   "metadata": {},
   "outputs": [],
   "source": [
    "save('y',y)"
   ]
  },
  {
   "cell_type": "code",
   "execution_count": null,
   "id": "8e7a820f",
   "metadata": {},
   "outputs": [],
   "source": []
  }
 ],
 "metadata": {
  "kernelspec": {
   "display_name": "Project",
   "language": "python",
   "name": "project"
  },
  "language_info": {
   "codemirror_mode": {
    "name": "ipython",
    "version": 3
   },
   "file_extension": ".py",
   "mimetype": "text/x-python",
   "name": "python",
   "nbconvert_exporter": "python",
   "pygments_lexer": "ipython3",
   "version": "3.9.7"
  }
 },
 "nbformat": 4,
 "nbformat_minor": 5
}
