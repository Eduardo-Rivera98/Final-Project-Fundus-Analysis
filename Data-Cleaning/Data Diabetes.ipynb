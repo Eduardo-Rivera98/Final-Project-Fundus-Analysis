{
 "cells": [
  {
   "cell_type": "code",
   "execution_count": 213,
   "id": "adc862d5",
   "metadata": {},
   "outputs": [],
   "source": [
    "import pandas as pd\n",
    "import numpy as np\n",
    "from keras.preprocessing.image import ImageDataGenerator\n",
    "import os\n",
    "import cv2\n",
    "import matplotlib.pyplot as plt\n",
    "import random\n",
    "from numpy import save"
   ]
  },
  {
   "cell_type": "code",
   "execution_count": 244,
   "id": "e62f8288",
   "metadata": {},
   "outputs": [],
   "source": [
    "df2= df[df['labels']== \"['D']\"]"
   ]
  },
  {
   "cell_type": "code",
   "execution_count": 265,
   "id": "917a5a1b",
   "metadata": {},
   "outputs": [],
   "source": [
    "df3= df[(df['labels']!= \"['D']\") & (df['D']== 0)]"
   ]
  },
  {
   "cell_type": "code",
   "execution_count": 268,
   "id": "f43ccd3d",
   "metadata": {},
   "outputs": [],
   "source": [
    "Diab=list(df2.filename)"
   ]
  },
  {
   "cell_type": "code",
   "execution_count": 269,
   "id": "35fc69d3",
   "metadata": {},
   "outputs": [
    {
     "data": {
      "text/plain": [
       "1608"
      ]
     },
     "execution_count": 269,
     "metadata": {},
     "output_type": "execute_result"
    }
   ],
   "source": [
    "len(Diab)"
   ]
  },
  {
   "cell_type": "code",
   "execution_count": 270,
   "id": "7b274587",
   "metadata": {},
   "outputs": [],
   "source": [
    "NoDiab=list(df3.filename)"
   ]
  },
  {
   "cell_type": "code",
   "execution_count": 271,
   "id": "9225fd12",
   "metadata": {},
   "outputs": [
    {
     "data": {
      "text/plain": [
       "4269"
      ]
     },
     "execution_count": 271,
     "metadata": {},
     "output_type": "execute_result"
    }
   ],
   "source": [
    "len(NoDiab)"
   ]
  },
  {
   "cell_type": "code",
   "execution_count": 216,
   "id": "417babd1",
   "metadata": {},
   "outputs": [],
   "source": [
    "df=pd.read_csv('full_df.csv')"
   ]
  },
  {
   "cell_type": "code",
   "execution_count": 217,
   "id": "d1683e90",
   "metadata": {},
   "outputs": [],
   "source": [
    "def has_diabetes(x):\n",
    "    if 'proliferative' in x:\n",
    "        return 1\n",
    "    elif 'nonproliferative' in x:\n",
    "        return 1\n",
    "    elif 'non proliferative' in x:\n",
    "        return 1\n",
    "    elif 'diabetic'in x:\n",
    "        return 1\n",
    "    else:\n",
    "        return 0"
   ]
  },
  {
   "cell_type": "code",
   "execution_count": 218,
   "id": "dea8f783",
   "metadata": {},
   "outputs": [],
   "source": [
    "df[\"left_diabetes\"] = df[\"Left-Diagnostic Keywords\"].apply(lambda x: has_diabetes(x))\n",
    "df[\"right_diabetes\"] = df[\"Right-Diagnostic Keywords\"].apply(lambda x: has_diabetes(x))"
   ]
  },
  {
   "cell_type": "code",
   "execution_count": 219,
   "id": "2d0d8da0",
   "metadata": {},
   "outputs": [],
   "source": [
    "left_diabetes = df.loc[(df.left_diabetes == 1)][\"Left-Fundus\"].values\n",
    "right_diabetes = df.loc[(df.right_diabetes == 1)][\"Right-Fundus\"].values"
   ]
  },
  {
   "cell_type": "code",
   "execution_count": 220,
   "id": "161e40dc",
   "metadata": {},
   "outputs": [],
   "source": [
    "diabetes = np.concatenate((left_diabetes,right_diabetes),axis=0)"
   ]
  },
  {
   "cell_type": "code",
   "execution_count": 221,
   "id": "cc7412af",
   "metadata": {},
   "outputs": [
    {
     "data": {
      "text/plain": [
       "3411"
      ]
     },
     "execution_count": 221,
     "metadata": {},
     "output_type": "execute_result"
    }
   ],
   "source": [
    "len(diabetes)"
   ]
  },
  {
   "cell_type": "code",
   "execution_count": 222,
   "id": "a1eeab39",
   "metadata": {},
   "outputs": [],
   "source": [
    "Diabetes= set(diabetes)"
   ]
  },
  {
   "cell_type": "code",
   "execution_count": 223,
   "id": "edc48a0e",
   "metadata": {},
   "outputs": [
    {
     "data": {
      "text/plain": [
       "1764"
      ]
     },
     "execution_count": 223,
     "metadata": {},
     "output_type": "execute_result"
    }
   ],
   "source": [
    "len(Diabetes)"
   ]
  },
  {
   "cell_type": "code",
   "execution_count": 228,
   "id": "857e0982",
   "metadata": {},
   "outputs": [],
   "source": [
    "left_normal = df.loc[(df.D ==0)][\"Left-Fundus\"].sample(960,random_state=42).values\n",
    "right_normal = df.loc[(df.D==0)][\"Right-Fundus\"].sample(960,random_state=42).values"
   ]
  },
  {
   "cell_type": "code",
   "execution_count": 229,
   "id": "fab55935",
   "metadata": {},
   "outputs": [],
   "source": [
    "Nodiab = np.concatenate((left_normal,right_normal),axis=0)"
   ]
  },
  {
   "cell_type": "code",
   "execution_count": 230,
   "id": "23880a69",
   "metadata": {},
   "outputs": [],
   "source": [
    "NOdiab=set(Nodiab)"
   ]
  },
  {
   "cell_type": "code",
   "execution_count": 231,
   "id": "26347531",
   "metadata": {},
   "outputs": [
    {
     "data": {
      "text/plain": [
       "1726"
      ]
     },
     "execution_count": 231,
     "metadata": {},
     "output_type": "execute_result"
    }
   ],
   "source": [
    "len(NOdiab)"
   ]
  },
  {
   "cell_type": "code",
   "execution_count": 253,
   "id": "aaf29e5f",
   "metadata": {},
   "outputs": [],
   "source": [
    "def create_dataset(image_category,label):\n",
    "    dataset_dir = \"Datos/preprocessed_2\"\n",
    "    image_size=250\n",
    "    labels = []\n",
    "    dataset = []\n",
    "    for img in image_category:\n",
    "        image_path = os.path.join(dataset_dir,img)\n",
    "        try:\n",
    "            img = cv2.imread(image_path,0)\n",
    "            img = cv2.resize(img, (250,250))\n",
    "            img = img.astype(np.float32)/255\n",
    "            img = img[..., np.newaxis]\n",
    "            \n",
    "        except:\n",
    "            continue\n",
    "        \n",
    "        dataset.append([np.array(img),np.array(label)])\n",
    "    random.shuffle(dataset)\n",
    "    return dataset"
   ]
  },
  {
   "cell_type": "code",
   "execution_count": 254,
   "id": "214bdbdd",
   "metadata": {},
   "outputs": [],
   "source": [
    "def augment(category,label,mult):\n",
    "    x=[]\n",
    "    for img in category:\n",
    "        try:\n",
    "            img = cv2.imread(f\"Datos/preprocessed_2/{img}\",0)\n",
    "            img = cv2.resize(img, (250,250))\n",
    "            img = img.astype(np.float32)/255\n",
    "            img = img[..., np.newaxis]\n",
    "        except:\n",
    "            continue\n",
    "        train_datagen = ImageDataGenerator(\n",
    "                    rotation_range=30,\n",
    "                    zoom_range=0.1,\n",
    "                    vertical_flip=True,\n",
    "                    brightness_range=(0.2, 1.5),\n",
    "                    height_shift_range=0.1,\n",
    "                    )\n",
    "        img = img.reshape((1,) + img.shape)\n",
    "        \n",
    "        it = train_datagen.flow(x=img, batch_size=1)\n",
    "        for i in range(mult):\n",
    "            batch = it.next()\n",
    "            aug_img = batch[0]\n",
    "            aug_img=aug_img.reshape(-1)\n",
    "            x.append([np.array(img),np.array(label)])\n",
    "            \n",
    "       \n",
    "    for i in range(len(x)):\n",
    "        x[i][0]=x[i][0].reshape(x[i][0].shape[1:])\n",
    "    return x"
   ]
  },
  {
   "cell_type": "code",
   "execution_count": 272,
   "id": "12d9e194",
   "metadata": {},
   "outputs": [],
   "source": [
    "NoDiabetes= create_dataset(NoDiab,0)"
   ]
  },
  {
   "cell_type": "code",
   "execution_count": 273,
   "id": "0eaa0f49",
   "metadata": {},
   "outputs": [],
   "source": [
    "Dia=create_dataset(Diab,1)"
   ]
  },
  {
   "cell_type": "code",
   "execution_count": 274,
   "id": "a5893964",
   "metadata": {},
   "outputs": [],
   "source": [
    "DiabAu=augment(Diab,1,2)"
   ]
  },
  {
   "cell_type": "code",
   "execution_count": 275,
   "id": "561e96ff",
   "metadata": {},
   "outputs": [],
   "source": [
    "DiabetesFull=Dia+NoDiabetes+DiabAu"
   ]
  },
  {
   "cell_type": "code",
   "execution_count": 276,
   "id": "25799973",
   "metadata": {},
   "outputs": [
    {
     "data": {
      "text/plain": [
       "9093"
      ]
     },
     "execution_count": 276,
     "metadata": {},
     "output_type": "execute_result"
    }
   ],
   "source": [
    "len(DiabetesFull)"
   ]
  },
  {
   "cell_type": "code",
   "execution_count": 260,
   "id": "18941ef4",
   "metadata": {},
   "outputs": [],
   "source": [
    "image_size=250"
   ]
  },
  {
   "cell_type": "code",
   "execution_count": 277,
   "id": "603394f1",
   "metadata": {},
   "outputs": [],
   "source": [
    "x = np.array([i[0]for i in DiabetesFull])\n",
    "y = np.array([i[1] for i in DiabetesFull])"
   ]
  },
  {
   "cell_type": "code",
   "execution_count": 278,
   "id": "f7e4e4fd",
   "metadata": {},
   "outputs": [
    {
     "data": {
      "text/plain": [
       "(9093, 250, 250, 1)"
      ]
     },
     "execution_count": 278,
     "metadata": {},
     "output_type": "execute_result"
    }
   ],
   "source": [
    "x.shape"
   ]
  },
  {
   "cell_type": "code",
   "execution_count": 279,
   "id": "79ff4a20",
   "metadata": {},
   "outputs": [],
   "source": [
    "save('x',x)"
   ]
  },
  {
   "cell_type": "code",
   "execution_count": 280,
   "id": "ff28d72d",
   "metadata": {},
   "outputs": [],
   "source": [
    "save('y',y)"
   ]
  }
 ],
 "metadata": {
  "kernelspec": {
   "display_name": "Project",
   "language": "python",
   "name": "project"
  },
  "language_info": {
   "codemirror_mode": {
    "name": "ipython",
    "version": 3
   },
   "file_extension": ".py",
   "mimetype": "text/x-python",
   "name": "python",
   "nbconvert_exporter": "python",
   "pygments_lexer": "ipython3",
   "version": "3.9.7"
  }
 },
 "nbformat": 4,
 "nbformat_minor": 5
}
