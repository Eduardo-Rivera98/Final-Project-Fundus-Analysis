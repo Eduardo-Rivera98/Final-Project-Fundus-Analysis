{
 "cells": [
  {
   "cell_type": "code",
   "execution_count": 281,
   "id": "686c5d83",
   "metadata": {},
   "outputs": [],
   "source": [
    "import pandas as pd\n",
    "import numpy as np\n",
    "from keras.preprocessing.image import ImageDataGenerator\n",
    "import os\n",
    "import cv2\n",
    "import matplotlib.pyplot as plt\n",
    "import random\n",
    "from numpy import save"
   ]
  },
  {
   "cell_type": "code",
   "execution_count": 282,
   "id": "0fe55d97",
   "metadata": {},
   "outputs": [],
   "source": [
    "df=pd.read_csv('full_df.csv')"
   ]
  },
  {
   "cell_type": "code",
   "execution_count": 288,
   "id": "2de40fca",
   "metadata": {},
   "outputs": [],
   "source": [
    "df3= df[(df['labels']== \"['G']\")]"
   ]
  },
  {
   "cell_type": "code",
   "execution_count": 292,
   "id": "31926bb6",
   "metadata": {},
   "outputs": [],
   "source": [
    "df2= df[(df['labels']!= \"['G']\")& (df.G==0)]"
   ]
  },
  {
   "cell_type": "code",
   "execution_count": 294,
   "id": "34f96fbb",
   "metadata": {},
   "outputs": [
    {
     "data": {
      "text/html": [
       "<div>\n",
       "<style scoped>\n",
       "    .dataframe tbody tr th:only-of-type {\n",
       "        vertical-align: middle;\n",
       "    }\n",
       "\n",
       "    .dataframe tbody tr th {\n",
       "        vertical-align: top;\n",
       "    }\n",
       "\n",
       "    .dataframe thead th {\n",
       "        text-align: right;\n",
       "    }\n",
       "</style>\n",
       "<table border=\"1\" class=\"dataframe\">\n",
       "  <thead>\n",
       "    <tr style=\"text-align: right;\">\n",
       "      <th></th>\n",
       "      <th>ID</th>\n",
       "      <th>Patient Age</th>\n",
       "      <th>Patient Sex</th>\n",
       "      <th>Left-Fundus</th>\n",
       "      <th>Right-Fundus</th>\n",
       "      <th>Left-Diagnostic Keywords</th>\n",
       "      <th>Right-Diagnostic Keywords</th>\n",
       "      <th>N</th>\n",
       "      <th>D</th>\n",
       "      <th>G</th>\n",
       "      <th>C</th>\n",
       "      <th>A</th>\n",
       "      <th>H</th>\n",
       "      <th>M</th>\n",
       "      <th>O</th>\n",
       "      <th>filepath</th>\n",
       "      <th>labels</th>\n",
       "      <th>target</th>\n",
       "      <th>filename</th>\n",
       "    </tr>\n",
       "  </thead>\n",
       "  <tbody>\n",
       "    <tr>\n",
       "      <th>0</th>\n",
       "      <td>0</td>\n",
       "      <td>69</td>\n",
       "      <td>Female</td>\n",
       "      <td>0_left.jpg</td>\n",
       "      <td>0_right.jpg</td>\n",
       "      <td>cataract</td>\n",
       "      <td>normal fundus</td>\n",
       "      <td>0</td>\n",
       "      <td>0</td>\n",
       "      <td>0</td>\n",
       "      <td>1</td>\n",
       "      <td>0</td>\n",
       "      <td>0</td>\n",
       "      <td>0</td>\n",
       "      <td>0</td>\n",
       "      <td>../input/ocular-disease-recognition-odir5k/ODI...</td>\n",
       "      <td>['N']</td>\n",
       "      <td>[1, 0, 0, 0, 0, 0, 0, 0]</td>\n",
       "      <td>0_right.jpg</td>\n",
       "    </tr>\n",
       "    <tr>\n",
       "      <th>1</th>\n",
       "      <td>1</td>\n",
       "      <td>57</td>\n",
       "      <td>Male</td>\n",
       "      <td>1_left.jpg</td>\n",
       "      <td>1_right.jpg</td>\n",
       "      <td>normal fundus</td>\n",
       "      <td>normal fundus</td>\n",
       "      <td>1</td>\n",
       "      <td>0</td>\n",
       "      <td>0</td>\n",
       "      <td>0</td>\n",
       "      <td>0</td>\n",
       "      <td>0</td>\n",
       "      <td>0</td>\n",
       "      <td>0</td>\n",
       "      <td>../input/ocular-disease-recognition-odir5k/ODI...</td>\n",
       "      <td>['N']</td>\n",
       "      <td>[1, 0, 0, 0, 0, 0, 0, 0]</td>\n",
       "      <td>1_right.jpg</td>\n",
       "    </tr>\n",
       "    <tr>\n",
       "      <th>2</th>\n",
       "      <td>2</td>\n",
       "      <td>42</td>\n",
       "      <td>Male</td>\n",
       "      <td>2_left.jpg</td>\n",
       "      <td>2_right.jpg</td>\n",
       "      <td>laser spot，moderate non proliferative retinopathy</td>\n",
       "      <td>moderate non proliferative retinopathy</td>\n",
       "      <td>0</td>\n",
       "      <td>1</td>\n",
       "      <td>0</td>\n",
       "      <td>0</td>\n",
       "      <td>0</td>\n",
       "      <td>0</td>\n",
       "      <td>0</td>\n",
       "      <td>1</td>\n",
       "      <td>../input/ocular-disease-recognition-odir5k/ODI...</td>\n",
       "      <td>['D']</td>\n",
       "      <td>[0, 1, 0, 0, 0, 0, 0, 0]</td>\n",
       "      <td>2_right.jpg</td>\n",
       "    </tr>\n",
       "    <tr>\n",
       "      <th>3</th>\n",
       "      <td>4</td>\n",
       "      <td>53</td>\n",
       "      <td>Male</td>\n",
       "      <td>4_left.jpg</td>\n",
       "      <td>4_right.jpg</td>\n",
       "      <td>macular epiretinal membrane</td>\n",
       "      <td>mild nonproliferative retinopathy</td>\n",
       "      <td>0</td>\n",
       "      <td>1</td>\n",
       "      <td>0</td>\n",
       "      <td>0</td>\n",
       "      <td>0</td>\n",
       "      <td>0</td>\n",
       "      <td>0</td>\n",
       "      <td>1</td>\n",
       "      <td>../input/ocular-disease-recognition-odir5k/ODI...</td>\n",
       "      <td>['D']</td>\n",
       "      <td>[0, 1, 0, 0, 0, 0, 0, 0]</td>\n",
       "      <td>4_right.jpg</td>\n",
       "    </tr>\n",
       "    <tr>\n",
       "      <th>4</th>\n",
       "      <td>5</td>\n",
       "      <td>50</td>\n",
       "      <td>Female</td>\n",
       "      <td>5_left.jpg</td>\n",
       "      <td>5_right.jpg</td>\n",
       "      <td>moderate non proliferative retinopathy</td>\n",
       "      <td>moderate non proliferative retinopathy</td>\n",
       "      <td>0</td>\n",
       "      <td>1</td>\n",
       "      <td>0</td>\n",
       "      <td>0</td>\n",
       "      <td>0</td>\n",
       "      <td>0</td>\n",
       "      <td>0</td>\n",
       "      <td>0</td>\n",
       "      <td>../input/ocular-disease-recognition-odir5k/ODI...</td>\n",
       "      <td>['D']</td>\n",
       "      <td>[0, 1, 0, 0, 0, 0, 0, 0]</td>\n",
       "      <td>5_right.jpg</td>\n",
       "    </tr>\n",
       "    <tr>\n",
       "      <th>...</th>\n",
       "      <td>...</td>\n",
       "      <td>...</td>\n",
       "      <td>...</td>\n",
       "      <td>...</td>\n",
       "      <td>...</td>\n",
       "      <td>...</td>\n",
       "      <td>...</td>\n",
       "      <td>...</td>\n",
       "      <td>...</td>\n",
       "      <td>...</td>\n",
       "      <td>...</td>\n",
       "      <td>...</td>\n",
       "      <td>...</td>\n",
       "      <td>...</td>\n",
       "      <td>...</td>\n",
       "      <td>...</td>\n",
       "      <td>...</td>\n",
       "      <td>...</td>\n",
       "      <td>...</td>\n",
       "    </tr>\n",
       "    <tr>\n",
       "      <th>6387</th>\n",
       "      <td>4686</td>\n",
       "      <td>63</td>\n",
       "      <td>Male</td>\n",
       "      <td>4686_left.jpg</td>\n",
       "      <td>4686_right.jpg</td>\n",
       "      <td>severe nonproliferative retinopathy</td>\n",
       "      <td>proliferative diabetic retinopathy</td>\n",
       "      <td>0</td>\n",
       "      <td>1</td>\n",
       "      <td>0</td>\n",
       "      <td>0</td>\n",
       "      <td>0</td>\n",
       "      <td>0</td>\n",
       "      <td>0</td>\n",
       "      <td>0</td>\n",
       "      <td>../input/ocular-disease-recognition-odir5k/ODI...</td>\n",
       "      <td>['D']</td>\n",
       "      <td>[0, 1, 0, 0, 0, 0, 0, 0]</td>\n",
       "      <td>4686_left.jpg</td>\n",
       "    </tr>\n",
       "    <tr>\n",
       "      <th>6388</th>\n",
       "      <td>4688</td>\n",
       "      <td>42</td>\n",
       "      <td>Male</td>\n",
       "      <td>4688_left.jpg</td>\n",
       "      <td>4688_right.jpg</td>\n",
       "      <td>moderate non proliferative retinopathy</td>\n",
       "      <td>moderate non proliferative retinopathy</td>\n",
       "      <td>0</td>\n",
       "      <td>1</td>\n",
       "      <td>0</td>\n",
       "      <td>0</td>\n",
       "      <td>0</td>\n",
       "      <td>0</td>\n",
       "      <td>0</td>\n",
       "      <td>0</td>\n",
       "      <td>../input/ocular-disease-recognition-odir5k/ODI...</td>\n",
       "      <td>['D']</td>\n",
       "      <td>[0, 1, 0, 0, 0, 0, 0, 0]</td>\n",
       "      <td>4688_left.jpg</td>\n",
       "    </tr>\n",
       "    <tr>\n",
       "      <th>6389</th>\n",
       "      <td>4689</td>\n",
       "      <td>54</td>\n",
       "      <td>Male</td>\n",
       "      <td>4689_left.jpg</td>\n",
       "      <td>4689_right.jpg</td>\n",
       "      <td>mild nonproliferative retinopathy</td>\n",
       "      <td>normal fundus</td>\n",
       "      <td>0</td>\n",
       "      <td>1</td>\n",
       "      <td>0</td>\n",
       "      <td>0</td>\n",
       "      <td>0</td>\n",
       "      <td>0</td>\n",
       "      <td>0</td>\n",
       "      <td>0</td>\n",
       "      <td>../input/ocular-disease-recognition-odir5k/ODI...</td>\n",
       "      <td>['D']</td>\n",
       "      <td>[0, 1, 0, 0, 0, 0, 0, 0]</td>\n",
       "      <td>4689_left.jpg</td>\n",
       "    </tr>\n",
       "    <tr>\n",
       "      <th>6390</th>\n",
       "      <td>4690</td>\n",
       "      <td>57</td>\n",
       "      <td>Male</td>\n",
       "      <td>4690_left.jpg</td>\n",
       "      <td>4690_right.jpg</td>\n",
       "      <td>mild nonproliferative retinopathy</td>\n",
       "      <td>mild nonproliferative retinopathy</td>\n",
       "      <td>0</td>\n",
       "      <td>1</td>\n",
       "      <td>0</td>\n",
       "      <td>0</td>\n",
       "      <td>0</td>\n",
       "      <td>0</td>\n",
       "      <td>0</td>\n",
       "      <td>0</td>\n",
       "      <td>../input/ocular-disease-recognition-odir5k/ODI...</td>\n",
       "      <td>['D']</td>\n",
       "      <td>[0, 1, 0, 0, 0, 0, 0, 0]</td>\n",
       "      <td>4690_left.jpg</td>\n",
       "    </tr>\n",
       "    <tr>\n",
       "      <th>6391</th>\n",
       "      <td>4784</td>\n",
       "      <td>58</td>\n",
       "      <td>Male</td>\n",
       "      <td>4784_left.jpg</td>\n",
       "      <td>4784_right.jpg</td>\n",
       "      <td>hypertensive retinopathy，age-related macular d...</td>\n",
       "      <td>hypertensive retinopathy，age-related macular d...</td>\n",
       "      <td>0</td>\n",
       "      <td>0</td>\n",
       "      <td>0</td>\n",
       "      <td>0</td>\n",
       "      <td>1</td>\n",
       "      <td>1</td>\n",
       "      <td>0</td>\n",
       "      <td>0</td>\n",
       "      <td>../input/ocular-disease-recognition-odir5k/ODI...</td>\n",
       "      <td>['H']</td>\n",
       "      <td>[0, 0, 0, 0, 0, 1, 0, 0]</td>\n",
       "      <td>4784_left.jpg</td>\n",
       "    </tr>\n",
       "  </tbody>\n",
       "</table>\n",
       "<p>5995 rows × 19 columns</p>\n",
       "</div>"
      ],
      "text/plain": [
       "        ID  Patient Age Patient Sex    Left-Fundus    Right-Fundus  \\\n",
       "0        0           69      Female     0_left.jpg     0_right.jpg   \n",
       "1        1           57        Male     1_left.jpg     1_right.jpg   \n",
       "2        2           42        Male     2_left.jpg     2_right.jpg   \n",
       "3        4           53        Male     4_left.jpg     4_right.jpg   \n",
       "4        5           50      Female     5_left.jpg     5_right.jpg   \n",
       "...    ...          ...         ...            ...             ...   \n",
       "6387  4686           63        Male  4686_left.jpg  4686_right.jpg   \n",
       "6388  4688           42        Male  4688_left.jpg  4688_right.jpg   \n",
       "6389  4689           54        Male  4689_left.jpg  4689_right.jpg   \n",
       "6390  4690           57        Male  4690_left.jpg  4690_right.jpg   \n",
       "6391  4784           58        Male  4784_left.jpg  4784_right.jpg   \n",
       "\n",
       "                               Left-Diagnostic Keywords  \\\n",
       "0                                              cataract   \n",
       "1                                         normal fundus   \n",
       "2     laser spot，moderate non proliferative retinopathy   \n",
       "3                           macular epiretinal membrane   \n",
       "4                moderate non proliferative retinopathy   \n",
       "...                                                 ...   \n",
       "6387                severe nonproliferative retinopathy   \n",
       "6388             moderate non proliferative retinopathy   \n",
       "6389                  mild nonproliferative retinopathy   \n",
       "6390                  mild nonproliferative retinopathy   \n",
       "6391  hypertensive retinopathy，age-related macular d...   \n",
       "\n",
       "                              Right-Diagnostic Keywords  N  D  G  C  A  H  M  \\\n",
       "0                                         normal fundus  0  0  0  1  0  0  0   \n",
       "1                                         normal fundus  1  0  0  0  0  0  0   \n",
       "2                moderate non proliferative retinopathy  0  1  0  0  0  0  0   \n",
       "3                     mild nonproliferative retinopathy  0  1  0  0  0  0  0   \n",
       "4                moderate non proliferative retinopathy  0  1  0  0  0  0  0   \n",
       "...                                                 ... .. .. .. .. .. .. ..   \n",
       "6387                 proliferative diabetic retinopathy  0  1  0  0  0  0  0   \n",
       "6388             moderate non proliferative retinopathy  0  1  0  0  0  0  0   \n",
       "6389                                      normal fundus  0  1  0  0  0  0  0   \n",
       "6390                  mild nonproliferative retinopathy  0  1  0  0  0  0  0   \n",
       "6391  hypertensive retinopathy，age-related macular d...  0  0  0  0  1  1  0   \n",
       "\n",
       "      O                                           filepath labels  \\\n",
       "0     0  ../input/ocular-disease-recognition-odir5k/ODI...  ['N']   \n",
       "1     0  ../input/ocular-disease-recognition-odir5k/ODI...  ['N']   \n",
       "2     1  ../input/ocular-disease-recognition-odir5k/ODI...  ['D']   \n",
       "3     1  ../input/ocular-disease-recognition-odir5k/ODI...  ['D']   \n",
       "4     0  ../input/ocular-disease-recognition-odir5k/ODI...  ['D']   \n",
       "...  ..                                                ...    ...   \n",
       "6387  0  ../input/ocular-disease-recognition-odir5k/ODI...  ['D']   \n",
       "6388  0  ../input/ocular-disease-recognition-odir5k/ODI...  ['D']   \n",
       "6389  0  ../input/ocular-disease-recognition-odir5k/ODI...  ['D']   \n",
       "6390  0  ../input/ocular-disease-recognition-odir5k/ODI...  ['D']   \n",
       "6391  0  ../input/ocular-disease-recognition-odir5k/ODI...  ['H']   \n",
       "\n",
       "                        target       filename  \n",
       "0     [1, 0, 0, 0, 0, 0, 0, 0]    0_right.jpg  \n",
       "1     [1, 0, 0, 0, 0, 0, 0, 0]    1_right.jpg  \n",
       "2     [0, 1, 0, 0, 0, 0, 0, 0]    2_right.jpg  \n",
       "3     [0, 1, 0, 0, 0, 0, 0, 0]    4_right.jpg  \n",
       "4     [0, 1, 0, 0, 0, 0, 0, 0]    5_right.jpg  \n",
       "...                        ...            ...  \n",
       "6387  [0, 1, 0, 0, 0, 0, 0, 0]  4686_left.jpg  \n",
       "6388  [0, 1, 0, 0, 0, 0, 0, 0]  4688_left.jpg  \n",
       "6389  [0, 1, 0, 0, 0, 0, 0, 0]  4689_left.jpg  \n",
       "6390  [0, 1, 0, 0, 0, 0, 0, 0]  4690_left.jpg  \n",
       "6391  [0, 0, 0, 0, 0, 1, 0, 0]  4784_left.jpg  \n",
       "\n",
       "[5995 rows x 19 columns]"
      ]
     },
     "execution_count": 294,
     "metadata": {},
     "output_type": "execute_result"
    }
   ],
   "source": [
    "df2"
   ]
  },
  {
   "cell_type": "code",
   "execution_count": 312,
   "id": "5b15e924",
   "metadata": {},
   "outputs": [],
   "source": [
    "NoGlaucoma=df2.filename"
   ]
  },
  {
   "cell_type": "code",
   "execution_count": 313,
   "id": "c39e7bd9",
   "metadata": {},
   "outputs": [
    {
     "data": {
      "text/plain": [
       "5995"
      ]
     },
     "execution_count": 313,
     "metadata": {},
     "output_type": "execute_result"
    }
   ],
   "source": [
    "len(NoGlaucoma)"
   ]
  },
  {
   "cell_type": "code",
   "execution_count": 314,
   "id": "282b81fe",
   "metadata": {},
   "outputs": [],
   "source": [
    "Glaucoma=df3.filename"
   ]
  },
  {
   "cell_type": "code",
   "execution_count": 315,
   "id": "38e4cbf9",
   "metadata": {},
   "outputs": [
    {
     "data": {
      "text/plain": [
       "284"
      ]
     },
     "execution_count": 315,
     "metadata": {},
     "output_type": "execute_result"
    }
   ],
   "source": [
    "len(Glaucoma)"
   ]
  },
  {
   "cell_type": "code",
   "execution_count": 316,
   "id": "653fa34d",
   "metadata": {},
   "outputs": [],
   "source": [
    "def create_dataset(image_category,label):\n",
    "    dataset_dir = \"Datos/preprocessed_2\"\n",
    "    image_size=250\n",
    "    labels = []\n",
    "    dataset = []\n",
    "    for img in image_category:\n",
    "        image_path = os.path.join(dataset_dir,img)\n",
    "        try:\n",
    "            img = cv2.imread(image_path,0)\n",
    "            img = cv2.resize(img, (250,250))\n",
    "            img = img.astype(np.float32)/255\n",
    "            img = img[..., np.newaxis]\n",
    "            \n",
    "        except:\n",
    "            continue\n",
    "        \n",
    "        dataset.append([np.array(img),np.array(label)])\n",
    "    random.shuffle(dataset)\n",
    "    return dataset"
   ]
  },
  {
   "cell_type": "code",
   "execution_count": 317,
   "id": "dede366b",
   "metadata": {},
   "outputs": [],
   "source": [
    "def augment(category,label,mult):\n",
    "    x=[]\n",
    "    for img in category:\n",
    "        try:\n",
    "            img = cv2.imread(f\"Datos/preprocessed_2/{img}\",0)\n",
    "            img = cv2.resize(img, (250,250))\n",
    "            img = img.astype(np.float32)/255\n",
    "            img = img[..., np.newaxis]\n",
    "        except:\n",
    "            continue\n",
    "        train_datagen = ImageDataGenerator(\n",
    "                    rotation_range=30,\n",
    "                    zoom_range=0.1,\n",
    "                    vertical_flip=True,\n",
    "                    brightness_range=(0.2, 1.5),\n",
    "                    height_shift_range=0.1,\n",
    "                    )\n",
    "        img = img.reshape((1,) + img.shape)\n",
    "        \n",
    "        it = train_datagen.flow(x=img, batch_size=1)\n",
    "        for i in range(mult):\n",
    "            batch = it.next()\n",
    "            aug_img = batch[0]\n",
    "            aug_img=aug_img.reshape(-1)\n",
    "            x.append([np.array(img),np.array(label)])\n",
    "            \n",
    "       \n",
    "    for i in range(len(x)):\n",
    "        x[i][0]=x[i][0].reshape(x[i][0].shape[1:])\n",
    "    return x"
   ]
  },
  {
   "cell_type": "code",
   "execution_count": 318,
   "id": "b590a8a0",
   "metadata": {},
   "outputs": [],
   "source": [
    "Glaucoma_augment=augment(Glaucoma,1,20)"
   ]
  },
  {
   "cell_type": "code",
   "execution_count": 319,
   "id": "fea5a9b0",
   "metadata": {},
   "outputs": [
    {
     "data": {
      "text/plain": [
       "5680"
      ]
     },
     "execution_count": 319,
     "metadata": {},
     "output_type": "execute_result"
    }
   ],
   "source": [
    "len(Glaucoma_augment)"
   ]
  },
  {
   "cell_type": "code",
   "execution_count": 320,
   "id": "47272716",
   "metadata": {},
   "outputs": [],
   "source": [
    "NoGlau=create_dataset(NoGlaucoma,0)"
   ]
  },
  {
   "cell_type": "code",
   "execution_count": 321,
   "id": "17591d11",
   "metadata": {},
   "outputs": [],
   "source": [
    "Glau=create_dataset(Glaucoma,1)"
   ]
  },
  {
   "cell_type": "code",
   "execution_count": 323,
   "id": "befc0e80",
   "metadata": {},
   "outputs": [
    {
     "data": {
      "text/plain": [
       "5995"
      ]
     },
     "execution_count": 323,
     "metadata": {},
     "output_type": "execute_result"
    }
   ],
   "source": [
    "len(NoGlau)"
   ]
  },
  {
   "cell_type": "code",
   "execution_count": 325,
   "id": "b3689a5f",
   "metadata": {},
   "outputs": [],
   "source": [
    "TodoGlau=Glaucoma_augment+NoGlau+Glau"
   ]
  },
  {
   "cell_type": "code",
   "execution_count": 326,
   "id": "98f9beae",
   "metadata": {},
   "outputs": [],
   "source": [
    "x = np.array([i[0]for i in TodoGlau])\n",
    "y = np.array([i[1] for i in TodoGlau])"
   ]
  },
  {
   "cell_type": "code",
   "execution_count": 327,
   "id": "5eb2376f",
   "metadata": {},
   "outputs": [
    {
     "data": {
      "text/plain": [
       "(11959, 250, 250, 1)"
      ]
     },
     "execution_count": 327,
     "metadata": {},
     "output_type": "execute_result"
    }
   ],
   "source": [
    "x.shape"
   ]
  },
  {
   "cell_type": "code",
   "execution_count": 328,
   "id": "6c6fb9c0",
   "metadata": {},
   "outputs": [],
   "source": [
    "save('x',x)"
   ]
  },
  {
   "cell_type": "code",
   "execution_count": 329,
   "id": "b9cada06",
   "metadata": {},
   "outputs": [],
   "source": [
    "save('y',y)"
   ]
  }
 ],
 "metadata": {
  "kernelspec": {
   "display_name": "Project",
   "language": "python",
   "name": "project"
  },
  "language_info": {
   "codemirror_mode": {
    "name": "ipython",
    "version": 3
   },
   "file_extension": ".py",
   "mimetype": "text/x-python",
   "name": "python",
   "nbconvert_exporter": "python",
   "pygments_lexer": "ipython3",
   "version": "3.9.7"
  }
 },
 "nbformat": 4,
 "nbformat_minor": 5
}
