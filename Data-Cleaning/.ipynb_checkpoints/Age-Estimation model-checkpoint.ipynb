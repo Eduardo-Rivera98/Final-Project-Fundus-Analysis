{
 "cells": [
  {
   "cell_type": "code",
   "execution_count": 1,
   "id": "abbdf7fa",
   "metadata": {},
   "outputs": [
    {
     "name": "stderr",
     "output_type": "stream",
     "text": [
      "2021-12-16 10:55:59.404159: W tensorflow/stream_executor/platform/default/dso_loader.cc:64] Could not load dynamic library 'libcudart.so.11.0'; dlerror: libcudart.so.11.0: cannot open shared object file: No such file or directory; LD_LIBRARY_PATH: /home/eduardo/anaconda3/envs/Project/lib/python3.9/site-packages/cv2/../../lib64:\n",
      "2021-12-16 10:55:59.404313: I tensorflow/stream_executor/cuda/cudart_stub.cc:29] Ignore above cudart dlerror if you do not have a GPU set up on your machine.\n"
     ]
    }
   ],
   "source": [
    "import pandas as pd\n",
    "import os\n",
    "import cv2\n",
    "import numpy as np\n",
    "from numpy import save\n",
    "from keras.models import load_model"
   ]
  },
  {
   "cell_type": "code",
   "execution_count": 2,
   "id": "3a64b59f",
   "metadata": {},
   "outputs": [],
   "source": [
    "df=pd.read_csv('full_df.csv')"
   ]
  },
  {
   "cell_type": "code",
   "execution_count": 3,
   "id": "391acfc2",
   "metadata": {},
   "outputs": [
    {
     "data": {
      "text/plain": [
       "ID                                                                         766\n",
       "Patient Age                                                                 64\n",
       "Patient Sex                                                               Male\n",
       "Left-Fundus                                                       766_left.jpg\n",
       "Right-Fundus                                                     766_right.jpg\n",
       "Left-Diagnostic Keywords                                         normal fundus\n",
       "Right-Diagnostic Keywords                          macular epiretinal membrane\n",
       "N                                                                            0\n",
       "D                                                                            0\n",
       "G                                                                            0\n",
       "C                                                                            0\n",
       "A                                                                            0\n",
       "H                                                                            0\n",
       "M                                                                            0\n",
       "O                                                                            1\n",
       "filepath                     ../input/ocular-disease-recognition-odir5k/ODI...\n",
       "labels                                                                   ['O']\n",
       "target                                                [0, 0, 0, 0, 0, 0, 0, 1]\n",
       "filename                                                         766_right.jpg\n",
       "Name: 665, dtype: object"
      ]
     },
     "execution_count": 3,
     "metadata": {},
     "output_type": "execute_result"
    }
   ],
   "source": [
    "df.iloc[665]"
   ]
  },
  {
   "cell_type": "code",
   "execution_count": 290,
   "id": "8738c1d7",
   "metadata": {},
   "outputs": [
    {
     "data": {
      "text/html": [
       "<div>\n",
       "<style scoped>\n",
       "    .dataframe tbody tr th:only-of-type {\n",
       "        vertical-align: middle;\n",
       "    }\n",
       "\n",
       "    .dataframe tbody tr th {\n",
       "        vertical-align: top;\n",
       "    }\n",
       "\n",
       "    .dataframe thead th {\n",
       "        text-align: right;\n",
       "    }\n",
       "</style>\n",
       "<table border=\"1\" class=\"dataframe\">\n",
       "  <thead>\n",
       "    <tr style=\"text-align: right;\">\n",
       "      <th></th>\n",
       "      <th>ID</th>\n",
       "      <th>Patient Age</th>\n",
       "      <th>Patient Sex</th>\n",
       "      <th>Left-Fundus</th>\n",
       "      <th>Right-Fundus</th>\n",
       "      <th>Left-Diagnostic Keywords</th>\n",
       "      <th>Right-Diagnostic Keywords</th>\n",
       "      <th>N</th>\n",
       "      <th>D</th>\n",
       "      <th>G</th>\n",
       "      <th>...</th>\n",
       "      <th>A</th>\n",
       "      <th>H</th>\n",
       "      <th>M</th>\n",
       "      <th>O</th>\n",
       "      <th>filepath</th>\n",
       "      <th>labels</th>\n",
       "      <th>target</th>\n",
       "      <th>filename</th>\n",
       "      <th>age_bin</th>\n",
       "      <th>Age_Types_Cat</th>\n",
       "    </tr>\n",
       "  </thead>\n",
       "  <tbody>\n",
       "    <tr>\n",
       "      <th>3197</th>\n",
       "      <td>4</td>\n",
       "      <td>53</td>\n",
       "      <td>Male</td>\n",
       "      <td>4_left.jpg</td>\n",
       "      <td>4_right.jpg</td>\n",
       "      <td>macular epiretinal membrane</td>\n",
       "      <td>mild nonproliferative retinopathy</td>\n",
       "      <td>0</td>\n",
       "      <td>1</td>\n",
       "      <td>0</td>\n",
       "      <td>...</td>\n",
       "      <td>0</td>\n",
       "      <td>0</td>\n",
       "      <td>0</td>\n",
       "      <td>1</td>\n",
       "      <td>../input/ocular-disease-recognition-odir5k/ODI...</td>\n",
       "      <td>['O']</td>\n",
       "      <td>[0, 0, 0, 0, 0, 0, 0, 1]</td>\n",
       "      <td>4_left.jpg</td>\n",
       "      <td>46-55</td>\n",
       "      <td>3</td>\n",
       "    </tr>\n",
       "  </tbody>\n",
       "</table>\n",
       "<p>1 rows × 21 columns</p>\n",
       "</div>"
      ],
      "text/plain": [
       "      ID  Patient Age Patient Sex Left-Fundus Right-Fundus  \\\n",
       "3197   4           53        Male  4_left.jpg  4_right.jpg   \n",
       "\n",
       "         Left-Diagnostic Keywords          Right-Diagnostic Keywords  N  D  G  \\\n",
       "3197  macular epiretinal membrane  mild nonproliferative retinopathy  0  1  0   \n",
       "\n",
       "      ...  A  H  M  O                                           filepath  \\\n",
       "3197  ...  0  0  0  1  ../input/ocular-disease-recognition-odir5k/ODI...   \n",
       "\n",
       "     labels                    target    filename age_bin Age_Types_Cat  \n",
       "3197  ['O']  [0, 0, 0, 0, 0, 0, 0, 1]  4_left.jpg   46-55             3  \n",
       "\n",
       "[1 rows x 21 columns]"
      ]
     },
     "execution_count": 290,
     "metadata": {},
     "output_type": "execute_result"
    }
   ],
   "source": [
    "df[df.filename=='4_left.jpg']"
   ]
  },
  {
   "cell_type": "code",
   "execution_count": 16,
   "id": "5f4b78aa",
   "metadata": {},
   "outputs": [],
   "source": [
    "c=df.groupby(['Patient Age'])['Patient Age'].sum().unstack"
   ]
  },
  {
   "cell_type": "code",
   "execution_count": 17,
   "id": "504c6361",
   "metadata": {},
   "outputs": [
    {
     "data": {
      "text/plain": [
       "<bound method Series.unstack of Patient Age\n",
       "1       28\n",
       "14      28\n",
       "15      30\n",
       "17      34\n",
       "18      36\n",
       "      ... \n",
       "86     172\n",
       "87    1305\n",
       "88     176\n",
       "89     356\n",
       "91     182\n",
       "Name: Patient Age, Length: 75, dtype: int64>"
      ]
     },
     "execution_count": 17,
     "metadata": {},
     "output_type": "execute_result"
    }
   ],
   "source": [
    "c"
   ]
  },
  {
   "cell_type": "code",
   "execution_count": 90,
   "id": "92e46fd3",
   "metadata": {},
   "outputs": [],
   "source": [
    "def cutAge(dataframe: pd.DataFrame, age: str) -> pd.Categorical:\n",
    "\n",
    "    bins = [0, 18, 35,45,55,60, 65, 80, 120]\n",
    "    labels = ['1-18', '19-35', '36-45','46-55','56-60','61-65', '66-80', '81+']\n",
    "    ageBins = pd.cut(dataframe[age], bins = bins , labels = labels)\n",
    "    \n",
    "    return ageBins"
   ]
  },
  {
   "cell_type": "code",
   "execution_count": 91,
   "id": "8fc44cce",
   "metadata": {},
   "outputs": [],
   "source": [
    "df['age_bin'] = cutAge(df, 'Patient Age')"
   ]
  },
  {
   "cell_type": "code",
   "execution_count": 92,
   "id": "487cc592",
   "metadata": {},
   "outputs": [
    {
     "data": {
      "text/plain": [
       "46-55    1594\n",
       "66-80    1486\n",
       "56-60    1189\n",
       "61-65    1131\n",
       "36-45     622\n",
       "19-35     219\n",
       "81+       115\n",
       "1-18       36\n",
       "Name: age_bin, dtype: int64"
      ]
     },
     "execution_count": 92,
     "metadata": {},
     "output_type": "execute_result"
    }
   ],
   "source": [
    "df['age_bin'].value_counts()"
   ]
  },
  {
   "cell_type": "code",
   "execution_count": 97,
   "id": "bf2d9024",
   "metadata": {},
   "outputs": [],
   "source": [
    "c=df['Age_Types_Cat'].values"
   ]
  },
  {
   "cell_type": "code",
   "execution_count": 98,
   "id": "c53bcdb4",
   "metadata": {},
   "outputs": [],
   "source": [
    "d=df['filename'].values"
   ]
  },
  {
   "cell_type": "code",
   "execution_count": 283,
   "id": "e9386963",
   "metadata": {},
   "outputs": [
    {
     "data": {
      "text/plain": [
       "6392"
      ]
     },
     "execution_count": 283,
     "metadata": {},
     "output_type": "execute_result"
    }
   ],
   "source": [
    "len(d)"
   ]
  },
  {
   "cell_type": "code",
   "execution_count": 95,
   "id": "57fb69e7",
   "metadata": {},
   "outputs": [],
   "source": [
    "import pandas as pd\n",
    "import numpy as np\n",
    "from sklearn.preprocessing import LabelEncoder\n",
    "bin_types = df.age_bin.unique()\n",
    "labelencoder = LabelEncoder()\n",
    "df['Age_Types_Cat'] = labelencoder.fit_transform(df['age_bin'])\n"
   ]
  },
  {
   "cell_type": "code",
   "execution_count": 96,
   "id": "60349fae",
   "metadata": {},
   "outputs": [
    {
     "data": {
      "text/plain": [
       "3    1594\n",
       "6    1486\n",
       "4    1189\n",
       "5    1131\n",
       "2     622\n",
       "1     219\n",
       "7     115\n",
       "0      36\n",
       "Name: Age_Types_Cat, dtype: int64"
      ]
     },
     "execution_count": 96,
     "metadata": {},
     "output_type": "execute_result"
    }
   ],
   "source": [
    "df.Age_Types_Cat.value_counts()"
   ]
  },
  {
   "cell_type": "code",
   "execution_count": 190,
   "id": "58b7ec1d",
   "metadata": {},
   "outputs": [],
   "source": [
    "def create_dataset(image_category):\n",
    "    dataset_dir = \"Datos/preprocessed_2\"\n",
    "    image_size=250\n",
    "    labels = []\n",
    "    dataset = []\n",
    "    for i in range(len(image_category)):\n",
    "        image_path = os.path.join(dataset_dir,image_category[i])\n",
    "        img = cv2.imread(image_path,0)\n",
    "        img = cv2.resize(img, (250,250))\n",
    "        img = img.astype(np.float32)/255\n",
    "        img = img[..., np.newaxis]\n",
    "        l=df3.iloc[i][['Patient Age']]        \n",
    "        dataset.append([np.array(img),np.array(l)])\n",
    "\n",
    "    return dataset"
   ]
  },
  {
   "cell_type": "code",
   "execution_count": 192,
   "id": "2350810b",
   "metadata": {},
   "outputs": [],
   "source": [
    "Age=create_dataset(d)"
   ]
  },
  {
   "cell_type": "code",
   "execution_count": 196,
   "id": "874b3f30",
   "metadata": {},
   "outputs": [
    {
     "data": {
      "text/plain": [
       "array([69], dtype=object)"
      ]
     },
     "execution_count": 196,
     "metadata": {},
     "output_type": "execute_result"
    }
   ],
   "source": [
    "Age[0][1]"
   ]
  },
  {
   "cell_type": "code",
   "execution_count": null,
   "id": "febbb609",
   "metadata": {},
   "outputs": [],
   "source": [
    "def create_dataset2(image_category):\n",
    "    dataset_dir = \"Datos/preprocessed_2\"\n",
    "    image_size=250\n",
    "    labels = []\n",
    "    dataset = []\n",
    "    for i in range(len(image_category)):\n",
    "        image_path = os.path.join(dataset_dir,image_category[i])\n",
    "        img = cv2.imread(image_path,0)\n",
    "        img = cv2.resize(img, (250,250))\n",
    "        img = img.astype(np.float32)/255\n",
    "        img = img[..., np.newaxis]\n",
    "        l=df3.iloc[i][['Age_Types_Cat_0', 'Age_Types_Cat_1', 'Age_Types_Cat_2','Age_Types_Cat_3','Age_Types_Cat_4', 'Age_Types_Cat_5','Age_Types_Cat_6','Age_Types_Cat_7']]        \n",
    "        dataset.append([np.array(img),np.array(l)])\n",
    "\n",
    "    return dataset"
   ]
  },
  {
   "cell_type": "code",
   "execution_count": 292,
   "id": "1ca3a3f5",
   "metadata": {},
   "outputs": [
    {
     "data": {
      "text/plain": [
       "'2_right.jpg'"
      ]
     },
     "execution_count": 292,
     "metadata": {},
     "output_type": "execute_result"
    }
   ],
   "source": [
    "df.iloc[2].filename"
   ]
  },
  {
   "cell_type": "code",
   "execution_count": 176,
   "id": "cbef4426",
   "metadata": {},
   "outputs": [],
   "source": [
    "from keras.preprocessing.image import ImageDataGenerator\n",
    "def augment2(num,mult):\n",
    "    x=[]\n",
    "    df2=df3[df3[f'Age_Types_Cat_{num}']==1]\n",
    "    category=df2.filename.values\n",
    "    for img in category:\n",
    "        label=df3.iloc[df2[df2.filename==img].index[0]][['Age_Types_Cat_0', 'Age_Types_Cat_1', 'Age_Types_Cat_2','Age_Types_Cat_3','Age_Types_Cat_4', 'Age_Types_Cat_5','Age_Types_Cat_6','Age_Types_Cat_7']]   \n",
    "        try:\n",
    "            img = cv2.imread(f\"Datos/preprocessed_2/{img}\",0)\n",
    "            img = cv2.resize(img, (250,250))\n",
    "            img = img[..., np.newaxis]\n",
    "            img = img.astype(np.float32)/255\n",
    "            \n",
    "        except:\n",
    "            continue\n",
    "        train_datagen = ImageDataGenerator(\n",
    "                    rotation_range=20,\n",
    "                    zoom_range=0.2,\n",
    "                    brightness_range=(0.4, 1.2),\n",
    "                    height_shift_range=0.2,\n",
    "                    )\n",
    "        img = img.reshape((1,) + img.shape)\n",
    "        \n",
    "        it = train_datagen.flow(x=img, batch_size=1)\n",
    "        for i in range(mult):\n",
    "            batch = it.next()\n",
    "            aug_img = batch[0]\n",
    "            aug_img=aug_img.reshape(-1)\n",
    "            x.append([np.array(img),np.array(label)])\n",
    "        \n",
    "        \n",
    "       \n",
    "    for i in range(len(x)):\n",
    "        x[i][0]=x[i][0].reshape(x[i][0].shape[1:])\n",
    "    return x"
   ]
  },
  {
   "cell_type": "code",
   "execution_count": 193,
   "id": "9181c01e",
   "metadata": {},
   "outputs": [],
   "source": [
    "from keras.preprocessing.image import ImageDataGenerator\n",
    "def augment3(num,mult):\n",
    "    x=[]\n",
    "    df2=df3[df3[f'Age_Types_Cat_{num}']==1]\n",
    "    category=df2.filename.values\n",
    "    for img in category:\n",
    "        label=df3.iloc[df2[df2.filename==img].index[0]][['Patient Age']]   \n",
    "        try:\n",
    "            img = cv2.imread(f\"Datos/preprocessed_2/{img}\",0)\n",
    "            img = cv2.resize(img, (250,250))\n",
    "            img = img[..., np.newaxis]\n",
    "            img = img.astype(np.float32)/255\n",
    "            \n",
    "        except:\n",
    "            continue\n",
    "        train_datagen = ImageDataGenerator(\n",
    "                    rotation_range=20,\n",
    "                    zoom_range=0.2,\n",
    "                    brightness_range=(0.4, 1.2),\n",
    "                    height_shift_range=0.2,\n",
    "                    )\n",
    "        img = img.reshape((1,) + img.shape)\n",
    "        \n",
    "        it = train_datagen.flow(x=img, batch_size=1)\n",
    "        for i in range(mult):\n",
    "            batch = it.next()\n",
    "            aug_img = batch[0]\n",
    "            aug_img=aug_img.reshape(-1)\n",
    "            x.append([np.array(img),np.array(label)])\n",
    "        \n",
    "        \n",
    "       \n",
    "    for i in range(len(x)):\n",
    "        x[i][0]=x[i][0].reshape(x[i][0].shape[1:])\n",
    "    return x"
   ]
  },
  {
   "cell_type": "code",
   "execution_count": 197,
   "id": "0aca95ba",
   "metadata": {},
   "outputs": [],
   "source": [
    "Aug0=augment3(0,50)"
   ]
  },
  {
   "cell_type": "code",
   "execution_count": 200,
   "id": "794653b8",
   "metadata": {},
   "outputs": [
    {
     "data": {
      "text/plain": [
       "1800"
      ]
     },
     "execution_count": 200,
     "metadata": {},
     "output_type": "execute_result"
    }
   ],
   "source": [
    "len(Aug0)"
   ]
  },
  {
   "cell_type": "code",
   "execution_count": 208,
   "id": "e1431505",
   "metadata": {},
   "outputs": [],
   "source": [
    "Aug1=augment3(1,5)"
   ]
  },
  {
   "cell_type": "code",
   "execution_count": 209,
   "id": "9f078236",
   "metadata": {},
   "outputs": [
    {
     "data": {
      "text/plain": [
       "1095"
      ]
     },
     "execution_count": 209,
     "metadata": {},
     "output_type": "execute_result"
    }
   ],
   "source": [
    "len(Aug1)"
   ]
  },
  {
   "cell_type": "code",
   "execution_count": 210,
   "id": "7f5d3c4c",
   "metadata": {},
   "outputs": [],
   "source": [
    "Aug7=augment3(7,12)"
   ]
  },
  {
   "cell_type": "code",
   "execution_count": 211,
   "id": "624a2164",
   "metadata": {},
   "outputs": [
    {
     "data": {
      "text/plain": [
       "1380"
      ]
     },
     "execution_count": 211,
     "metadata": {},
     "output_type": "execute_result"
    }
   ],
   "source": [
    "len(Aug7)"
   ]
  },
  {
   "cell_type": "code",
   "execution_count": 212,
   "id": "49ec4629",
   "metadata": {},
   "outputs": [],
   "source": [
    "Aug2=augment3(2,2)"
   ]
  },
  {
   "cell_type": "code",
   "execution_count": 213,
   "id": "0d86feb4",
   "metadata": {},
   "outputs": [
    {
     "data": {
      "text/plain": [
       "1244"
      ]
     },
     "execution_count": 213,
     "metadata": {},
     "output_type": "execute_result"
    }
   ],
   "source": [
    "len(Aug2)"
   ]
  },
  {
   "cell_type": "code",
   "execution_count": 276,
   "id": "23f785f4",
   "metadata": {},
   "outputs": [],
   "source": [
    "random.shuffle(Age)"
   ]
  },
  {
   "cell_type": "code",
   "execution_count": 277,
   "id": "1cdf152c",
   "metadata": {},
   "outputs": [],
   "source": [
    "AgeDef=Age[:-1000]\n",
    "AgePrueba=Age[-1000:]"
   ]
  },
  {
   "cell_type": "code",
   "execution_count": 278,
   "id": "ff81e928",
   "metadata": {},
   "outputs": [],
   "source": [
    "Todo2=AgeDef+Aug1+Aug7+Aug2+Aug0"
   ]
  },
  {
   "cell_type": "code",
   "execution_count": 279,
   "id": "524fec4c",
   "metadata": {},
   "outputs": [
    {
     "data": {
      "text/plain": [
       "10911"
      ]
     },
     "execution_count": 279,
     "metadata": {},
     "output_type": "execute_result"
    }
   ],
   "source": [
    "len(Todo2)"
   ]
  },
  {
   "cell_type": "code",
   "execution_count": 243,
   "id": "6bf54ce0",
   "metadata": {},
   "outputs": [],
   "source": [
    "Lista=[1,2,3,4,5,6]"
   ]
  },
  {
   "cell_type": "code",
   "execution_count": 244,
   "id": "4cd47a3e",
   "metadata": {},
   "outputs": [],
   "source": [
    "Lista2=random.shuffle(Lista)"
   ]
  },
  {
   "cell_type": "code",
   "execution_count": 246,
   "id": "232f6365",
   "metadata": {},
   "outputs": [
    {
     "data": {
      "text/plain": [
       "NoneType"
      ]
     },
     "execution_count": 246,
     "metadata": {},
     "output_type": "execute_result"
    }
   ],
   "source": [
    "type(Lista2)"
   ]
  },
  {
   "cell_type": "code",
   "execution_count": 247,
   "id": "81810eb6",
   "metadata": {},
   "outputs": [],
   "source": [
    "random.shuffle(Todo)"
   ]
  },
  {
   "cell_type": "code",
   "execution_count": 252,
   "id": "68e7eb69",
   "metadata": {},
   "outputs": [
    {
     "data": {
      "text/plain": [
       "11911"
      ]
     },
     "execution_count": 252,
     "metadata": {},
     "output_type": "execute_result"
    }
   ],
   "source": [
    "len(Todo)"
   ]
  },
  {
   "cell_type": "code",
   "execution_count": 253,
   "id": "a8c5a7e7",
   "metadata": {},
   "outputs": [
    {
     "data": {
      "text/plain": [
       "10911"
      ]
     },
     "execution_count": 253,
     "metadata": {},
     "output_type": "execute_result"
    }
   ],
   "source": [
    "len(TodoDef)"
   ]
  },
  {
   "cell_type": "code",
   "execution_count": 254,
   "id": "200d0461",
   "metadata": {},
   "outputs": [
    {
     "data": {
      "text/plain": [
       "1000"
      ]
     },
     "execution_count": 254,
     "metadata": {},
     "output_type": "execute_result"
    }
   ],
   "source": [
    "len(TodoPrueba)"
   ]
  },
  {
   "cell_type": "code",
   "execution_count": 248,
   "id": "1deea97c",
   "metadata": {},
   "outputs": [],
   "source": [
    "TodoDef=Todo[:-1000]"
   ]
  },
  {
   "cell_type": "code",
   "execution_count": 250,
   "id": "1c6a4aaf",
   "metadata": {},
   "outputs": [],
   "source": [
    "TodoPrueba=Todo[-1000:]"
   ]
  },
  {
   "cell_type": "code",
   "execution_count": 284,
   "id": "066cc8fb",
   "metadata": {},
   "outputs": [],
   "source": [
    "x = np.array([i[0] for i in AgePrueba])\n",
    "y = np.array([i[1] for i in AgePrueba]).astype(int)"
   ]
  },
  {
   "cell_type": "code",
   "execution_count": 285,
   "id": "5143fde9",
   "metadata": {},
   "outputs": [],
   "source": [
    "model=load_model(\"my_model_AgePrediction3.h5\")"
   ]
  },
  {
   "cell_type": "code",
   "execution_count": 286,
   "id": "305e65c3",
   "metadata": {},
   "outputs": [],
   "source": [
    "y_pred=model.predict(x)"
   ]
  },
  {
   "cell_type": "code",
   "execution_count": 287,
   "id": "559cb96b",
   "metadata": {},
   "outputs": [
    {
     "data": {
      "text/plain": [
       "array([[59.36155 ],\n",
       "       [52.688004],\n",
       "       [52.17987 ],\n",
       "       [58.74225 ],\n",
       "       [52.537285],\n",
       "       [77.90828 ],\n",
       "       [56.814735],\n",
       "       [62.153183],\n",
       "       [64.06695 ],\n",
       "       [66.873184],\n",
       "       [45.193047],\n",
       "       [56.1093  ],\n",
       "       [53.332035],\n",
       "       [57.733414],\n",
       "       [54.218956],\n",
       "       [40.490196],\n",
       "       [54.39657 ],\n",
       "       [36.520607],\n",
       "       [72.637024],\n",
       "       [66.198715],\n",
       "       [44.335228],\n",
       "       [55.544792],\n",
       "       [53.744873],\n",
       "       [51.61502 ],\n",
       "       [26.658512],\n",
       "       [59.519478],\n",
       "       [53.91023 ],\n",
       "       [66.98956 ],\n",
       "       [52.373775],\n",
       "       [61.03209 ],\n",
       "       [61.931847],\n",
       "       [55.469128],\n",
       "       [54.44831 ],\n",
       "       [59.723248],\n",
       "       [57.35359 ],\n",
       "       [37.884518],\n",
       "       [60.897026],\n",
       "       [70.7699  ],\n",
       "       [34.288063],\n",
       "       [51.56104 ],\n",
       "       [43.67121 ],\n",
       "       [39.862   ],\n",
       "       [56.020554],\n",
       "       [58.482037],\n",
       "       [63.39687 ],\n",
       "       [61.133118],\n",
       "       [51.214073],\n",
       "       [61.855427],\n",
       "       [37.52848 ],\n",
       "       [50.503395],\n",
       "       [60.541187],\n",
       "       [80.4501  ],\n",
       "       [50.2432  ],\n",
       "       [64.49019 ],\n",
       "       [58.379547],\n",
       "       [55.88819 ],\n",
       "       [37.799557],\n",
       "       [42.053307],\n",
       "       [63.50434 ],\n",
       "       [41.903564],\n",
       "       [65.55381 ],\n",
       "       [43.72988 ],\n",
       "       [65.260994],\n",
       "       [54.262703],\n",
       "       [57.07174 ],\n",
       "       [45.681416],\n",
       "       [54.148724],\n",
       "       [58.318886],\n",
       "       [59.19856 ],\n",
       "       [57.11268 ],\n",
       "       [51.947914],\n",
       "       [41.55939 ],\n",
       "       [57.101624],\n",
       "       [57.7704  ],\n",
       "       [55.841415],\n",
       "       [53.454254],\n",
       "       [51.47473 ],\n",
       "       [58.632847],\n",
       "       [62.19961 ],\n",
       "       [51.454212],\n",
       "       [45.935158],\n",
       "       [52.70294 ],\n",
       "       [46.230236],\n",
       "       [59.762463],\n",
       "       [47.32068 ],\n",
       "       [37.293243],\n",
       "       [55.31717 ],\n",
       "       [44.153534],\n",
       "       [50.29648 ],\n",
       "       [67.376526],\n",
       "       [57.957104],\n",
       "       [59.82324 ],\n",
       "       [52.11678 ],\n",
       "       [53.397587],\n",
       "       [49.929813],\n",
       "       [43.88537 ],\n",
       "       [37.81202 ],\n",
       "       [54.068703],\n",
       "       [49.576073],\n",
       "       [57.104713],\n",
       "       [51.698868],\n",
       "       [54.55418 ],\n",
       "       [61.78234 ],\n",
       "       [40.753235],\n",
       "       [66.05201 ],\n",
       "       [49.635117],\n",
       "       [55.649017],\n",
       "       [54.054306],\n",
       "       [51.03121 ],\n",
       "       [50.364113],\n",
       "       [72.23706 ],\n",
       "       [50.584404],\n",
       "       [38.614426],\n",
       "       [45.207947],\n",
       "       [66.77114 ],\n",
       "       [56.816166],\n",
       "       [61.321465],\n",
       "       [59.030663],\n",
       "       [56.967785],\n",
       "       [61.813446],\n",
       "       [64.86773 ],\n",
       "       [56.04211 ],\n",
       "       [57.568527],\n",
       "       [58.06141 ],\n",
       "       [47.742714],\n",
       "       [42.714344],\n",
       "       [46.152473],\n",
       "       [64.838486],\n",
       "       [60.477062],\n",
       "       [64.16721 ],\n",
       "       [59.076508],\n",
       "       [58.491707],\n",
       "       [59.86743 ],\n",
       "       [49.247654],\n",
       "       [53.356907],\n",
       "       [53.538277],\n",
       "       [59.22162 ],\n",
       "       [45.43544 ],\n",
       "       [54.376442],\n",
       "       [61.98922 ],\n",
       "       [42.86469 ],\n",
       "       [36.381824],\n",
       "       [62.076984],\n",
       "       [50.93303 ],\n",
       "       [41.375954],\n",
       "       [65.02679 ],\n",
       "       [58.935703],\n",
       "       [54.85076 ],\n",
       "       [47.168602],\n",
       "       [57.498566],\n",
       "       [56.848938],\n",
       "       [53.337914],\n",
       "       [46.56203 ],\n",
       "       [68.56286 ],\n",
       "       [42.103626],\n",
       "       [69.28665 ],\n",
       "       [57.279716],\n",
       "       [54.305367],\n",
       "       [53.80181 ],\n",
       "       [44.449814],\n",
       "       [56.4352  ],\n",
       "       [60.66471 ],\n",
       "       [55.853214],\n",
       "       [67.09586 ],\n",
       "       [58.651703],\n",
       "       [49.27515 ],\n",
       "       [54.897827],\n",
       "       [57.47262 ],\n",
       "       [28.19587 ],\n",
       "       [50.41503 ],\n",
       "       [54.98738 ],\n",
       "       [48.645878],\n",
       "       [64.080765],\n",
       "       [53.122025],\n",
       "       [58.30372 ],\n",
       "       [44.82001 ],\n",
       "       [64.94819 ],\n",
       "       [42.40592 ],\n",
       "       [59.641685],\n",
       "       [54.066   ],\n",
       "       [53.718475],\n",
       "       [50.94062 ],\n",
       "       [63.557995],\n",
       "       [58.435387],\n",
       "       [56.963524],\n",
       "       [53.709145],\n",
       "       [67.2406  ],\n",
       "       [54.846638],\n",
       "       [38.64845 ],\n",
       "       [64.98174 ],\n",
       "       [55.43235 ],\n",
       "       [56.734818],\n",
       "       [60.8808  ],\n",
       "       [62.000282],\n",
       "       [54.792034],\n",
       "       [48.435246],\n",
       "       [51.519913],\n",
       "       [54.911987],\n",
       "       [56.97172 ],\n",
       "       [45.060806],\n",
       "       [54.23704 ],\n",
       "       [60.799625],\n",
       "       [53.214806],\n",
       "       [71.40811 ],\n",
       "       [42.50991 ],\n",
       "       [41.616634],\n",
       "       [46.490685],\n",
       "       [68.152466],\n",
       "       [52.109512],\n",
       "       [51.96967 ],\n",
       "       [63.13563 ],\n",
       "       [47.484177],\n",
       "       [58.218403],\n",
       "       [59.29088 ],\n",
       "       [53.21745 ],\n",
       "       [58.649803],\n",
       "       [52.799583],\n",
       "       [53.104668],\n",
       "       [64.73895 ],\n",
       "       [57.92567 ],\n",
       "       [55.061134],\n",
       "       [57.568916],\n",
       "       [45.29372 ],\n",
       "       [52.686405],\n",
       "       [57.433895],\n",
       "       [61.137836],\n",
       "       [40.314373],\n",
       "       [50.944973],\n",
       "       [50.93885 ],\n",
       "       [55.510475],\n",
       "       [43.20894 ],\n",
       "       [54.286392],\n",
       "       [17.309872],\n",
       "       [65.02432 ],\n",
       "       [52.159992],\n",
       "       [56.10001 ],\n",
       "       [63.840836],\n",
       "       [62.791267],\n",
       "       [35.254524],\n",
       "       [56.92201 ],\n",
       "       [56.42404 ],\n",
       "       [50.155357],\n",
       "       [59.35498 ],\n",
       "       [55.448025],\n",
       "       [49.93179 ],\n",
       "       [49.466774],\n",
       "       [53.930824],\n",
       "       [43.6461  ],\n",
       "       [58.59162 ],\n",
       "       [45.304634],\n",
       "       [65.24614 ],\n",
       "       [57.322945],\n",
       "       [56.128445],\n",
       "       [47.486324],\n",
       "       [65.84529 ],\n",
       "       [58.06021 ],\n",
       "       [48.570213],\n",
       "       [41.979004],\n",
       "       [60.33025 ],\n",
       "       [58.759735],\n",
       "       [56.322212],\n",
       "       [51.573776],\n",
       "       [50.156563],\n",
       "       [63.562393],\n",
       "       [61.61982 ],\n",
       "       [64.139145],\n",
       "       [56.906715],\n",
       "       [40.848476],\n",
       "       [53.02776 ],\n",
       "       [59.442886],\n",
       "       [52.37777 ],\n",
       "       [57.21888 ],\n",
       "       [54.62979 ],\n",
       "       [63.35003 ],\n",
       "       [55.78945 ],\n",
       "       [48.53422 ],\n",
       "       [53.454643],\n",
       "       [48.402252],\n",
       "       [55.5358  ],\n",
       "       [57.49759 ],\n",
       "       [56.54967 ],\n",
       "       [46.630486],\n",
       "       [47.798393],\n",
       "       [38.575104],\n",
       "       [49.99811 ],\n",
       "       [56.052242],\n",
       "       [57.047375],\n",
       "       [51.900043],\n",
       "       [61.65867 ],\n",
       "       [52.856766],\n",
       "       [50.08922 ],\n",
       "       [56.621525],\n",
       "       [60.918495],\n",
       "       [54.191906],\n",
       "       [60.28468 ],\n",
       "       [52.087013],\n",
       "       [42.401855],\n",
       "       [48.895805],\n",
       "       [50.379242],\n",
       "       [59.207375],\n",
       "       [60.3474  ],\n",
       "       [60.026756],\n",
       "       [58.734135],\n",
       "       [45.805843],\n",
       "       [67.1438  ],\n",
       "       [39.841393],\n",
       "       [54.47459 ],\n",
       "       [55.889183],\n",
       "       [48.606503],\n",
       "       [58.4645  ],\n",
       "       [56.394485],\n",
       "       [50.95867 ],\n",
       "       [58.758087],\n",
       "       [47.82098 ],\n",
       "       [60.39323 ],\n",
       "       [52.15679 ],\n",
       "       [55.33818 ],\n",
       "       [44.157833],\n",
       "       [33.98514 ],\n",
       "       [54.56254 ],\n",
       "       [53.50674 ],\n",
       "       [53.356873],\n",
       "       [61.966747],\n",
       "       [36.74558 ],\n",
       "       [31.694088],\n",
       "       [40.931335],\n",
       "       [56.647114],\n",
       "       [54.677887],\n",
       "       [31.796001],\n",
       "       [54.42215 ],\n",
       "       [50.309654],\n",
       "       [58.094563],\n",
       "       [55.1133  ],\n",
       "       [55.455467],\n",
       "       [55.447937],\n",
       "       [58.214066],\n",
       "       [56.18065 ],\n",
       "       [48.659073],\n",
       "       [61.099735],\n",
       "       [64.531456],\n",
       "       [49.808315],\n",
       "       [49.173035],\n",
       "       [71.52147 ],\n",
       "       [49.864197],\n",
       "       [53.27825 ],\n",
       "       [69.07144 ],\n",
       "       [43.42341 ],\n",
       "       [66.15135 ],\n",
       "       [55.981377],\n",
       "       [82.57584 ],\n",
       "       [52.343075],\n",
       "       [58.35952 ],\n",
       "       [71.23249 ],\n",
       "       [56.035194],\n",
       "       [42.130203],\n",
       "       [69.97692 ],\n",
       "       [37.838108],\n",
       "       [60.35871 ],\n",
       "       [54.041977],\n",
       "       [57.916935],\n",
       "       [59.067337],\n",
       "       [58.19493 ],\n",
       "       [67.479675],\n",
       "       [51.83446 ],\n",
       "       [55.948116],\n",
       "       [42.958107],\n",
       "       [68.3746  ],\n",
       "       [56.79944 ],\n",
       "       [48.864655],\n",
       "       [59.61473 ],\n",
       "       [58.558174],\n",
       "       [63.405396],\n",
       "       [50.6707  ],\n",
       "       [57.098976],\n",
       "       [65.62053 ],\n",
       "       [50.534542],\n",
       "       [48.54212 ],\n",
       "       [45.24543 ],\n",
       "       [43.50891 ],\n",
       "       [59.17926 ],\n",
       "       [67.699234],\n",
       "       [48.85157 ],\n",
       "       [52.40281 ],\n",
       "       [39.421425],\n",
       "       [58.31821 ],\n",
       "       [52.57857 ],\n",
       "       [57.764397],\n",
       "       [33.293182],\n",
       "       [54.652622],\n",
       "       [64.54773 ],\n",
       "       [65.40823 ],\n",
       "       [35.97155 ],\n",
       "       [37.21353 ],\n",
       "       [62.74408 ],\n",
       "       [52.57372 ],\n",
       "       [46.01159 ],\n",
       "       [45.42208 ],\n",
       "       [64.50519 ],\n",
       "       [47.69265 ],\n",
       "       [52.896595],\n",
       "       [34.882996],\n",
       "       [54.858467],\n",
       "       [42.278324],\n",
       "       [42.503613],\n",
       "       [60.501152],\n",
       "       [60.132034],\n",
       "       [55.96434 ],\n",
       "       [63.58396 ],\n",
       "       [35.693504],\n",
       "       [63.22108 ],\n",
       "       [51.610016],\n",
       "       [45.74976 ],\n",
       "       [31.936996],\n",
       "       [53.190014],\n",
       "       [53.454163],\n",
       "       [52.64528 ],\n",
       "       [57.56958 ],\n",
       "       [55.362854],\n",
       "       [53.796577],\n",
       "       [44.290665],\n",
       "       [55.06452 ],\n",
       "       [53.784813],\n",
       "       [61.32489 ],\n",
       "       [48.868656],\n",
       "       [55.813522],\n",
       "       [60.33591 ],\n",
       "       [67.707504],\n",
       "       [49.111458],\n",
       "       [38.60905 ],\n",
       "       [47.41199 ],\n",
       "       [61.057144],\n",
       "       [58.316353],\n",
       "       [58.699646],\n",
       "       [46.1594  ],\n",
       "       [70.24074 ],\n",
       "       [63.92476 ],\n",
       "       [37.96858 ],\n",
       "       [44.269043],\n",
       "       [43.419434],\n",
       "       [56.174503],\n",
       "       [49.7456  ],\n",
       "       [48.6898  ],\n",
       "       [47.55334 ],\n",
       "       [56.320507],\n",
       "       [61.653816],\n",
       "       [56.64467 ],\n",
       "       [52.772865],\n",
       "       [45.197525],\n",
       "       [73.70676 ],\n",
       "       [58.043633],\n",
       "       [52.751587],\n",
       "       [51.929478],\n",
       "       [57.036003],\n",
       "       [53.303032],\n",
       "       [51.701508],\n",
       "       [58.26027 ],\n",
       "       [57.781197],\n",
       "       [55.164234],\n",
       "       [62.934998],\n",
       "       [73.44627 ],\n",
       "       [51.211117],\n",
       "       [42.06605 ],\n",
       "       [66.434204],\n",
       "       [48.50888 ],\n",
       "       [59.75688 ],\n",
       "       [ 0.      ],\n",
       "       [52.63005 ],\n",
       "       [65.73102 ],\n",
       "       [81.47793 ],\n",
       "       [64.64789 ],\n",
       "       [55.865707],\n",
       "       [67.32863 ],\n",
       "       [57.825394],\n",
       "       [54.766006],\n",
       "       [65.32616 ],\n",
       "       [49.131165],\n",
       "       [54.186   ],\n",
       "       [44.241985],\n",
       "       [52.604492],\n",
       "       [61.480865],\n",
       "       [50.23707 ],\n",
       "       [37.363453],\n",
       "       [65.07712 ],\n",
       "       [62.243065],\n",
       "       [67.933235],\n",
       "       [54.589382],\n",
       "       [60.440823],\n",
       "       [83.341415],\n",
       "       [45.072548],\n",
       "       [51.053127],\n",
       "       [30.486858],\n",
       "       [71.02396 ],\n",
       "       [51.780296],\n",
       "       [82.59239 ],\n",
       "       [63.384857],\n",
       "       [49.19692 ],\n",
       "       [64.730156],\n",
       "       [55.98967 ],\n",
       "       [62.62715 ],\n",
       "       [47.180214],\n",
       "       [57.73654 ],\n",
       "       [48.166817],\n",
       "       [52.433456],\n",
       "       [58.391342],\n",
       "       [54.349228],\n",
       "       [63.476204],\n",
       "       [70.10098 ],\n",
       "       [40.57199 ],\n",
       "       [63.240997],\n",
       "       [56.961956],\n",
       "       [48.84117 ],\n",
       "       [58.058807],\n",
       "       [56.247932],\n",
       "       [70.39419 ],\n",
       "       [48.24209 ],\n",
       "       [43.35621 ],\n",
       "       [45.470676],\n",
       "       [41.53298 ],\n",
       "       [68.71414 ],\n",
       "       [48.087044],\n",
       "       [65.06298 ],\n",
       "       [45.774696],\n",
       "       [58.147743],\n",
       "       [51.699852],\n",
       "       [50.13382 ],\n",
       "       [55.974586],\n",
       "       [48.17571 ],\n",
       "       [60.359478],\n",
       "       [59.983078],\n",
       "       [65.916275],\n",
       "       [51.324165],\n",
       "       [51.857086],\n",
       "       [38.77442 ],\n",
       "       [35.37102 ],\n",
       "       [60.437874],\n",
       "       [58.406487],\n",
       "       [49.310158],\n",
       "       [41.81106 ],\n",
       "       [64.938576],\n",
       "       [63.493538],\n",
       "       [35.339172],\n",
       "       [50.914177],\n",
       "       [53.97332 ],\n",
       "       [66.66532 ],\n",
       "       [61.876617],\n",
       "       [56.95681 ],\n",
       "       [66.752594],\n",
       "       [53.749447],\n",
       "       [44.31267 ],\n",
       "       [46.388046],\n",
       "       [55.377823],\n",
       "       [80.67562 ],\n",
       "       [57.94536 ],\n",
       "       [64.02792 ],\n",
       "       [62.136917],\n",
       "       [33.256996],\n",
       "       [71.00786 ],\n",
       "       [28.016445],\n",
       "       [54.538666],\n",
       "       [44.81888 ],\n",
       "       [46.07652 ],\n",
       "       [47.51049 ],\n",
       "       [49.832066],\n",
       "       [58.494694],\n",
       "       [57.212364],\n",
       "       [51.00899 ],\n",
       "       [42.311077],\n",
       "       [61.39777 ],\n",
       "       [49.98643 ],\n",
       "       [60.40454 ],\n",
       "       [52.953655],\n",
       "       [58.52246 ],\n",
       "       [73.42274 ],\n",
       "       [41.249542],\n",
       "       [32.184788],\n",
       "       [37.77046 ],\n",
       "       [60.8584  ],\n",
       "       [50.178543],\n",
       "       [55.95002 ],\n",
       "       [52.65629 ],\n",
       "       [56.93755 ],\n",
       "       [63.392723],\n",
       "       [55.887527],\n",
       "       [51.66446 ],\n",
       "       [59.016403],\n",
       "       [48.94552 ],\n",
       "       [64.64253 ],\n",
       "       [47.95116 ],\n",
       "       [59.895348],\n",
       "       [54.85311 ],\n",
       "       [47.26716 ],\n",
       "       [53.156193],\n",
       "       [16.962797],\n",
       "       [26.042336],\n",
       "       [45.53663 ],\n",
       "       [53.644188],\n",
       "       [52.295895],\n",
       "       [67.22121 ],\n",
       "       [48.857754],\n",
       "       [56.90613 ],\n",
       "       [51.14399 ],\n",
       "       [60.84671 ],\n",
       "       [58.77186 ],\n",
       "       [42.708897],\n",
       "       [38.52784 ],\n",
       "       [86.66857 ],\n",
       "       [54.71204 ],\n",
       "       [46.546135],\n",
       "       [ 0.      ],\n",
       "       [68.524124],\n",
       "       [53.776527],\n",
       "       [40.636047],\n",
       "       [62.51747 ],\n",
       "       [58.866463],\n",
       "       [41.02163 ],\n",
       "       [32.161694],\n",
       "       [55.344658],\n",
       "       [54.219757],\n",
       "       [61.811043],\n",
       "       [66.19488 ],\n",
       "       [56.90256 ],\n",
       "       [60.710464],\n",
       "       [64.85968 ],\n",
       "       [54.636387],\n",
       "       [56.868332],\n",
       "       [40.055405],\n",
       "       [60.559135],\n",
       "       [55.17418 ],\n",
       "       [44.575058],\n",
       "       [49.46657 ],\n",
       "       [84.91539 ],\n",
       "       [71.0663  ],\n",
       "       [61.68296 ],\n",
       "       [58.914875],\n",
       "       [61.528046],\n",
       "       [44.736347],\n",
       "       [55.501587],\n",
       "       [54.739716],\n",
       "       [61.733597],\n",
       "       [41.663536],\n",
       "       [51.100426],\n",
       "       [60.20395 ],\n",
       "       [43.096603],\n",
       "       [54.705173],\n",
       "       [61.38631 ],\n",
       "       [56.9029  ],\n",
       "       [58.856224],\n",
       "       [49.28649 ],\n",
       "       [49.798367],\n",
       "       [53.139503],\n",
       "       [45.61164 ],\n",
       "       [53.076485],\n",
       "       [57.372158],\n",
       "       [58.632824],\n",
       "       [44.147453],\n",
       "       [59.70803 ],\n",
       "       [47.032097],\n",
       "       [80.06683 ],\n",
       "       [56.985718],\n",
       "       [51.731777],\n",
       "       [54.310368],\n",
       "       [61.096275],\n",
       "       [55.15169 ],\n",
       "       [54.359985],\n",
       "       [48.975647],\n",
       "       [42.507652],\n",
       "       [ 0.      ],\n",
       "       [56.709732],\n",
       "       [56.458843],\n",
       "       [37.02652 ],\n",
       "       [54.03228 ],\n",
       "       [43.769997],\n",
       "       [39.19088 ],\n",
       "       [51.522156],\n",
       "       [52.85824 ],\n",
       "       [48.5418  ],\n",
       "       [46.53871 ],\n",
       "       [36.466675],\n",
       "       [49.26665 ],\n",
       "       [45.528625],\n",
       "       [57.808937],\n",
       "       [57.845577],\n",
       "       [51.331215],\n",
       "       [44.833927],\n",
       "       [59.729595],\n",
       "       [50.946392],\n",
       "       [49.89819 ],\n",
       "       [51.55763 ],\n",
       "       [48.836094],\n",
       "       [58.33057 ],\n",
       "       [42.42338 ],\n",
       "       [62.04527 ],\n",
       "       [54.202354],\n",
       "       [58.110016],\n",
       "       [59.45303 ],\n",
       "       [42.152756],\n",
       "       [61.55784 ],\n",
       "       [60.146305],\n",
       "       [53.896767],\n",
       "       [62.007122],\n",
       "       [65.752335],\n",
       "       [35.380226],\n",
       "       [36.081314],\n",
       "       [71.53812 ],\n",
       "       [57.812195],\n",
       "       [46.522594],\n",
       "       [45.39921 ],\n",
       "       [59.66791 ],\n",
       "       [48.695488],\n",
       "       [54.679104],\n",
       "       [47.80622 ],\n",
       "       [54.18499 ],\n",
       "       [69.45796 ],\n",
       "       [60.1409  ],\n",
       "       [61.479725],\n",
       "       [44.324722],\n",
       "       [55.333168],\n",
       "       [45.940018],\n",
       "       [72.57837 ],\n",
       "       [71.233795],\n",
       "       [64.74415 ],\n",
       "       [62.451206],\n",
       "       [55.151463],\n",
       "       [43.501682],\n",
       "       [61.806545],\n",
       "       [55.404472],\n",
       "       [58.421192],\n",
       "       [61.526608],\n",
       "       [51.711697],\n",
       "       [54.325912],\n",
       "       [57.15065 ],\n",
       "       [63.181385],\n",
       "       [39.724804],\n",
       "       [57.29785 ],\n",
       "       [51.841503],\n",
       "       [55.970974],\n",
       "       [64.92212 ],\n",
       "       [42.563248],\n",
       "       [42.384445],\n",
       "       [52.22228 ],\n",
       "       [62.434464],\n",
       "       [38.56422 ],\n",
       "       [78.46073 ],\n",
       "       [53.795998],\n",
       "       [50.279934],\n",
       "       [85.14788 ],\n",
       "       [58.88968 ],\n",
       "       [55.85869 ],\n",
       "       [53.50512 ],\n",
       "       [67.82052 ],\n",
       "       [59.53748 ],\n",
       "       [31.743454],\n",
       "       [57.334454],\n",
       "       [54.69107 ],\n",
       "       [48.08961 ],\n",
       "       [68.658035],\n",
       "       [54.143166],\n",
       "       [28.384922],\n",
       "       [46.655212],\n",
       "       [56.835415],\n",
       "       [47.80157 ],\n",
       "       [49.249054],\n",
       "       [45.054047],\n",
       "       [58.80661 ],\n",
       "       [54.63791 ],\n",
       "       [56.604748],\n",
       "       [50.702324],\n",
       "       [54.7622  ],\n",
       "       [50.304764],\n",
       "       [47.756226],\n",
       "       [54.4646  ],\n",
       "       [49.801704],\n",
       "       [88.27518 ],\n",
       "       [56.25725 ],\n",
       "       [52.904907],\n",
       "       [57.308155],\n",
       "       [31.938429],\n",
       "       [58.869644],\n",
       "       [46.35024 ],\n",
       "       [51.553448],\n",
       "       [45.105545],\n",
       "       [67.77153 ],\n",
       "       [40.90129 ],\n",
       "       [48.776947],\n",
       "       [55.76    ],\n",
       "       [53.093216],\n",
       "       [70.345474],\n",
       "       [60.494843],\n",
       "       [34.671932],\n",
       "       [48.78319 ],\n",
       "       [51.402576],\n",
       "       [60.587105],\n",
       "       [59.682755],\n",
       "       [63.73123 ],\n",
       "       [37.338234],\n",
       "       [59.37899 ],\n",
       "       [74.63121 ],\n",
       "       [50.899254],\n",
       "       [54.85688 ],\n",
       "       [57.944984],\n",
       "       [55.31132 ],\n",
       "       [55.165253],\n",
       "       [57.063858],\n",
       "       [69.882614],\n",
       "       [53.086777],\n",
       "       [51.073128],\n",
       "       [53.391922],\n",
       "       [51.81535 ],\n",
       "       [58.954487],\n",
       "       [53.484314],\n",
       "       [34.701008],\n",
       "       [54.7668  ],\n",
       "       [80.971756],\n",
       "       [48.041206],\n",
       "       [62.526703],\n",
       "       [66.2708  ],\n",
       "       [51.03873 ],\n",
       "       [69.83472 ],\n",
       "       [55.36846 ],\n",
       "       [48.930473],\n",
       "       [63.003296],\n",
       "       [55.613228],\n",
       "       [50.73744 ],\n",
       "       [68.05362 ],\n",
       "       [59.71726 ],\n",
       "       [55.470177],\n",
       "       [60.706154],\n",
       "       [63.372192],\n",
       "       [54.66183 ],\n",
       "       [62.029427],\n",
       "       [51.483757],\n",
       "       [47.298077],\n",
       "       [33.360893],\n",
       "       [51.871265],\n",
       "       [48.416992],\n",
       "       [58.21322 ],\n",
       "       [58.511696],\n",
       "       [47.425686],\n",
       "       [62.381966],\n",
       "       [59.558228],\n",
       "       [59.30332 ],\n",
       "       [63.68076 ],\n",
       "       [64.02442 ],\n",
       "       [56.8978  ],\n",
       "       [46.393387],\n",
       "       [ 0.      ],\n",
       "       [57.99812 ],\n",
       "       [60.20643 ],\n",
       "       [54.788815],\n",
       "       [55.5126  ],\n",
       "       [68.25346 ],\n",
       "       [48.549644],\n",
       "       [57.07731 ],\n",
       "       [48.65101 ],\n",
       "       [53.776924],\n",
       "       [58.783974],\n",
       "       [56.059605],\n",
       "       [62.159885],\n",
       "       [42.67778 ],\n",
       "       [52.85829 ],\n",
       "       [51.626263],\n",
       "       [52.51808 ],\n",
       "       [49.126038],\n",
       "       [43.81334 ],\n",
       "       [53.525726],\n",
       "       [33.883835],\n",
       "       [44.13527 ],\n",
       "       [72.566055],\n",
       "       [42.923637],\n",
       "       [51.730995],\n",
       "       [45.657066],\n",
       "       [50.87611 ],\n",
       "       [57.474808],\n",
       "       [54.91392 ],\n",
       "       [60.52829 ],\n",
       "       [26.468935],\n",
       "       [56.680588],\n",
       "       [48.494312],\n",
       "       [39.3085  ],\n",
       "       [47.141106],\n",
       "       [51.268772],\n",
       "       [78.040146],\n",
       "       [61.139874],\n",
       "       [28.742   ],\n",
       "       [29.943913],\n",
       "       [43.313034],\n",
       "       [55.60919 ],\n",
       "       [58.052418],\n",
       "       [59.19861 ],\n",
       "       [57.349594],\n",
       "       [44.301407],\n",
       "       [58.37233 ],\n",
       "       [53.743618],\n",
       "       [59.498375],\n",
       "       [61.596985],\n",
       "       [59.015633],\n",
       "       [49.768967],\n",
       "       [58.128586],\n",
       "       [61.24659 ],\n",
       "       [68.146225],\n",
       "       [54.2185  ],\n",
       "       [44.813454],\n",
       "       [54.151066],\n",
       "       [55.988213],\n",
       "       [54.199287],\n",
       "       [63.053837],\n",
       "       [51.77008 ],\n",
       "       [50.94981 ],\n",
       "       [47.561104],\n",
       "       [43.356674],\n",
       "       [60.422935],\n",
       "       [44.27947 ],\n",
       "       [50.88639 ],\n",
       "       [56.85543 ],\n",
       "       [49.973602],\n",
       "       [55.110603],\n",
       "       [50.78483 ],\n",
       "       [26.142487],\n",
       "       [46.530037],\n",
       "       [50.517715],\n",
       "       [61.817654],\n",
       "       [39.85595 ],\n",
       "       [62.795494],\n",
       "       [67.49688 ],\n",
       "       [57.22647 ],\n",
       "       [63.012115],\n",
       "       [45.416866],\n",
       "       [55.703495],\n",
       "       [54.86956 ],\n",
       "       [55.84037 ],\n",
       "       [81.04941 ],\n",
       "       [65.66828 ],\n",
       "       [44.9019  ],\n",
       "       [48.652973],\n",
       "       [54.585434],\n",
       "       [71.91417 ],\n",
       "       [69.901184],\n",
       "       [67.72286 ],\n",
       "       [57.871895],\n",
       "       [50.23909 ],\n",
       "       [41.163994],\n",
       "       [66.33248 ],\n",
       "       [54.25454 ],\n",
       "       [52.19302 ],\n",
       "       [47.41459 ],\n",
       "       [52.544987],\n",
       "       [35.603752],\n",
       "       [61.240265],\n",
       "       [46.6969  ],\n",
       "       [60.133553],\n",
       "       [43.83331 ],\n",
       "       [65.67705 ],\n",
       "       [45.20823 ],\n",
       "       [48.101395],\n",
       "       [53.80665 ],\n",
       "       [47.43624 ],\n",
       "       [53.788055],\n",
       "       [51.940926],\n",
       "       [59.552612],\n",
       "       [48.057743],\n",
       "       [26.624346],\n",
       "       [54.615257],\n",
       "       [56.13925 ],\n",
       "       [59.024803],\n",
       "       [66.61387 ],\n",
       "       [50.28277 ],\n",
       "       [50.204815],\n",
       "       [43.04147 ],\n",
       "       [56.23462 ],\n",
       "       [58.59748 ],\n",
       "       [47.23973 ],\n",
       "       [55.66672 ],\n",
       "       [58.771446],\n",
       "       [57.962555],\n",
       "       [61.56086 ],\n",
       "       [61.060555],\n",
       "       [50.39286 ],\n",
       "       [50.293343],\n",
       "       [84.50791 ],\n",
       "       [51.552002],\n",
       "       [61.02073 ],\n",
       "       [52.316963],\n",
       "       [57.84925 ],\n",
       "       [45.089394],\n",
       "       [66.47004 ],\n",
       "       [74.01421 ],\n",
       "       [67.872665],\n",
       "       [54.562874],\n",
       "       [53.886658],\n",
       "       [26.853039],\n",
       "       [60.00479 ],\n",
       "       [47.8722  ],\n",
       "       [52.158684],\n",
       "       [43.61104 ],\n",
       "       [57.87536 ],\n",
       "       [56.285408],\n",
       "       [45.490776],\n",
       "       [69.269745],\n",
       "       [60.924427],\n",
       "       [31.435198]], dtype=float32)"
      ]
     },
     "execution_count": 287,
     "metadata": {},
     "output_type": "execute_result"
    }
   ],
   "source": [
    "y_pred"
   ]
  },
  {
   "cell_type": "code",
   "execution_count": 271,
   "id": "df0c311c",
   "metadata": {},
   "outputs": [],
   "source": [
    "from sklearn.metrics import r2_score,mean_absolute_error"
   ]
  },
  {
   "cell_type": "code",
   "execution_count": 288,
   "id": "a622a5d8",
   "metadata": {},
   "outputs": [
    {
     "name": "stdout",
     "output_type": "stream",
     "text": [
      "0.35546879397628206\n",
      "6.97274374961853\n"
     ]
    }
   ],
   "source": [
    "print(r2_score(y,y_pred))\n",
    "print(mean_absolute_error(y,y_pred))"
   ]
  },
  {
   "cell_type": "code",
   "execution_count": 281,
   "id": "a0c83903",
   "metadata": {},
   "outputs": [],
   "source": [
    "save('x5',x)"
   ]
  },
  {
   "cell_type": "code",
   "execution_count": 282,
   "id": "677f49c9",
   "metadata": {},
   "outputs": [],
   "source": [
    "save('y5',y)"
   ]
  },
  {
   "cell_type": "code",
   "execution_count": 150,
   "id": "32e6d7fd",
   "metadata": {},
   "outputs": [
    {
     "data": {
      "text/plain": [
       "Age_Types_Cat_0    1\n",
       "Age_Types_Cat_1    0\n",
       "Age_Types_Cat_2    0\n",
       "Age_Types_Cat_3    0\n",
       "Age_Types_Cat_4    0\n",
       "Age_Types_Cat_5    0\n",
       "Age_Types_Cat_6    0\n",
       "Age_Types_Cat_7    0\n",
       "Name: 1013, dtype: object"
      ]
     },
     "execution_count": 150,
     "metadata": {},
     "output_type": "execute_result"
    }
   ],
   "source": [
    "df3.iloc[df2[df2.filename==c].index[0]][['Age_Types_Cat_0', 'Age_Types_Cat_1', 'Age_Types_Cat_2','Age_Types_Cat_3','Age_Types_Cat_4', 'Age_Types_Cat_5','Age_Types_Cat_6','Age_Types_Cat_7']]"
   ]
  },
  {
   "cell_type": "code",
   "execution_count": 127,
   "id": "fdd091c2",
   "metadata": {},
   "outputs": [],
   "source": [
    "Age=create_dataset(d,c)"
   ]
  },
  {
   "cell_type": "code",
   "execution_count": 131,
   "id": "04f510ff",
   "metadata": {},
   "outputs": [
    {
     "data": {
      "text/plain": [
       "array([0, 0, 0, 0, 0, 0, 1, 0], dtype=object)"
      ]
     },
     "execution_count": 131,
     "metadata": {},
     "output_type": "execute_result"
    }
   ],
   "source": [
    "Age[0][1]"
   ]
  },
  {
   "cell_type": "code",
   "execution_count": 102,
   "id": "d41fbfea",
   "metadata": {},
   "outputs": [],
   "source": [
    "x = np.array([i[0] for i in Age])\n",
    "y = np.array([i[1] for i in Age])"
   ]
  },
  {
   "cell_type": "code",
   "execution_count": 116,
   "id": "35f3ef3c",
   "metadata": {},
   "outputs": [
    {
     "name": "stdout",
     "output_type": "stream",
     "text": [
      "Label :   (6392, 8)\n"
     ]
    }
   ],
   "source": [
    "from sklearn.preprocessing import OneHotEncoder\n",
    "y = np.array(df3.iloc[:][['Age_Types_Cat_0', 'Age_Types_Cat_1', 'Age_Types_Cat_2','Age_Types_Cat_3','Age_Types_Cat_4', 'Age_Types_Cat_5','Age_Types_Cat_6','Age_Types_Cat_7']])\n",
    "y = np.array(y)\n",
    "print('Label :   '+str(y.shape))"
   ]
  },
  {
   "cell_type": "code",
   "execution_count": 125,
   "id": "1f78a4cc",
   "metadata": {},
   "outputs": [
    {
     "data": {
      "text/plain": [
       "array([0, 0, 0, 0, 1, 0, 0, 0], dtype=uint8)"
      ]
     },
     "execution_count": 125,
     "metadata": {},
     "output_type": "execute_result"
    }
   ],
   "source": [
    "y[6]"
   ]
  },
  {
   "cell_type": "code",
   "execution_count": 105,
   "id": "cf1f2055",
   "metadata": {},
   "outputs": [],
   "source": [
    "save('x3',x)"
   ]
  },
  {
   "cell_type": "code",
   "execution_count": 118,
   "id": "9539b610",
   "metadata": {},
   "outputs": [],
   "source": [
    "save('y4',y)"
   ]
  },
  {
   "cell_type": "code",
   "execution_count": null,
   "id": "a36a82bb",
   "metadata": {},
   "outputs": [],
   "source": []
  }
 ],
 "metadata": {
  "kernelspec": {
   "display_name": "Project",
   "language": "python",
   "name": "project"
  },
  "language_info": {
   "codemirror_mode": {
    "name": "ipython",
    "version": 3
   },
   "file_extension": ".py",
   "mimetype": "text/x-python",
   "name": "python",
   "nbconvert_exporter": "python",
   "pygments_lexer": "ipython3",
   "version": "3.9.7"
  }
 },
 "nbformat": 4,
 "nbformat_minor": 5
}
