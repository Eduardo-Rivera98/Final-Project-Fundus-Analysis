{
  "nbformat": 4,
  "nbformat_minor": 0,
  "metadata": {
    "colab": {
      "name": "ModelGlaucoma",
      "provenance": [],
      "collapsed_sections": [],
      "machine_shape": "hm",
      "authorship_tag": "ABX9TyMk80B7191dpzTQLoqAfheq",
      "include_colab_link": true
    },
    "kernelspec": {
      "name": "python3",
      "display_name": "Python 3"
    },
    "language_info": {
      "name": "python"
    }
  },
  "cells": [
    {
      "cell_type": "markdown",
      "metadata": {
        "id": "view-in-github",
        "colab_type": "text"
      },
      "source": [
        "<a href=\"https://colab.research.google.com/github/Eduardo-Rivera98/Final-Project-Fundus-Analysis/blob/main/ModelGlaucoma.ipynb\" target=\"_parent\"><img src=\"https://colab.research.google.com/assets/colab-badge.svg\" alt=\"Open In Colab\"/></a>"
      ]
    },
    {
      "cell_type": "code",
      "execution_count": null,
      "metadata": {
        "id": "4Bogd11RmzL6"
      },
      "outputs": [],
      "source": [
        "from numpy import load\n",
        "import h5py"
      ]
    },
    {
      "cell_type": "code",
      "source": [
        "from google.colab import drive\n",
        "#drive.mount('/content/drive')"
      ],
      "metadata": {
        "id": "IKdUHP3_Gw8b"
      },
      "execution_count": null,
      "outputs": []
    },
    {
      "cell_type": "code",
      "source": [
        "x=load('drive/MyDrive/x.npy')"
      ],
      "metadata": {
        "id": "VUY1BoubGwmF"
      },
      "execution_count": null,
      "outputs": []
    },
    {
      "cell_type": "code",
      "source": [
        "y=load('y.npy')"
      ],
      "metadata": {
        "id": "oAmGcQymG4o5"
      },
      "execution_count": null,
      "outputs": []
    },
    {
      "cell_type": "code",
      "source": [
        "from sklearn.model_selection import train_test_split\n",
        "x_train,x_test,y_train,y_test = train_test_split(x,y,test_size=0.2)"
      ],
      "metadata": {
        "id": "QNxGMUTMG4l7"
      },
      "execution_count": null,
      "outputs": []
    },
    {
      "cell_type": "code",
      "execution_count": null,
      "metadata": {
        "id": "TrLbwxw5FuWv"
      },
      "outputs": [],
      "source": [
        "from keras import models\n",
        "from keras import layers\n",
        "import tensorflow as tf\n",
        "model = models.Sequential()\n",
        "model.add(layers.Conv2D(16, (3,3), activation='relu', input_shape=(250, 250, 1))),\n",
        "model.add(layers.MaxPooling2D(2, 2)),\n",
        "model.add(layers.Conv2D(32, (3,3), activation='relu')),\n",
        "model.add(layers.MaxPooling2D(2,2)),\n",
        "model.add(layers.Conv2D(64, (3,3), activation='relu')),\n",
        "model.add(layers.MaxPooling2D(2,2)),\n",
        "model.add(layers.Conv2D(64, (3,3), activation='relu')),\n",
        "model.add(layers.MaxPooling2D(2,2)),\n",
        "model.add(layers.Conv2D(64, (3,3), activation='relu')),\n",
        "model.add(layers.MaxPooling2D(2,2)),\n",
        "model.add(layers.Flatten()),\n",
        "model.add(layers.Dense(512, activation='relu')),\n",
        "model.add(layers.Dense(1, activation='sigmoid'))"
      ]
    },
    {
      "cell_type": "code",
      "source": [
        "model.compile(optimizer=\"adam\",loss=\"binary_crossentropy\",metrics=[\"accuracy\"])"
      ],
      "metadata": {
        "id": "fjt3OurK2bLy"
      },
      "execution_count": null,
      "outputs": []
    },
    {
      "cell_type": "code",
      "source": [
        "model.fit(x_train, y_train, epochs=20,verbose=1,shuffle = True, validation_data=(x_test,y_test))"
      ],
      "metadata": {
        "colab": {
          "base_uri": "https://localhost:8080/"
        },
        "id": "pbkD3yJEHA9Z",
        "outputId": "9b327990-09ec-4857-90b3-ff300839a206"
      },
      "execution_count": null,
      "outputs": [
        {
          "output_type": "stream",
          "name": "stdout",
          "text": [
            "Epoch 1/20\n",
            "299/299 [==============================] - 289s 963ms/step - loss: 0.6121 - accuracy: 0.6631 - val_loss: 0.5508 - val_accuracy: 0.7224\n",
            "Epoch 2/20\n",
            "299/299 [==============================] - 296s 989ms/step - loss: 0.4894 - accuracy: 0.7570 - val_loss: 0.4446 - val_accuracy: 0.7897\n",
            "Epoch 3/20\n",
            "299/299 [==============================] - 278s 930ms/step - loss: 0.3855 - accuracy: 0.8270 - val_loss: 0.3349 - val_accuracy: 0.8478\n",
            "Epoch 4/20\n",
            "299/299 [==============================] - 267s 894ms/step - loss: 0.2601 - accuracy: 0.8958 - val_loss: 0.2443 - val_accuracy: 0.9026\n",
            "Epoch 5/20\n",
            "299/299 [==============================] - 267s 894ms/step - loss: 0.1708 - accuracy: 0.9341 - val_loss: 0.1669 - val_accuracy: 0.9436\n",
            "Epoch 6/20\n",
            "299/299 [==============================] - 256s 858ms/step - loss: 0.1201 - accuracy: 0.9581 - val_loss: 0.1401 - val_accuracy: 0.9544\n",
            "Epoch 7/20\n",
            "299/299 [==============================] - 254s 848ms/step - loss: 0.0783 - accuracy: 0.9727 - val_loss: 0.1570 - val_accuracy: 0.9561\n",
            "Epoch 8/20\n",
            "299/299 [==============================] - 254s 848ms/step - loss: 0.0526 - accuracy: 0.9826 - val_loss: 0.1246 - val_accuracy: 0.9678\n",
            "Epoch 9/20\n",
            "299/299 [==============================] - 252s 845ms/step - loss: 0.0635 - accuracy: 0.9805 - val_loss: 0.2364 - val_accuracy: 0.9385\n",
            "Epoch 10/20\n",
            "299/299 [==============================] - 252s 844ms/step - loss: 0.0483 - accuracy: 0.9861 - val_loss: 0.0909 - val_accuracy: 0.9808\n",
            "Epoch 11/20\n",
            "299/299 [==============================] - 250s 837ms/step - loss: 0.0498 - accuracy: 0.9841 - val_loss: 0.1454 - val_accuracy: 0.9611\n",
            "Epoch 12/20\n",
            "299/299 [==============================] - 247s 825ms/step - loss: 0.0290 - accuracy: 0.9913 - val_loss: 0.1619 - val_accuracy: 0.9653\n",
            "Epoch 13/20\n",
            "299/299 [==============================] - 246s 824ms/step - loss: 0.0117 - accuracy: 0.9973 - val_loss: 0.0806 - val_accuracy: 0.9783\n",
            "Epoch 14/20\n",
            "299/299 [==============================] - 246s 824ms/step - loss: 0.0109 - accuracy: 0.9978 - val_loss: 0.0875 - val_accuracy: 0.9808\n",
            "Epoch 15/20\n",
            "299/299 [==============================] - 245s 821ms/step - loss: 7.7442e-04 - accuracy: 1.0000 - val_loss: 0.0679 - val_accuracy: 0.9866\n",
            "Epoch 16/20\n",
            "299/299 [==============================] - 243s 814ms/step - loss: 2.8827e-04 - accuracy: 1.0000 - val_loss: 0.0559 - val_accuracy: 0.9887\n",
            "Epoch 17/20\n",
            "299/299 [==============================] - 245s 818ms/step - loss: 0.0457 - accuracy: 0.9858 - val_loss: 0.1161 - val_accuracy: 0.9766\n",
            "Epoch 18/20\n",
            "299/299 [==============================] - 245s 820ms/step - loss: 0.0056 - accuracy: 0.9985 - val_loss: 0.0487 - val_accuracy: 0.9912\n",
            "Epoch 19/20\n",
            "299/299 [==============================] - 243s 814ms/step - loss: 8.0084e-04 - accuracy: 1.0000 - val_loss: 0.0669 - val_accuracy: 0.9883\n",
            "Epoch 20/20\n",
            "299/299 [==============================] - 244s 817ms/step - loss: 2.3702e-04 - accuracy: 1.0000 - val_loss: 0.0623 - val_accuracy: 0.9900\n"
          ]
        },
        {
          "output_type": "execute_result",
          "data": {
            "text/plain": [
              "<keras.callbacks.History at 0x7f68ad8b4450>"
            ]
          },
          "metadata": {},
          "execution_count": 8
        }
      ]
    },
    {
      "cell_type": "code",
      "source": [
        "y_pred=(model.predict(x_test) > 0.5).astype(\"int32\")"
      ],
      "metadata": {
        "id": "lJ44I5vR6UHq"
      },
      "execution_count": null,
      "outputs": []
    },
    {
      "cell_type": "code",
      "source": [
        "from sklearn.metrics import classification_report, confusion_matrix, precision_score"
      ],
      "metadata": {
        "id": "xbBfs-_wdytb"
      },
      "execution_count": null,
      "outputs": []
    },
    {
      "cell_type": "code",
      "source": [
        "print(classification_report(y_test,y_pred))"
      ],
      "metadata": {
        "colab": {
          "base_uri": "https://localhost:8080/"
        },
        "id": "q52LqQ106nIZ",
        "outputId": "07d54e08-c172-4074-9b43-be485c436e73"
      },
      "execution_count": null,
      "outputs": [
        {
          "output_type": "stream",
          "name": "stdout",
          "text": [
            "              precision    recall  f1-score   support\n",
            "\n",
            "           0       1.00      0.98      0.99      1232\n",
            "           1       0.98      1.00      0.99      1160\n",
            "\n",
            "    accuracy                           0.99      2392\n",
            "   macro avg       0.99      0.99      0.99      2392\n",
            "weighted avg       0.99      0.99      0.99      2392\n",
            "\n"
          ]
        }
      ]
    },
    {
      "cell_type": "code",
      "source": [
        "precision_score(\n",
        "y_test,\n",
        "y_pred)"
      ],
      "metadata": {
        "colab": {
          "base_uri": "https://localhost:8080/"
        },
        "id": "GW7fHs__e9oZ",
        "outputId": "18ac37be-b93e-4e28-8385-579f28e9ad17"
      },
      "execution_count": null,
      "outputs": [
        {
          "output_type": "execute_result",
          "data": {
            "text/plain": [
              "0.9797297297297297"
            ]
          },
          "metadata": {},
          "execution_count": 20
        }
      ]
    },
    {
      "cell_type": "code",
      "source": [
        "from mlxtend.plotting import plot_confusion_matrix\n",
        "cm = confusion_matrix(y_test,y_pred)\n",
        "plot_confusion_matrix(conf_mat = cm,figsize=(8,7))"
      ],
      "metadata": {
        "colab": {
          "base_uri": "https://localhost:8080/",
          "height": 477
        },
        "id": "nWW_n-gA7ydM",
        "outputId": "98493ad9-ea44-4178-91f4-0934caaf4744"
      },
      "execution_count": null,
      "outputs": [
        {
          "output_type": "execute_result",
          "data": {
            "text/plain": [
              "(<Figure size 576x504 with 1 Axes>,\n",
              " <matplotlib.axes._subplots.AxesSubplot at 0x7f68a9d74310>)"
            ]
          },
          "metadata": {},
          "execution_count": 15
        },
        {
          "output_type": "display_data",
          "data": {
            "image/png": "[encoded data removed]",
            "text/plain": [
              "<Figure size 576x504 with 1 Axes>"
            ]
          },
          "metadata": {
            "needs_background": "light"
          }
        }
      ]
    },
    {
      "cell_type": "code",
      "source": [
        "model.save('drive/MyDrive/my_model_glaucoma.h5')"
      ],
      "metadata": {
        "id": "BvEI8wSOHwMv"
      },
      "execution_count": null,
      "outputs": []
    },
    {
      "cell_type": "code",
      "source": [
        "##24 falsos postivos y ningun falso negativo, Genial!!"
      ],
      "metadata": {
        "id": "rowOmZEvLCn6"
      },
      "execution_count": null,
      "outputs": []
    },
    {
      "cell_type": "code",
      "source": [
        "drive.flush_and_unmount()"
      ],
      "metadata": {
        "id": "bmLhdzhc7xnt",
        "colab": {
          "base_uri": "https://localhost:8080/"
        },
        "outputId": "6bfd2188-b6cd-469d-ee92-193d6a17d8b0"
      },
      "execution_count": null,
      "outputs": [
        {
          "output_type": "stream",
          "name": "stdout",
          "text": [
            "Drive not mounted, so nothing to flush and unmount.\n"
          ]
        }
      ]
    },
    {
      "cell_type": "code",
      "source": [
        ""
      ],
      "metadata": {
        "id": "EzMs7GjsedrT"
      },
      "execution_count": null,
      "outputs": []
    }
  ]
}