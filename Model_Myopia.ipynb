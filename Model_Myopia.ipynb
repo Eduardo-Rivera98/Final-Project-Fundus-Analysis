{
  "cells": [
    {
      "cell_type": "markdown",
      "metadata": {
        "id": "view-in-github",
        "colab_type": "text"
      },
      "source": [
        "<a href=\"https://colab.research.google.com/github/Eduardo-Rivera98/Final-Project-Fundus-Analysis/blob/main/Model_Myopia.ipynb\" target=\"_parent\"><img src=\"https://colab.research.google.com/assets/colab-badge.svg\" alt=\"Open In Colab\"/></a>"
      ]
    },
    {
      "cell_type": "code",
      "execution_count": null,
      "metadata": {
        "colab": {
          "base_uri": "https://localhost:8080/"
        },
        "id": "sXnDmXR7RDr2",
        "outputId": "9878d282-1b67-4cf3-b1ce-4356d652c127"
      },
      "outputs": [
        {
          "output_type": "stream",
          "name": "stdout",
          "text": [
            "Found GPU at: /device:GPU:0\n"
          ]
        }
      ],
      "source": [
        "%tensorflow_version 2.x\n",
        "import tensorflow as tf\n",
        "device_name = tf.test.gpu_device_name()\n",
        "if device_name != '/device:GPU:0':\n",
        "  raise SystemError('GPU device not found')\n",
        "print('Found GPU at: {}'.format(device_name))"
      ],
      "id": "sXnDmXR7RDr2"
    },
    {
      "cell_type": "code",
      "source": [
        "from google.colab import drive\n",
        "drive.mount('/content/drive')"
      ],
      "metadata": {
        "colab": {
          "base_uri": "https://localhost:8080/"
        },
        "id": "mSOLwAUukMgH",
        "outputId": "a8473dde-585f-463c-ec36-9f63b9c10296"
      },
      "id": "mSOLwAUukMgH",
      "execution_count": null,
      "outputs": [
        {
          "output_type": "stream",
          "name": "stdout",
          "text": [
            "Mounted at /content/drive\n"
          ]
        }
      ]
    },
    {
      "cell_type": "code",
      "source": [
        "from numpy import load"
      ],
      "metadata": {
        "id": "O2F1rHjSOYMh"
      },
      "id": "O2F1rHjSOYMh",
      "execution_count": null,
      "outputs": []
    },
    {
      "cell_type": "code",
      "source": [
        "c=load('drive/MyDrive/x.npy')"
      ],
      "metadata": {
        "id": "M3FOxk4ZoL3z"
      },
      "id": "M3FOxk4ZoL3z",
      "execution_count": null,
      "outputs": []
    },
    {
      "cell_type": "code",
      "source": [
        "y=load('y.npy')"
      ],
      "metadata": {
        "id": "cVmOH0y4o7Tr"
      },
      "id": "cVmOH0y4o7Tr",
      "execution_count": null,
      "outputs": []
    },
    {
      "cell_type": "code",
      "source": [
        "for i in range(len(y)):\n",
        "  if y[i]==5:\n",
        "    y[i]=1"
      ],
      "metadata": {
        "id": "GIKXkRjLpDWe"
      },
      "id": "GIKXkRjLpDWe",
      "execution_count": null,
      "outputs": []
    },
    {
      "cell_type": "code",
      "source": [
        "x=c"
      ],
      "metadata": {
        "id": "RjLuVelwpbyV"
      },
      "id": "RjLuVelwpbyV",
      "execution_count": null,
      "outputs": []
    },
    {
      "cell_type": "code",
      "source": [
        "from sklearn.model_selection import train_test_split\n",
        "x_train,x_test,y_train,y_test = train_test_split(x,y,test_size=0.2)"
      ],
      "metadata": {
        "id": "8vm7exNMDXU2"
      },
      "id": "8vm7exNMDXU2",
      "execution_count": null,
      "outputs": []
    },
    {
      "cell_type": "code",
      "source": [
        "from tensorflow.keras import Sequential\n",
        "from tensorflow.keras.layers import Flatten,Dense, Conv2D\n",
        "model = Sequential()\n",
        "model.add(Conv2D(64, kernel_size=3, activation='relu', input_shape=(250,250,1)))\n",
        "model.add(Conv2D(32, kernel_size=3, activation='relu'))\n",
        "model.add(Flatten())\n",
        "model.add(Dense(64,activation='relu'))\n",
        "model.add(Dense(1,activation=\"sigmoid\"))"
      ],
      "metadata": {
        "id": "kpjsQhmiBmLb"
      },
      "id": "kpjsQhmiBmLb",
      "execution_count": null,
      "outputs": []
    },
    {
      "cell_type": "code",
      "source": [
        "model.compile(optimizer=\"adam\",loss=\"binary_crossentropy\",metrics=[\"accuracy\"])"
      ],
      "metadata": {
        "id": "ykPht6YYCWzY"
      },
      "id": "ykPht6YYCWzY",
      "execution_count": null,
      "outputs": []
    },
    {
      "cell_type": "code",
      "source": [
        "model.fit(x_train, y_train, epochs=5,verbose=1,shuffle = True, validation_data=(x_test,y_test))"
      ],
      "metadata": {
        "id": "hSFcJgCiCiky",
        "colab": {
          "base_uri": "https://localhost:8080/"
        },
        "outputId": "a8472575-3576-42aa-9cd0-0bf1bef30e72"
      },
      "id": "hSFcJgCiCiky",
      "execution_count": null,
      "outputs": [
        {
          "output_type": "stream",
          "name": "stdout",
          "text": [
            "Epoch 1/5\n",
            "124/124 [==============================] - 626s 5s/step - loss: 0.8489 - accuracy: 0.6097 - val_loss: 0.6279 - val_accuracy: 0.6245\n",
            "Epoch 2/5\n",
            "124/124 [==============================] - 632s 5s/step - loss: 0.5820 - accuracy: 0.6897 - val_loss: 0.5727 - val_accuracy: 0.7126\n",
            "Epoch 3/5\n",
            "124/124 [==============================] - 628s 5s/step - loss: 0.5677 - accuracy: 0.7358 - val_loss: 0.4951 - val_accuracy: 0.7834\n",
            "Epoch 4/5\n",
            "124/124 [==============================] - 627s 5s/step - loss: 0.4478 - accuracy: 0.7854 - val_loss: 0.4434 - val_accuracy: 0.7925\n",
            "Epoch 5/5\n",
            "124/124 [==============================] - 627s 5s/step - loss: 0.3867 - accuracy: 0.8236 - val_loss: 0.4161 - val_accuracy: 0.8138\n"
          ]
        },
        {
          "output_type": "execute_result",
          "data": {
            "text/plain": [
              "<keras.callbacks.History at 0x7f791153b5d0>"
            ]
          },
          "metadata": {},
          "execution_count": 11
        }
      ]
    },
    {
      "cell_type": "code",
      "source": [
        "from sklearn.metrics import classification_report"
      ],
      "metadata": {
        "id": "50jRABX764Cj"
      },
      "id": "50jRABX764Cj",
      "execution_count": null,
      "outputs": []
    },
    {
      "cell_type": "code",
      "source": [
        "from sklearn.metrics import confusion_matrix"
      ],
      "metadata": {
        "id": "UYAikS6k7AGS"
      },
      "id": "UYAikS6k7AGS",
      "execution_count": null,
      "outputs": []
    },
    {
      "cell_type": "code",
      "source": [
        "y_pred=(model.predict(x_test) > 0.5).astype(\"int32\")"
      ],
      "metadata": {
        "id": "lJ44I5vR6UHq"
      },
      "id": "lJ44I5vR6UHq",
      "execution_count": null,
      "outputs": []
    },
    {
      "cell_type": "code",
      "source": [
        ""
      ],
      "metadata": {
        "id": "tzzyL_Qw6fFL"
      },
      "id": "tzzyL_Qw6fFL",
      "execution_count": null,
      "outputs": []
    },
    {
      "cell_type": "code",
      "source": [
        "print(classification_report(y_test,y_pred))"
      ],
      "metadata": {
        "colab": {
          "base_uri": "https://localhost:8080/"
        },
        "id": "q52LqQ106nIZ",
        "outputId": "de806f43-02d1-49ab-a808-ba4476eb7f1c"
      },
      "id": "q52LqQ106nIZ",
      "execution_count": null,
      "outputs": [
        {
          "output_type": "stream",
          "name": "stdout",
          "text": [
            "              precision    recall  f1-score   support\n",
            "\n",
            "           0       0.78      0.77      0.78       413\n",
            "           1       0.84      0.85      0.84       575\n",
            "\n",
            "    accuracy                           0.81       988\n",
            "   macro avg       0.81      0.81      0.81       988\n",
            "weighted avg       0.81      0.81      0.81       988\n",
            "\n"
          ]
        }
      ]
    },
    {
      "cell_type": "code",
      "source": [
        "from mlxtend.plotting import plot_confusion_matrix\n",
        "cm = confusion_matrix(y_test,y_pred)\n",
        "plot_confusion_matrix(conf_mat = cm,figsize=(8,7))"
      ],
      "metadata": {
        "colab": {
          "base_uri": "https://localhost:8080/",
          "height": 477
        },
        "id": "nWW_n-gA7ydM",
        "outputId": "3368152d-2f5b-417f-b36b-eeaa869cf71d"
      },
      "id": "nWW_n-gA7ydM",
      "execution_count": null,
      "outputs": [
        {
          "output_type": "execute_result",
          "data": {
            "text/plain": [
              "(<Figure size 576x504 with 1 Axes>,\n",
              " <matplotlib.axes._subplots.AxesSubplot at 0x7f790db18910>)"
            ]
          },
          "metadata": {},
          "execution_count": 18
        },
        {
          "output_type": "display_data",
          "data": {
            "image/png": "[encoded data removed]",
            "text/plain": [
              "<Figure size 576x504 with 1 Axes>"
            ]
          },
          "metadata": {
            "needs_background": "light"
          }
        }
      ]
    },
    {
      "cell_type": "code",
      "source": [
        "model.save('drive/MyDrive/my_model_myopia.h5')"
      ],
      "metadata": {
        "id": "2grTMzzB62l8"
      },
      "id": "2grTMzzB62l8",
      "execution_count": null,
      "outputs": []
    },
    {
      "cell_type": "code",
      "source": [
        "drive.flush_and_unmount()"
      ],
      "metadata": {
        "id": "bmLhdzhc7xnt"
      },
      "id": "bmLhdzhc7xnt",
      "execution_count": null,
      "outputs": []
    }
  ],
  "metadata": {
    "colab": {
      "name": "Model_Myopia",
      "provenance": [],
      "machine_shape": "hm",
      "collapsed_sections": [],
      "include_colab_link": true
    },
    "language_info": {
      "name": "python"
    },
    "kernelspec": {
      "name": "python3",
      "display_name": "Python 3"
    }
  },
  "nbformat": 4,
  "nbformat_minor": 5
}